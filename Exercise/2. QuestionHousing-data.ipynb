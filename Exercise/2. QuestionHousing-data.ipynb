{
 "cells": [
  {
   "cell_type": "markdown",
   "id": "1e383507",
   "metadata": {},
   "source": [
    "<div style=\"padding:20px;\n",
    "            color:white;\n",
    "            margin:10;\n",
    "            font-size:170%;\n",
    "            text-align:left;\n",
    "            display:fill;\n",
    "            border-radius:5px;\n",
    "            background-color:#CA6F1E;\n",
    "            overflow:hidden;\n",
    "            font-weight:700\"><span style='color:#283747'></span>\"Plan\" </div>"
   ]
  },
  {
   "cell_type": "markdown",
   "id": "e51a0ce1-a4af-456d-a98a-04135b6be4be",
   "metadata": {},
   "source": [
    "### Objective \n",
    "To compare the housing market trends over time(period_begin) between Los Angeles and San Francisco."
   ]
  },
  {
   "cell_type": "code",
   "execution_count": 5,
   "id": "6dabbad3",
   "metadata": {},
   "outputs": [],
   "source": [
    "import pandas as pd\n",
    "import numpy as np\n",
    "import matplotlib.pyplot as plt\n",
    "import seaborn as sns\n"
   ]
  },
  {
   "cell_type": "markdown",
   "id": "9c7defb9-7c46-4faf-9464-f6f6ae421546",
   "metadata": {},
   "source": [
    "- [1. Exploring The Dataset](#a)\n",
    "    - [1.1 Load The Datset](#1.1)\n",
    "    - [1.2 Data Description](#1.2)\n",
    "- [2. Data Cleaning](#2)\n",
    "    - [2.1 Missing Value](#2.1)\n",
    "    - [2.2 Duplicated](#2.2)\n",
    "    - [2.3 Outliter](#2.3)\n",
    "    \n",
    "- [Q&A](#3)"
   ]
  },
  {
   "cell_type": "markdown",
   "id": "6d7333a3",
   "metadata": {},
   "source": [
    "<!-- 1. Display rows with odd indices in the dataset.\n",
    "2. Display rows with even indices in the dataset.\n",
    "3. \n",
    "\n",
    "    a. Check Datatype of Each Column\n",
    "\n",
    "    b. How many rows and columns are there in our Dataset?\n",
    "    \n",
    "4. \n",
    "- Which columns in the dataset contain missing values, and how many missing values are in each?\n",
    "- What is the percentage of missing values in each column?\n",
    "- Please remove it\n",
    "\n",
    "5. Highest and Lowest Purchase Prices(columns 'median_active_list_price').\n",
    "6. Display rows that `n%7 =0` and twos columns `['median_active_list_price', 'months_of_supply']`.\n",
    "7. How many county (State in USA) are provided California (CA) in dataset, and show County ?\n",
    "8. How many regions are provided for specific states like Virginia (VA), Tennessee (TN), District of Columbia (DC), California (CA), etc.?\n",
    "9. \n",
    "\n",
    "    a. Calculate the age of each home (subtract 'period_begin' from 'period_end').\n",
    "    \n",
    "    b. Create a new column to store the result from 9a.\n",
    "    \n",
    "10. Delete columns that are not important to us, such as: \n",
    "```py\n",
    "['period_begin', 'period_end', 'total_homes_sold',\n",
    "       'inventory', 'active_listings', 'age_of_inventory']\n",
    "\n",
    "```\n",
    "\n",
    " -->"
   ]
  },
  {
   "cell_type": "markdown",
   "id": "3fa7c34b-95be-4e79-bcea-b30fd8d4c730",
   "metadata": {},
   "source": [
    "### 1. Exploring the Dataset"
   ]
  },
  {
   "cell_type": "markdown",
   "id": "3a711356-8055-4ba0-b460-b53a086c884a",
   "metadata": {},
   "source": [
    "#### 1.1 Load the Dataset"
   ]
  },
  {
   "cell_type": "code",
   "execution_count": 6,
   "id": "e1ca71d1",
   "metadata": {},
   "outputs": [],
   "source": [
    "df = pd.read_csv('/Users/macbook/Documents/GitHub/Python_for_Data-Science-AI-/Dataset/housing_data.csv')"
   ]
  },
  {
   "cell_type": "code",
   "execution_count": 8,
   "id": "4b1cb10a-76c5-4a74-8fae-e6e97be85233",
   "metadata": {},
   "outputs": [
    {
     "data": {
      "text/html": [
       "<div>\n",
       "<style scoped>\n",
       "    .dataframe tbody tr th:only-of-type {\n",
       "        vertical-align: middle;\n",
       "    }\n",
       "\n",
       "    .dataframe tbody tr th {\n",
       "        vertical-align: top;\n",
       "    }\n",
       "\n",
       "    .dataframe thead th {\n",
       "        text-align: right;\n",
       "    }\n",
       "</style>\n",
       "<table border=\"1\" class=\"dataframe\">\n",
       "  <thead>\n",
       "    <tr style=\"text-align: right;\">\n",
       "      <th></th>\n",
       "      <th>region_name</th>\n",
       "      <th>period_begin</th>\n",
       "      <th>period_end</th>\n",
       "      <th>total_homes_sold</th>\n",
       "      <th>inventory</th>\n",
       "      <th>active_listings</th>\n",
       "      <th>age_of_inventory</th>\n",
       "      <th>median_active_list_price</th>\n",
       "      <th>months_of_supply</th>\n",
       "    </tr>\n",
       "  </thead>\n",
       "  <tbody>\n",
       "    <tr>\n",
       "      <th>0</th>\n",
       "      <td>Appling County, GA</td>\n",
       "      <td>2020-04-27</td>\n",
       "      <td>2020-07-19</td>\n",
       "      <td>NaN</td>\n",
       "      <td>1.0</td>\n",
       "      <td>1.0</td>\n",
       "      <td>222.7</td>\n",
       "      <td>136195.8</td>\n",
       "      <td>NaN</td>\n",
       "    </tr>\n",
       "    <tr>\n",
       "      <th>1</th>\n",
       "      <td>Tooele County, UT</td>\n",
       "      <td>2018-08-27</td>\n",
       "      <td>2018-11-18</td>\n",
       "      <td>325.0</td>\n",
       "      <td>NaN</td>\n",
       "      <td>NaN</td>\n",
       "      <td>NaN</td>\n",
       "      <td>NaN</td>\n",
       "      <td>NaN</td>\n",
       "    </tr>\n",
       "    <tr>\n",
       "      <th>2</th>\n",
       "      <td>Johnson County, TX</td>\n",
       "      <td>2019-09-23</td>\n",
       "      <td>2019-12-15</td>\n",
       "      <td>577.0</td>\n",
       "      <td>717.0</td>\n",
       "      <td>778.0</td>\n",
       "      <td>63.0</td>\n",
       "      <td>268737.6</td>\n",
       "      <td>17.095583</td>\n",
       "    </tr>\n",
       "    <tr>\n",
       "      <th>3</th>\n",
       "      <td>Holmes County, OH</td>\n",
       "      <td>2017-10-09</td>\n",
       "      <td>2017-12-31</td>\n",
       "      <td>22.0</td>\n",
       "      <td>52.0</td>\n",
       "      <td>54.0</td>\n",
       "      <td>109.4</td>\n",
       "      <td>115308.3</td>\n",
       "      <td>34.050000</td>\n",
       "    </tr>\n",
       "    <tr>\n",
       "      <th>4</th>\n",
       "      <td>Madison County, FL</td>\n",
       "      <td>2017-01-09</td>\n",
       "      <td>2017-04-02</td>\n",
       "      <td>12.0</td>\n",
       "      <td>54.0</td>\n",
       "      <td>55.0</td>\n",
       "      <td>151.2</td>\n",
       "      <td>158062.5</td>\n",
       "      <td>38.300000</td>\n",
       "    </tr>\n",
       "  </tbody>\n",
       "</table>\n",
       "</div>"
      ],
      "text/plain": [
       "          region_name period_begin  period_end  total_homes_sold  inventory  \\\n",
       "0  Appling County, GA   2020-04-27  2020-07-19               NaN        1.0   \n",
       "1   Tooele County, UT   2018-08-27  2018-11-18             325.0        NaN   \n",
       "2  Johnson County, TX   2019-09-23  2019-12-15             577.0      717.0   \n",
       "3   Holmes County, OH   2017-10-09  2017-12-31              22.0       52.0   \n",
       "4  Madison County, FL   2017-01-09  2017-04-02              12.0       54.0   \n",
       "\n",
       "   active_listings  age_of_inventory  median_active_list_price  \\\n",
       "0              1.0             222.7                  136195.8   \n",
       "1              NaN               NaN                       NaN   \n",
       "2            778.0              63.0                  268737.6   \n",
       "3             54.0             109.4                  115308.3   \n",
       "4             55.0             151.2                  158062.5   \n",
       "\n",
       "   months_of_supply  \n",
       "0               NaN  \n",
       "1               NaN  \n",
       "2         17.095583  \n",
       "3         34.050000  \n",
       "4         38.300000  "
      ]
     },
     "execution_count": 8,
     "metadata": {},
     "output_type": "execute_result"
    }
   ],
   "source": [
    "df.head()"
   ]
  },
  {
   "cell_type": "markdown",
   "id": "ac6a7d1d-f1b7-4738-8d5d-a37c8bdb8b23",
   "metadata": {},
   "source": [
    "#### 1.2 Data Description or Data  inspection"
   ]
  },
  {
   "cell_type": "code",
   "execution_count": 7,
   "id": "4e1ff96b-36f9-4d1a-9270-4fffcb18c923",
   "metadata": {},
   "outputs": [],
   "source": [
    "###Display Top Rows"
   ]
  },
  {
   "cell_type": "code",
   "execution_count": 9,
   "id": "fda94e72-8f11-45cd-bb61-1c47bdd8a97c",
   "metadata": {},
   "outputs": [
    {
     "data": {
      "text/html": [
       "<div>\n",
       "<style scoped>\n",
       "    .dataframe tbody tr th:only-of-type {\n",
       "        vertical-align: middle;\n",
       "    }\n",
       "\n",
       "    .dataframe tbody tr th {\n",
       "        vertical-align: top;\n",
       "    }\n",
       "\n",
       "    .dataframe thead th {\n",
       "        text-align: right;\n",
       "    }\n",
       "</style>\n",
       "<table border=\"1\" class=\"dataframe\">\n",
       "  <thead>\n",
       "    <tr style=\"text-align: right;\">\n",
       "      <th></th>\n",
       "      <th>region_name</th>\n",
       "      <th>period_begin</th>\n",
       "      <th>period_end</th>\n",
       "      <th>total_homes_sold</th>\n",
       "      <th>inventory</th>\n",
       "      <th>active_listings</th>\n",
       "      <th>age_of_inventory</th>\n",
       "      <th>median_active_list_price</th>\n",
       "      <th>months_of_supply</th>\n",
       "    </tr>\n",
       "  </thead>\n",
       "  <tbody>\n",
       "    <tr>\n",
       "      <th>0</th>\n",
       "      <td>Appling County, GA</td>\n",
       "      <td>2020-04-27</td>\n",
       "      <td>2020-07-19</td>\n",
       "      <td>NaN</td>\n",
       "      <td>1.0</td>\n",
       "      <td>1.0</td>\n",
       "      <td>222.7</td>\n",
       "      <td>136195.8</td>\n",
       "      <td>NaN</td>\n",
       "    </tr>\n",
       "    <tr>\n",
       "      <th>1</th>\n",
       "      <td>Tooele County, UT</td>\n",
       "      <td>2018-08-27</td>\n",
       "      <td>2018-11-18</td>\n",
       "      <td>325.0</td>\n",
       "      <td>NaN</td>\n",
       "      <td>NaN</td>\n",
       "      <td>NaN</td>\n",
       "      <td>NaN</td>\n",
       "      <td>NaN</td>\n",
       "    </tr>\n",
       "    <tr>\n",
       "      <th>2</th>\n",
       "      <td>Johnson County, TX</td>\n",
       "      <td>2019-09-23</td>\n",
       "      <td>2019-12-15</td>\n",
       "      <td>577.0</td>\n",
       "      <td>717.0</td>\n",
       "      <td>778.0</td>\n",
       "      <td>63.0</td>\n",
       "      <td>268737.6</td>\n",
       "      <td>17.095583</td>\n",
       "    </tr>\n",
       "    <tr>\n",
       "      <th>3</th>\n",
       "      <td>Holmes County, OH</td>\n",
       "      <td>2017-10-09</td>\n",
       "      <td>2017-12-31</td>\n",
       "      <td>22.0</td>\n",
       "      <td>52.0</td>\n",
       "      <td>54.0</td>\n",
       "      <td>109.4</td>\n",
       "      <td>115308.3</td>\n",
       "      <td>34.050000</td>\n",
       "    </tr>\n",
       "    <tr>\n",
       "      <th>4</th>\n",
       "      <td>Madison County, FL</td>\n",
       "      <td>2017-01-09</td>\n",
       "      <td>2017-04-02</td>\n",
       "      <td>12.0</td>\n",
       "      <td>54.0</td>\n",
       "      <td>55.0</td>\n",
       "      <td>151.2</td>\n",
       "      <td>158062.5</td>\n",
       "      <td>38.300000</td>\n",
       "    </tr>\n",
       "  </tbody>\n",
       "</table>\n",
       "</div>"
      ],
      "text/plain": [
       "          region_name period_begin  period_end  total_homes_sold  inventory  \\\n",
       "0  Appling County, GA   2020-04-27  2020-07-19               NaN        1.0   \n",
       "1   Tooele County, UT   2018-08-27  2018-11-18             325.0        NaN   \n",
       "2  Johnson County, TX   2019-09-23  2019-12-15             577.0      717.0   \n",
       "3   Holmes County, OH   2017-10-09  2017-12-31              22.0       52.0   \n",
       "4  Madison County, FL   2017-01-09  2017-04-02              12.0       54.0   \n",
       "\n",
       "   active_listings  age_of_inventory  median_active_list_price  \\\n",
       "0              1.0             222.7                  136195.8   \n",
       "1              NaN               NaN                       NaN   \n",
       "2            778.0              63.0                  268737.6   \n",
       "3             54.0             109.4                  115308.3   \n",
       "4             55.0             151.2                  158062.5   \n",
       "\n",
       "   months_of_supply  \n",
       "0               NaN  \n",
       "1               NaN  \n",
       "2         17.095583  \n",
       "3         34.050000  \n",
       "4         38.300000  "
      ]
     },
     "execution_count": 9,
     "metadata": {},
     "output_type": "execute_result"
    }
   ],
   "source": [
    "df.head()"
   ]
  },
  {
   "cell_type": "code",
   "execution_count": 10,
   "id": "8e9555ed-23b9-4d2b-9d95-cfeb42acc6c1",
   "metadata": {},
   "outputs": [],
   "source": [
    "### Display Bottom Rows"
   ]
  },
  {
   "cell_type": "code",
   "execution_count": 11,
   "id": "e82e78ea-d07c-4ea0-91cf-91e84cb9c2ec",
   "metadata": {},
   "outputs": [
    {
     "data": {
      "text/html": [
       "<div>\n",
       "<style scoped>\n",
       "    .dataframe tbody tr th:only-of-type {\n",
       "        vertical-align: middle;\n",
       "    }\n",
       "\n",
       "    .dataframe tbody tr th {\n",
       "        vertical-align: top;\n",
       "    }\n",
       "\n",
       "    .dataframe thead th {\n",
       "        text-align: right;\n",
       "    }\n",
       "</style>\n",
       "<table border=\"1\" class=\"dataframe\">\n",
       "  <thead>\n",
       "    <tr style=\"text-align: right;\">\n",
       "      <th></th>\n",
       "      <th>region_name</th>\n",
       "      <th>period_begin</th>\n",
       "      <th>period_end</th>\n",
       "      <th>total_homes_sold</th>\n",
       "      <th>inventory</th>\n",
       "      <th>active_listings</th>\n",
       "      <th>age_of_inventory</th>\n",
       "      <th>median_active_list_price</th>\n",
       "      <th>months_of_supply</th>\n",
       "    </tr>\n",
       "  </thead>\n",
       "  <tbody>\n",
       "    <tr>\n",
       "      <th>622334</th>\n",
       "      <td>Washita County, OK</td>\n",
       "      <td>2019-11-25</td>\n",
       "      <td>2020-02-16</td>\n",
       "      <td>NaN</td>\n",
       "      <td>4.0</td>\n",
       "      <td>4.0</td>\n",
       "      <td>133.0</td>\n",
       "      <td>46650.0</td>\n",
       "      <td>NaN</td>\n",
       "    </tr>\n",
       "    <tr>\n",
       "      <th>622335</th>\n",
       "      <td>Gray County, TX</td>\n",
       "      <td>2019-02-25</td>\n",
       "      <td>2019-05-19</td>\n",
       "      <td>NaN</td>\n",
       "      <td>1.0</td>\n",
       "      <td>1.0</td>\n",
       "      <td>180.5</td>\n",
       "      <td>62500.0</td>\n",
       "      <td>NaN</td>\n",
       "    </tr>\n",
       "    <tr>\n",
       "      <th>622336</th>\n",
       "      <td>Custer County, OK</td>\n",
       "      <td>2020-02-24</td>\n",
       "      <td>2020-05-17</td>\n",
       "      <td>NaN</td>\n",
       "      <td>15.0</td>\n",
       "      <td>15.0</td>\n",
       "      <td>52.7</td>\n",
       "      <td>130120.8</td>\n",
       "      <td>NaN</td>\n",
       "    </tr>\n",
       "    <tr>\n",
       "      <th>622337</th>\n",
       "      <td>Choctaw County, MS</td>\n",
       "      <td>2019-12-30</td>\n",
       "      <td>2020-03-22</td>\n",
       "      <td>NaN</td>\n",
       "      <td>2.0</td>\n",
       "      <td>3.0</td>\n",
       "      <td>46.0</td>\n",
       "      <td>115268.7</td>\n",
       "      <td>NaN</td>\n",
       "    </tr>\n",
       "    <tr>\n",
       "      <th>622338</th>\n",
       "      <td>Morehouse Parish, LA</td>\n",
       "      <td>2022-02-14</td>\n",
       "      <td>2022-05-08</td>\n",
       "      <td>NaN</td>\n",
       "      <td>30.0</td>\n",
       "      <td>33.0</td>\n",
       "      <td>59.7</td>\n",
       "      <td>139979.1</td>\n",
       "      <td>NaN</td>\n",
       "    </tr>\n",
       "  </tbody>\n",
       "</table>\n",
       "</div>"
      ],
      "text/plain": [
       "                 region_name period_begin  period_end  total_homes_sold  \\\n",
       "622334    Washita County, OK   2019-11-25  2020-02-16               NaN   \n",
       "622335       Gray County, TX   2019-02-25  2019-05-19               NaN   \n",
       "622336     Custer County, OK   2020-02-24  2020-05-17               NaN   \n",
       "622337    Choctaw County, MS   2019-12-30  2020-03-22               NaN   \n",
       "622338  Morehouse Parish, LA   2022-02-14  2022-05-08               NaN   \n",
       "\n",
       "        inventory  active_listings  age_of_inventory  \\\n",
       "622334        4.0              4.0             133.0   \n",
       "622335        1.0              1.0             180.5   \n",
       "622336       15.0             15.0              52.7   \n",
       "622337        2.0              3.0              46.0   \n",
       "622338       30.0             33.0              59.7   \n",
       "\n",
       "        median_active_list_price  months_of_supply  \n",
       "622334                   46650.0               NaN  \n",
       "622335                   62500.0               NaN  \n",
       "622336                  130120.8               NaN  \n",
       "622337                  115268.7               NaN  \n",
       "622338                  139979.1               NaN  "
      ]
     },
     "execution_count": 11,
     "metadata": {},
     "output_type": "execute_result"
    }
   ],
   "source": [
    "df.tail()"
   ]
  },
  {
   "cell_type": "code",
   "execution_count": 12,
   "id": "4daba0fb-8561-4640-beee-2742d122e535",
   "metadata": {},
   "outputs": [],
   "source": [
    "### Check name columns of our dataset"
   ]
  },
  {
   "cell_type": "code",
   "execution_count": 13,
   "id": "53a203af",
   "metadata": {},
   "outputs": [
    {
     "data": {
      "text/plain": [
       "Index(['region_name', 'period_begin', 'period_end', 'total_homes_sold',\n",
       "       'inventory', 'active_listings', 'age_of_inventory',\n",
       "       'median_active_list_price', 'months_of_supply'],\n",
       "      dtype='object')"
      ]
     },
     "execution_count": 13,
     "metadata": {},
     "output_type": "execute_result"
    }
   ],
   "source": [
    "df.columns"
   ]
  },
  {
   "cell_type": "code",
   "execution_count": 14,
   "id": "787081a8",
   "metadata": {},
   "outputs": [
    {
     "data": {
      "text/html": [
       "<div>\n",
       "<style scoped>\n",
       "    .dataframe tbody tr th:only-of-type {\n",
       "        vertical-align: middle;\n",
       "    }\n",
       "\n",
       "    .dataframe tbody tr th {\n",
       "        vertical-align: top;\n",
       "    }\n",
       "\n",
       "    .dataframe thead th {\n",
       "        text-align: right;\n",
       "    }\n",
       "</style>\n",
       "<table border=\"1\" class=\"dataframe\">\n",
       "  <thead>\n",
       "    <tr style=\"text-align: right;\">\n",
       "      <th></th>\n",
       "      <th>median_active_list_price</th>\n",
       "      <th>months_of_supply</th>\n",
       "    </tr>\n",
       "  </thead>\n",
       "  <tbody>\n",
       "    <tr>\n",
       "      <th>0</th>\n",
       "      <td>136195.8</td>\n",
       "      <td>NaN</td>\n",
       "    </tr>\n",
       "    <tr>\n",
       "      <th>7</th>\n",
       "      <td>152850.0</td>\n",
       "      <td>11.700912</td>\n",
       "    </tr>\n",
       "    <tr>\n",
       "      <th>14</th>\n",
       "      <td>464357.2</td>\n",
       "      <td>4.961007</td>\n",
       "    </tr>\n",
       "    <tr>\n",
       "      <th>21</th>\n",
       "      <td>95816.6</td>\n",
       "      <td>16.777778</td>\n",
       "    </tr>\n",
       "    <tr>\n",
       "      <th>28</th>\n",
       "      <td>198904.1</td>\n",
       "      <td>8.175049</td>\n",
       "    </tr>\n",
       "    <tr>\n",
       "      <th>...</th>\n",
       "      <td>...</td>\n",
       "      <td>...</td>\n",
       "    </tr>\n",
       "    <tr>\n",
       "      <th>622307</th>\n",
       "      <td>82983.3</td>\n",
       "      <td>12.500000</td>\n",
       "    </tr>\n",
       "    <tr>\n",
       "      <th>622314</th>\n",
       "      <td>2975000.0</td>\n",
       "      <td>NaN</td>\n",
       "    </tr>\n",
       "    <tr>\n",
       "      <th>622321</th>\n",
       "      <td>351450.0</td>\n",
       "      <td>NaN</td>\n",
       "    </tr>\n",
       "    <tr>\n",
       "      <th>622328</th>\n",
       "      <td>130000.0</td>\n",
       "      <td>NaN</td>\n",
       "    </tr>\n",
       "    <tr>\n",
       "      <th>622335</th>\n",
       "      <td>62500.0</td>\n",
       "      <td>NaN</td>\n",
       "    </tr>\n",
       "  </tbody>\n",
       "</table>\n",
       "<p>88906 rows × 2 columns</p>\n",
       "</div>"
      ],
      "text/plain": [
       "        median_active_list_price  months_of_supply\n",
       "0                       136195.8               NaN\n",
       "7                       152850.0         11.700912\n",
       "14                      464357.2          4.961007\n",
       "21                       95816.6         16.777778\n",
       "28                      198904.1          8.175049\n",
       "...                          ...               ...\n",
       "622307                   82983.3         12.500000\n",
       "622314                 2975000.0               NaN\n",
       "622321                  351450.0               NaN\n",
       "622328                  130000.0               NaN\n",
       "622335                   62500.0               NaN\n",
       "\n",
       "[88906 rows x 2 columns]"
      ]
     },
     "execution_count": 14,
     "metadata": {},
     "output_type": "execute_result"
    }
   ],
   "source": [
    "df.loc[::7, ['median_active_list_price', 'months_of_supply']]"
   ]
  },
  {
   "cell_type": "code",
   "execution_count": 15,
   "id": "e09076aa-8ac9-4036-a954-5785363b6ff0",
   "metadata": {},
   "outputs": [
    {
     "data": {
      "text/plain": [
       "region_name                  object\n",
       "period_begin                 object\n",
       "period_end                   object\n",
       "total_homes_sold            float64\n",
       "inventory                   float64\n",
       "active_listings             float64\n",
       "age_of_inventory            float64\n",
       "median_active_list_price    float64\n",
       "months_of_supply            float64\n",
       "dtype: object"
      ]
     },
     "execution_count": 15,
     "metadata": {},
     "output_type": "execute_result"
    }
   ],
   "source": [
    "df.dtypes"
   ]
  },
  {
   "cell_type": "code",
   "execution_count": 16,
   "id": "c3b66108-df87-4bdc-9420-8fa034a8f436",
   "metadata": {},
   "outputs": [
    {
     "name": "stdout",
     "output_type": "stream",
     "text": [
      "<class 'pandas.core.frame.DataFrame'>\n",
      "RangeIndex: 622339 entries, 0 to 622338\n",
      "Data columns (total 9 columns):\n",
      " #   Column                    Non-Null Count   Dtype  \n",
      "---  ------                    --------------   -----  \n",
      " 0   region_name               622339 non-null  object \n",
      " 1   period_begin              622339 non-null  object \n",
      " 2   period_end                622339 non-null  object \n",
      " 3   total_homes_sold          567839 non-null  float64\n",
      " 4   inventory                 616247 non-null  float64\n",
      " 5   active_listings           616905 non-null  float64\n",
      " 6   age_of_inventory          616247 non-null  float64\n",
      " 7   median_active_list_price  616513 non-null  float64\n",
      " 8   months_of_supply          561319 non-null  float64\n",
      "dtypes: float64(6), object(3)\n",
      "memory usage: 42.7+ MB\n"
     ]
    }
   ],
   "source": [
    "df.info()"
   ]
  },
  {
   "cell_type": "code",
   "execution_count": 17,
   "id": "37651ad6-a52a-4ed8-9885-802c9d3d1e17",
   "metadata": {},
   "outputs": [
    {
     "data": {
      "text/html": [
       "<div>\n",
       "<style scoped>\n",
       "    .dataframe tbody tr th:only-of-type {\n",
       "        vertical-align: middle;\n",
       "    }\n",
       "\n",
       "    .dataframe tbody tr th {\n",
       "        vertical-align: top;\n",
       "    }\n",
       "\n",
       "    .dataframe thead th {\n",
       "        text-align: right;\n",
       "    }\n",
       "</style>\n",
       "<table border=\"1\" class=\"dataframe\">\n",
       "  <thead>\n",
       "    <tr style=\"text-align: right;\">\n",
       "      <th></th>\n",
       "      <th>total_homes_sold</th>\n",
       "      <th>inventory</th>\n",
       "      <th>active_listings</th>\n",
       "      <th>age_of_inventory</th>\n",
       "      <th>median_active_list_price</th>\n",
       "      <th>months_of_supply</th>\n",
       "    </tr>\n",
       "  </thead>\n",
       "  <tbody>\n",
       "    <tr>\n",
       "      <th>count</th>\n",
       "      <td>567839.000000</td>\n",
       "      <td>616247.000000</td>\n",
       "      <td>616905.000000</td>\n",
       "      <td>616247.000000</td>\n",
       "      <td>6.165130e+05</td>\n",
       "      <td>561319.000000</td>\n",
       "    </tr>\n",
       "    <tr>\n",
       "      <th>mean</th>\n",
       "      <td>465.184219</td>\n",
       "      <td>415.449284</td>\n",
       "      <td>454.787632</td>\n",
       "      <td>76.823044</td>\n",
       "      <td>2.712133e+05</td>\n",
       "      <td>18.894937</td>\n",
       "    </tr>\n",
       "    <tr>\n",
       "      <th>std</th>\n",
       "      <td>1216.840272</td>\n",
       "      <td>1176.440133</td>\n",
       "      <td>1278.428643</td>\n",
       "      <td>42.818934</td>\n",
       "      <td>4.375623e+06</td>\n",
       "      <td>29.910629</td>\n",
       "    </tr>\n",
       "    <tr>\n",
       "      <th>min</th>\n",
       "      <td>1.000000</td>\n",
       "      <td>1.000000</td>\n",
       "      <td>1.000000</td>\n",
       "      <td>0.000000</td>\n",
       "      <td>1.258500e+03</td>\n",
       "      <td>0.025958</td>\n",
       "    </tr>\n",
       "    <tr>\n",
       "      <th>25%</th>\n",
       "      <td>17.000000</td>\n",
       "      <td>18.000000</td>\n",
       "      <td>19.000000</td>\n",
       "      <td>48.900000</td>\n",
       "      <td>1.406041e+05</td>\n",
       "      <td>9.663503</td>\n",
       "    </tr>\n",
       "    <tr>\n",
       "      <th>50%</th>\n",
       "      <td>77.000000</td>\n",
       "      <td>79.000000</td>\n",
       "      <td>85.000000</td>\n",
       "      <td>68.100000</td>\n",
       "      <td>2.038583e+05</td>\n",
       "      <td>15.471320</td>\n",
       "    </tr>\n",
       "    <tr>\n",
       "      <th>75%</th>\n",
       "      <td>344.000000</td>\n",
       "      <td>312.000000</td>\n",
       "      <td>341.000000</td>\n",
       "      <td>93.300000</td>\n",
       "      <td>2.960407e+05</td>\n",
       "      <td>23.408333</td>\n",
       "    </tr>\n",
       "    <tr>\n",
       "      <th>max</th>\n",
       "      <td>24385.000000</td>\n",
       "      <td>23357.000000</td>\n",
       "      <td>25012.000000</td>\n",
       "      <td>365.000000</td>\n",
       "      <td>1.000000e+09</td>\n",
       "      <td>1849.000000</td>\n",
       "    </tr>\n",
       "  </tbody>\n",
       "</table>\n",
       "</div>"
      ],
      "text/plain": [
       "       total_homes_sold      inventory  active_listings  age_of_inventory  \\\n",
       "count     567839.000000  616247.000000    616905.000000     616247.000000   \n",
       "mean         465.184219     415.449284       454.787632         76.823044   \n",
       "std         1216.840272    1176.440133      1278.428643         42.818934   \n",
       "min            1.000000       1.000000         1.000000          0.000000   \n",
       "25%           17.000000      18.000000        19.000000         48.900000   \n",
       "50%           77.000000      79.000000        85.000000         68.100000   \n",
       "75%          344.000000     312.000000       341.000000         93.300000   \n",
       "max        24385.000000   23357.000000     25012.000000        365.000000   \n",
       "\n",
       "       median_active_list_price  months_of_supply  \n",
       "count              6.165130e+05     561319.000000  \n",
       "mean               2.712133e+05         18.894937  \n",
       "std                4.375623e+06         29.910629  \n",
       "min                1.258500e+03          0.025958  \n",
       "25%                1.406041e+05          9.663503  \n",
       "50%                2.038583e+05         15.471320  \n",
       "75%                2.960407e+05         23.408333  \n",
       "max                1.000000e+09       1849.000000  "
      ]
     },
     "execution_count": 17,
     "metadata": {},
     "output_type": "execute_result"
    }
   ],
   "source": [
    "df.describe()"
   ]
  },
  {
   "cell_type": "code",
   "execution_count": 18,
   "id": "0ebc341a",
   "metadata": {},
   "outputs": [],
   "source": [
    "# display_divied_7 = df.loc[0::7,['median_active_list_price','months_of_supply']]"
   ]
  },
  {
   "cell_type": "markdown",
   "id": "b76e036c-9196-47f6-9f2c-63c4c0f919e0",
   "metadata": {},
   "source": [
    "### 2. Data Cleaning\n",
    "#### 2.1 Missing values\n",
    "\n",
    "- Check for Missing Values: `df.isnull().sum()`\n",
    "\n",
    "- Fill Missing Values: `df.fillna(value)`\n",
    "\n",
    "- Drop Missing Values: `df.dropna()`\n",
    "\n"
   ]
  },
  {
   "cell_type": "code",
   "execution_count": 19,
   "id": "4f3b18a5-31b8-415f-9d21-89542ddc8c4b",
   "metadata": {},
   "outputs": [
    {
     "data": {
      "text/plain": [
       "region_name                     0\n",
       "period_begin                    0\n",
       "period_end                      0\n",
       "total_homes_sold            54500\n",
       "inventory                    6092\n",
       "active_listings              5434\n",
       "age_of_inventory             6092\n",
       "median_active_list_price     5826\n",
       "months_of_supply            61020\n",
       "dtype: int64"
      ]
     },
     "execution_count": 19,
     "metadata": {},
     "output_type": "execute_result"
    }
   ],
   "source": [
    "### Check for missing values:\n",
    "df.isnull().sum()"
   ]
  },
  {
   "cell_type": "code",
   "execution_count": 20,
   "id": "0061c833-233d-42a5-9c19-4062d5e7ff34",
   "metadata": {},
   "outputs": [],
   "source": [
    "## Drop missing values\n",
    "df = df.dropna()"
   ]
  },
  {
   "cell_type": "markdown",
   "id": "d3e57936-a339-4c01-a520-58b47f471ca6",
   "metadata": {},
   "source": [
    "#### 2.2 Duplicated\n",
    "- Check duplicated: `df.duplicated().sum()`\n",
    "- Drop duplicated:`df.drop_duplicates()`"
   ]
  },
  {
   "cell_type": "code",
   "execution_count": 23,
   "id": "de3c4909-52aa-42b6-9b5d-5a2ada41b789",
   "metadata": {},
   "outputs": [
    {
     "data": {
      "text/plain": [
       "0"
      ]
     },
     "execution_count": 23,
     "metadata": {},
     "output_type": "execute_result"
    }
   ],
   "source": [
    "# Check duplicated\n",
    "df.duplicated().sum()"
   ]
  },
  {
   "cell_type": "code",
   "execution_count": 24,
   "id": "48d341a0-1181-442d-b62c-7653dde6408d",
   "metadata": {},
   "outputs": [],
   "source": [
    "# Drop duplicated\n",
    "df = df.drop_duplicates()"
   ]
  },
  {
   "cell_type": "markdown",
   "id": "9700cda0-559d-470a-b823-35ee5a869cd0",
   "metadata": {},
   "source": [
    "#### 2.3 Rename columns\n",
    "- Rename Columns: `df.rename(columns={'old_name': 'new_name'})` \n",
    "- Drop Columns: `df.drop(columns=['column_name'])`\n"
   ]
  }
 ],
 "metadata": {
  "kernelspec": {
   "display_name": "Python 3 (ipykernel)",
   "language": "python",
   "name": "python3"
  },
  "language_info": {
   "codemirror_mode": {
    "name": "ipython",
    "version": 3
   },
   "file_extension": ".py",
   "mimetype": "text/x-python",
   "name": "python",
   "nbconvert_exporter": "python",
   "pygments_lexer": "ipython3",
   "version": "3.11.5"
  }
 },
 "nbformat": 4,
 "nbformat_minor": 5
}
