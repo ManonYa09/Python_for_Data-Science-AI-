{
 "cells": [
  {
   "cell_type": "markdown",
   "id": "c1fa2eb1",
   "metadata": {},
   "source": [
    "<div style=\"padding:20px;\n",
    "            color:white;\n",
    "            margin:10;\n",
    "            font-size:170%;\n",
    "            text-align:left;\n",
    "            display:fill;\n",
    "            border-radius:5px;\n",
    "            background-color:#CA6F1E;\n",
    "            overflow:hidden;\n",
    "            font-weight:700\"><span style='color:#283747'></span>\"Focus on Cleaning Missing Value\" </div>"
   ]
  },
  {
   "cell_type": "markdown",
   "id": "e6e9866d",
   "metadata": {},
   "source": [
    "###### \"Utilize Pandas for loading, cleaning, filtering, and other data operations.\""
   ]
  },
  {
   "cell_type": "code",
   "execution_count": null,
   "id": "d9a91bb0",
   "metadata": {},
   "outputs": [],
   "source": [
    "import pandas as pd"
   ]
  },
  {
   "cell_type": "markdown",
   "id": "1b38bdb5",
   "metadata": {},
   "source": [
    "##### \"In the code below, it's optional if you have housing_data.\""
   ]
  },
  {
   "cell_type": "code",
   "execution_count": null,
   "id": "4aa668f3",
   "metadata": {},
   "outputs": [],
   "source": [
    "# dataframe = pd.read_csv('https://raw.githubusercontent.com/ManonYa09/Data_analysis_with_pandas/main/Data/housing_data.csv')"
   ]
  },
  {
   "cell_type": "markdown",
   "id": "c56cc6c5",
   "metadata": {},
   "source": [
    "##### \"Convert data that's read from GitHub to a CSV file for easy management.\""
   ]
  },
  {
   "cell_type": "code",
   "execution_count": null,
   "id": "a3159ff6",
   "metadata": {},
   "outputs": [],
   "source": [
    "# dataframe.to_csv('housing_data.csv', index=False)"
   ]
  },
  {
   "cell_type": "markdown",
   "id": "0eefb8bd",
   "metadata": {},
   "source": [
    "###### \"We have three datasets from different sources. Please clean them, as we plan to perform data analysis in the future.\"\n",
    "<hr>\n",
    "\n",
    "Below name our dataset:\n",
    "- kag_risk_factors_cervical_cancer.csv\n",
    "- housing_data.csv\n",
    "- WA_Fn-UseC_-Telco-Customer-Churn.csv"
   ]
  },
  {
   "cell_type": "markdown",
   "id": "f4dc0d4e",
   "metadata": {},
   "source": [
    "### Optional point "
   ]
  },
  {
   "cell_type": "markdown",
   "id": "f5d57ab5",
   "metadata": {},
   "source": [
    "\"If you understand your dataset(structure), please write **functions** to handle **cleaning**, addressing **missing values**, and **removing duplicates**. Additionally, create filtering functions tailored to each dataset.\"\n"
   ]
  },
  {
   "cell_type": "code",
   "execution_count": null,
   "id": "19ed168b",
   "metadata": {},
   "outputs": [],
   "source": [
    "df = pd.read_csv('kag_risk_factors_cervical_cancer.csv')\n",
    "df1 = pd.read_csv('housing_data.csv')\n",
    "df2 = pd.read_csv('WA_Fn-UseC_-Telco-Customer-Churn.csv')"
   ]
  },
  {
   "cell_type": "code",
   "execution_count": null,
   "id": "828a825f",
   "metadata": {},
   "outputs": [],
   "source": []
  }
 ],
 "metadata": {
  "kernelspec": {
   "display_name": "Python 3 (ipykernel)",
   "language": "python",
   "name": "python3"
  },
  "language_info": {
   "codemirror_mode": {
    "name": "ipython",
    "version": 3
   },
   "file_extension": ".py",
   "mimetype": "text/x-python",
   "name": "python",
   "nbconvert_exporter": "python",
   "pygments_lexer": "ipython3",
   "version": "3.10.9"
  }
 },
 "nbformat": 4,
 "nbformat_minor": 5
}
