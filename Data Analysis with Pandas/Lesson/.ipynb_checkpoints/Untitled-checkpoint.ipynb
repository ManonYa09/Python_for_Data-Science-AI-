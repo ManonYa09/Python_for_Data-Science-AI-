{
 "cells": [
  {
   "cell_type": "code",
   "execution_count": 1,
   "id": "34e195e7",
   "metadata": {},
   "outputs": [],
   "source": [
    "import pandas as pd\n",
    "import numpy as np"
   ]
  },
  {
   "cell_type": "code",
   "execution_count": 2,
   "id": "291718ee",
   "metadata": {},
   "outputs": [],
   "source": [
    "df = pd.read_csv('https://raw.githubusercontent.com/ManonYa09/Python_for_Data_Science/main/Dataset/housing_data.csv')"
   ]
  },
  {
   "cell_type": "markdown",
   "id": "8c6feb11",
   "metadata": {},
   "source": [
    "\n",
    "8. How many county (State in USE) are provided California (CA) in dataset?\n",
    "9. How many regions are provided for specific states like Virginia (VA), Tennessee (TN), District of Columbia (DC), California (CA), etc.?"
   ]
  },
  {
   "cell_type": "code",
   "execution_count": 4,
   "id": "059255ba",
   "metadata": {},
   "outputs": [
    {
     "data": {
      "text/html": [
       "<div>\n",
       "<style scoped>\n",
       "    .dataframe tbody tr th:only-of-type {\n",
       "        vertical-align: middle;\n",
       "    }\n",
       "\n",
       "    .dataframe tbody tr th {\n",
       "        vertical-align: top;\n",
       "    }\n",
       "\n",
       "    .dataframe thead th {\n",
       "        text-align: right;\n",
       "    }\n",
       "</style>\n",
       "<table border=\"1\" class=\"dataframe\">\n",
       "  <thead>\n",
       "    <tr style=\"text-align: right;\">\n",
       "      <th></th>\n",
       "      <th>region_name</th>\n",
       "      <th>period_begin</th>\n",
       "      <th>period_end</th>\n",
       "      <th>total_homes_sold</th>\n",
       "      <th>inventory</th>\n",
       "      <th>active_listings</th>\n",
       "      <th>age_of_inventory</th>\n",
       "      <th>median_active_list_price</th>\n",
       "      <th>months_of_supply</th>\n",
       "    </tr>\n",
       "  </thead>\n",
       "  <tbody>\n",
       "    <tr>\n",
       "      <th>0</th>\n",
       "      <td>Appling County, GA</td>\n",
       "      <td>4/27/2020</td>\n",
       "      <td>7/19/2020</td>\n",
       "      <td>NaN</td>\n",
       "      <td>1.0</td>\n",
       "      <td>1.0</td>\n",
       "      <td>222.7</td>\n",
       "      <td>136195.8</td>\n",
       "      <td>NaN</td>\n",
       "    </tr>\n",
       "    <tr>\n",
       "      <th>1</th>\n",
       "      <td>Tooele County, UT</td>\n",
       "      <td>8/27/2018</td>\n",
       "      <td>11/18/2018</td>\n",
       "      <td>325.0</td>\n",
       "      <td>NaN</td>\n",
       "      <td>NaN</td>\n",
       "      <td>NaN</td>\n",
       "      <td>NaN</td>\n",
       "      <td>NaN</td>\n",
       "    </tr>\n",
       "    <tr>\n",
       "      <th>2</th>\n",
       "      <td>Johnson County, TX</td>\n",
       "      <td>9/23/2019</td>\n",
       "      <td>12/15/2019</td>\n",
       "      <td>577.0</td>\n",
       "      <td>717.0</td>\n",
       "      <td>778.0</td>\n",
       "      <td>63.0</td>\n",
       "      <td>268737.6</td>\n",
       "      <td>17.095583</td>\n",
       "    </tr>\n",
       "    <tr>\n",
       "      <th>3</th>\n",
       "      <td>Holmes County, OH</td>\n",
       "      <td>10/9/2017</td>\n",
       "      <td>12/31/2017</td>\n",
       "      <td>22.0</td>\n",
       "      <td>52.0</td>\n",
       "      <td>54.0</td>\n",
       "      <td>109.4</td>\n",
       "      <td>115308.3</td>\n",
       "      <td>34.050000</td>\n",
       "    </tr>\n",
       "    <tr>\n",
       "      <th>4</th>\n",
       "      <td>Madison County, FL</td>\n",
       "      <td>1/9/2017</td>\n",
       "      <td>4/2/2017</td>\n",
       "      <td>12.0</td>\n",
       "      <td>54.0</td>\n",
       "      <td>55.0</td>\n",
       "      <td>151.2</td>\n",
       "      <td>158062.5</td>\n",
       "      <td>38.300000</td>\n",
       "    </tr>\n",
       "  </tbody>\n",
       "</table>\n",
       "</div>"
      ],
      "text/plain": [
       "          region_name period_begin  period_end  total_homes_sold  inventory  \\\n",
       "0  Appling County, GA    4/27/2020   7/19/2020               NaN        1.0   \n",
       "1   Tooele County, UT    8/27/2018  11/18/2018             325.0        NaN   \n",
       "2  Johnson County, TX    9/23/2019  12/15/2019             577.0      717.0   \n",
       "3   Holmes County, OH    10/9/2017  12/31/2017              22.0       52.0   \n",
       "4  Madison County, FL     1/9/2017    4/2/2017              12.0       54.0   \n",
       "\n",
       "   active_listings  age_of_inventory  median_active_list_price  \\\n",
       "0              1.0             222.7                  136195.8   \n",
       "1              NaN               NaN                       NaN   \n",
       "2            778.0              63.0                  268737.6   \n",
       "3             54.0             109.4                  115308.3   \n",
       "4             55.0             151.2                  158062.5   \n",
       "\n",
       "   months_of_supply  \n",
       "0               NaN  \n",
       "1               NaN  \n",
       "2         17.095583  \n",
       "3         34.050000  \n",
       "4         38.300000  "
      ]
     },
     "execution_count": 4,
     "metadata": {},
     "output_type": "execute_result"
    }
   ],
   "source": [
    "df.head()"
   ]
  },
  {
   "cell_type": "markdown",
   "id": "82c00793",
   "metadata": {},
   "source": [
    "## Str in pandas"
   ]
  },
  {
   "cell_type": "code",
   "execution_count": 12,
   "id": "be4581c3",
   "metadata": {},
   "outputs": [],
   "source": [
    "df_CA = df[df['region_name'].str.contains('CA')]"
   ]
  },
  {
   "cell_type": "code",
   "execution_count": 23,
   "id": "ac552305",
   "metadata": {},
   "outputs": [
    {
     "data": {
      "text/plain": [
       "6         Sacramento\n",
       "164           Nevada\n",
       "252       Stanislaus\n",
       "293           Tehama\n",
       "304       Stanislaus\n",
       "             ...    \n",
       "622099        Merced\n",
       "622118        Lassen\n",
       "622159           Los\n",
       "622195      Imperial\n",
       "622302           San\n",
       "Name: region_name, Length: 15228, dtype: object"
      ]
     },
     "execution_count": 23,
     "metadata": {},
     "output_type": "execute_result"
    }
   ],
   "source": [
    "df_CA['region_name'].str.split(',').str[0].str.split().str[0]"
   ]
  },
  {
   "cell_type": "code",
   "execution_count": 24,
   "id": "66149501",
   "metadata": {},
   "outputs": [
    {
     "data": {
      "text/plain": [
       "0           [Appling County,  GA]\n",
       "1            [Tooele County,  UT]\n",
       "2           [Johnson County,  TX]\n",
       "3            [Holmes County,  OH]\n",
       "4           [Madison County,  FL]\n",
       "                   ...           \n",
       "622334      [Washita County,  OK]\n",
       "622335         [Gray County,  TX]\n",
       "622336       [Custer County,  OK]\n",
       "622337      [Choctaw County,  MS]\n",
       "622338    [Morehouse Parish,  LA]\n",
       "Name: region_name, Length: 622339, dtype: object"
      ]
     },
     "execution_count": 24,
     "metadata": {},
     "output_type": "execute_result"
    }
   ],
   "source": [
    "df['region_name'].str.split(',')"
   ]
  },
  {
   "cell_type": "code",
   "execution_count": null,
   "id": "0643fd7b",
   "metadata": {},
   "outputs": [],
   "source": []
  }
 ],
 "metadata": {
  "kernelspec": {
   "display_name": "Python 3 (ipykernel)",
   "language": "python",
   "name": "python3"
  },
  "language_info": {
   "codemirror_mode": {
    "name": "ipython",
    "version": 3
   },
   "file_extension": ".py",
   "mimetype": "text/x-python",
   "name": "python",
   "nbconvert_exporter": "python",
   "pygments_lexer": "ipython3",
   "version": "3.10.9"
  }
 },
 "nbformat": 4,
 "nbformat_minor": 5
}
