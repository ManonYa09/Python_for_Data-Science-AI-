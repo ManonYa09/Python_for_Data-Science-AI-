{
 "cells": [
  {
   "cell_type": "markdown",
   "id": "d15271d5",
   "metadata": {},
   "source": [
    "### Recall"
   ]
  },
  {
   "cell_type": "markdown",
   "id": "90b9f51d",
   "metadata": {},
   "source": [
    "1. `Integer`: negative, zero and positive numbers Example: ... -3, -2, -1, 0, 1, 2, 3 ....\n",
    "\n",
    "2. `Float`: It is a real number that can contain a fractional part. For example, 5.3, 3.14159, and 6.0 are all floats.\n",
    "\n",
    "3. `String`: Text in between quotes -- either single or double quotes -- is a string. For example, 'ABC', \"Coding\", 'Python Program'\n",
    "\n",
    "4. `Boolean`: It represents one of two values: True or False.\n",
    "\n",
    "5. `None`: It is used to define a null variable."
   ]
  },
  {
   "cell_type": "markdown",
   "id": "2279e4f4",
   "metadata": {},
   "source": [
    "You can always check the data type of any variable using the `type()` function. The below example shows how to use the type function in python.\n",
    "```py\n",
    "type(10)\n",
    "type(10.5)\n",
    "type(\"abc\")\n",
    "\n",
    "```"
   ]
  },
  {
   "cell_type": "code",
   "execution_count": 1,
   "id": "1b66098b",
   "metadata": {},
   "outputs": [
    {
     "data": {
      "text/plain": [
       "3"
      ]
     },
     "execution_count": 1,
     "metadata": {},
     "output_type": "execute_result"
    }
   ],
   "source": [
    "1+2"
   ]
  },
  {
   "cell_type": "code",
   "execution_count": 2,
   "id": "19052b78",
   "metadata": {},
   "outputs": [],
   "source": [
    " a= 5"
   ]
  },
  {
   "cell_type": "code",
   "execution_count": 8,
   "id": "1b4ef87e",
   "metadata": {},
   "outputs": [],
   "source": [
    "b = a"
   ]
  },
  {
   "cell_type": "code",
   "execution_count": 9,
   "id": "fa168578",
   "metadata": {},
   "outputs": [
    {
     "data": {
      "text/plain": [
       "5"
      ]
     },
     "execution_count": 9,
     "metadata": {},
     "output_type": "execute_result"
    }
   ],
   "source": [
    "b "
   ]
  },
  {
   "cell_type": "code",
   "execution_count": 10,
   "id": "2c8a0d91",
   "metadata": {},
   "outputs": [],
   "source": [
    "b = 6"
   ]
  },
  {
   "cell_type": "code",
   "execution_count": 7,
   "id": "b5045970",
   "metadata": {},
   "outputs": [
    {
     "data": {
      "text/plain": [
       "5"
      ]
     },
     "execution_count": 7,
     "metadata": {},
     "output_type": "execute_result"
    }
   ],
   "source": [
    "a"
   ]
  },
  {
   "cell_type": "code",
   "execution_count": 12,
   "id": "dda12353",
   "metadata": {},
   "outputs": [
    {
     "data": {
      "text/plain": [
       "6"
      ]
     },
     "execution_count": 12,
     "metadata": {},
     "output_type": "execute_result"
    }
   ],
   "source": [
    "b"
   ]
  },
  {
   "cell_type": "code",
   "execution_count": null,
   "id": "459fa40f",
   "metadata": {},
   "outputs": [],
   "source": [
    "True, False"
   ]
  },
  {
   "cell_type": "code",
   "execution_count": 1,
   "id": "44069950",
   "metadata": {},
   "outputs": [
    {
     "data": {
      "text/plain": [
       "int"
      ]
     },
     "execution_count": 1,
     "metadata": {},
     "output_type": "execute_result"
    }
   ],
   "source": [
    "type(10)"
   ]
  },
  {
   "cell_type": "code",
   "execution_count": 2,
   "id": "eb06b9a1",
   "metadata": {},
   "outputs": [
    {
     "data": {
      "text/plain": [
       "float"
      ]
     },
     "execution_count": 2,
     "metadata": {},
     "output_type": "execute_result"
    }
   ],
   "source": [
    "type(10.5)"
   ]
  },
  {
   "cell_type": "code",
   "execution_count": 5,
   "id": "3602a575",
   "metadata": {},
   "outputs": [
    {
     "data": {
      "text/plain": [
       "str"
      ]
     },
     "execution_count": 5,
     "metadata": {},
     "output_type": "execute_result"
    }
   ],
   "source": [
    "type('1')"
   ]
  },
  {
   "cell_type": "code",
   "execution_count": null,
   "id": "645ed8ee",
   "metadata": {},
   "outputs": [],
   "source": [
    "type(10)\n",
    "type(10.5)\n",
    "type(\"abc\")"
   ]
  },
  {
   "cell_type": "code",
   "execution_count": null,
   "id": "91e0d085",
   "metadata": {},
   "outputs": [],
   "source": [
    "type()"
   ]
  },
  {
   "cell_type": "markdown",
   "id": "d86f8a46",
   "metadata": {},
   "source": [
    "<hr/>\n",
    "<div class=\"alert alert-success alertsuccess\" style=\"margin-top: 20px\">\n",
    "[Tip]: To execute the Python code in the code cell below, click on the cell to select it and press <kbd>Shift</kbd> + <kbd>Enter</kbd>.\n",
    "</div>\n",
    "<hr/>"
   ]
  },
  {
   "cell_type": "markdown",
   "id": "7b7404e9",
   "metadata": {},
   "source": [
    "### Table of contents\n",
    "<a id=\"toc\"></a>\n",
    "- [Built in functions](#build_in_functions)\n",
    "- [Operator and Variables](#expression_and_varaibles)\n",
    "    - [Expression](#expression)\n",
    "    - [Variables](#variables)\n",
    "        - [Declearing Multple Variable in a Line](#a)\n",
    "    - [input function](#input) "
   ]
  },
  {
   "cell_type": "markdown",
   "id": "6dad464a",
   "metadata": {},
   "source": [
    "## Built in functions\n",
    "\n",
    "<a id='build_in_functions'> </a>"
   ]
  },
  {
   "cell_type": "markdown",
   "id": "b8375726",
   "metadata": {},
   "source": [
    "[python documentation](https://docs.python.org/3.9/library/functions.html)"
   ]
  },
  {
   "cell_type": "markdown",
   "id": "eaf18675",
   "metadata": {},
   "source": [
    "<img src=\"photos/photo_2023-12-09_21-51-54.jpg\" width=\"600\" align=\"center\">\n"
   ]
  },
  {
   "cell_type": "code",
   "execution_count": 6,
   "id": "c0c49fde",
   "metadata": {},
   "outputs": [
    {
     "data": {
      "text/plain": [
       "1"
      ]
     },
     "execution_count": 6,
     "metadata": {},
     "output_type": "execute_result"
    }
   ],
   "source": [
    "abs(-1)"
   ]
  },
  {
   "cell_type": "code",
   "execution_count": 7,
   "id": "f96b22ee",
   "metadata": {},
   "outputs": [
    {
     "data": {
      "text/plain": [
       "int"
      ]
     },
     "execution_count": 7,
     "metadata": {},
     "output_type": "execute_result"
    }
   ],
   "source": [
    "type(10)"
   ]
  },
  {
   "cell_type": "markdown",
   "id": "cd69a425",
   "metadata": {},
   "source": [
    "### Operator and Variables\n",
    "<a id='expression_and_varaibles'> </a>\n",
    "#### Operator\n",
    "<a id='expression'> </a>\n",
    "<p>Expressions in Python can include operations among compatible types (e.g., integers and floats). For example, basic arithmetic operations like adding multiple numbers:</p>\n",
    "\n"
   ]
  },
  {
   "cell_type": "markdown",
   "id": "71099512",
   "metadata": {},
   "source": [
    "#### Python Arithmetic Operators\n",
    "- **+:** The addition operator\n",
    "\n",
    "- **-:** The minus operator.\n",
    "\n",
    "- **\\*:** The multiplication operator.\n",
    "\n",
    "- **/:** The division operator.\n",
    "\n",
    "- **\\**:** The exponentiation operator.\n",
    "\n",
    "- **%:** The modulus operator."
   ]
  },
  {
   "cell_type": "code",
   "execution_count": 8,
   "id": "0663694f",
   "metadata": {},
   "outputs": [
    {
     "data": {
      "text/plain": [
       "2"
      ]
     },
     "execution_count": 8,
     "metadata": {},
     "output_type": "execute_result"
    }
   ],
   "source": [
    "1+1"
   ]
  },
  {
   "cell_type": "code",
   "execution_count": 9,
   "id": "1a96bafa",
   "metadata": {},
   "outputs": [
    {
     "data": {
      "text/plain": [
       "-2"
      ]
     },
     "execution_count": 9,
     "metadata": {},
     "output_type": "execute_result"
    }
   ],
   "source": [
    "2-4"
   ]
  },
  {
   "cell_type": "code",
   "execution_count": 10,
   "id": "3e97baca",
   "metadata": {},
   "outputs": [
    {
     "data": {
      "text/plain": [
       "6"
      ]
     },
     "execution_count": 10,
     "metadata": {},
     "output_type": "execute_result"
    }
   ],
   "source": [
    "2*3"
   ]
  },
  {
   "cell_type": "code",
   "execution_count": 11,
   "id": "f6d71f5f",
   "metadata": {},
   "outputs": [
    {
     "data": {
      "text/plain": [
       "4"
      ]
     },
     "execution_count": 11,
     "metadata": {},
     "output_type": "execute_result"
    }
   ],
   "source": [
    "2**(2)"
   ]
  },
  {
   "cell_type": "code",
   "execution_count": 12,
   "id": "234f49c1",
   "metadata": {},
   "outputs": [
    {
     "data": {
      "text/plain": [
       "1.4142135623730951"
      ]
     },
     "execution_count": 12,
     "metadata": {},
     "output_type": "execute_result"
    }
   ],
   "source": [
    "2**(1/2)"
   ]
  },
  {
   "cell_type": "code",
   "execution_count": 14,
   "id": "2e768a79",
   "metadata": {},
   "outputs": [
    {
     "data": {
      "text/plain": [
       "1.2599210498948732"
      ]
     },
     "execution_count": 14,
     "metadata": {},
     "output_type": "execute_result"
    }
   ],
   "source": [
    "2**(1/3)"
   ]
  },
  {
   "cell_type": "code",
   "execution_count": 15,
   "id": "c156239d",
   "metadata": {},
   "outputs": [
    {
     "data": {
      "text/plain": [
       "2.5198420997897464"
      ]
     },
     "execution_count": 15,
     "metadata": {},
     "output_type": "execute_result"
    }
   ],
   "source": [
    "4**(2/3)"
   ]
  },
  {
   "cell_type": "code",
   "execution_count": 16,
   "id": "9c429d48",
   "metadata": {},
   "outputs": [
    {
     "data": {
      "text/plain": [
       "1"
      ]
     },
     "execution_count": 16,
     "metadata": {},
     "output_type": "execute_result"
    }
   ],
   "source": [
    "23%2"
   ]
  },
  {
   "cell_type": "code",
   "execution_count": 17,
   "id": "955df369",
   "metadata": {},
   "outputs": [
    {
     "data": {
      "text/plain": [
       "0"
      ]
     },
     "execution_count": 17,
     "metadata": {},
     "output_type": "execute_result"
    }
   ],
   "source": [
    "22%2"
   ]
  },
  {
   "cell_type": "markdown",
   "id": "00ef8583",
   "metadata": {},
   "source": [
    "### Comperison Oparetors"
   ]
  },
  {
   "cell_type": "markdown",
   "id": "2804336a",
   "metadata": {},
   "source": [
    " we use comparison operators to compare two values. We check if a value is greater or less or equal to other value. The following table shows Python comparison operators which was taken from [w3shool](https://www.w3schools.com/python/python_operators.asp).\n",
    " \n",
    " <img src=\"photos/photo_2023-12-09_22-33-23.jpg\" width=\"400\" align=\"center\">"
   ]
  },
  {
   "cell_type": "code",
   "execution_count": 18,
   "id": "df0f4fb6",
   "metadata": {},
   "outputs": [
    {
     "data": {
      "text/plain": [
       "True"
      ]
     },
     "execution_count": 18,
     "metadata": {},
     "output_type": "execute_result"
    }
   ],
   "source": [
    "2==2"
   ]
  },
  {
   "cell_type": "code",
   "execution_count": 19,
   "id": "e108c413",
   "metadata": {},
   "outputs": [
    {
     "data": {
      "text/plain": [
       "False"
      ]
     },
     "execution_count": 19,
     "metadata": {},
     "output_type": "execute_result"
    }
   ],
   "source": [
    "2>2"
   ]
  },
  {
   "cell_type": "code",
   "execution_count": 20,
   "id": "db348acc",
   "metadata": {},
   "outputs": [
    {
     "data": {
      "text/plain": [
       "False"
      ]
     },
     "execution_count": 20,
     "metadata": {},
     "output_type": "execute_result"
    }
   ],
   "source": [
    "2!=2"
   ]
  },
  {
   "cell_type": "code",
   "execution_count": 21,
   "id": "d1dc71fa",
   "metadata": {},
   "outputs": [
    {
     "data": {
      "text/plain": [
       "True"
      ]
     },
     "execution_count": 21,
     "metadata": {},
     "output_type": "execute_result"
    }
   ],
   "source": [
    "2>=2"
   ]
  },
  {
   "cell_type": "markdown",
   "id": "7b1ffe48",
   "metadata": {},
   "source": [
    "#### Logical Expressions\n"
   ]
  },
  {
   "cell_type": "markdown",
   "id": "6546df8d",
   "metadata": {},
   "source": [
    "<img src=\"photos/photo_2023-12-09_22-00-08.jpg\" width=\"600\" align=\"center\">"
   ]
  },
  {
   "cell_type": "code",
   "execution_count": 23,
   "id": "0811182c",
   "metadata": {},
   "outputs": [
    {
     "name": "stdout",
     "output_type": "stream",
     "text": [
      "Addition: 3\n"
     ]
    }
   ],
   "source": [
    "print('Addition:', 1+2)"
   ]
  },
  {
   "cell_type": "code",
   "execution_count": 22,
   "id": "3ad6dd79",
   "metadata": {},
   "outputs": [
    {
     "name": "stdout",
     "output_type": "stream",
     "text": [
      "Addition:  3\n",
      "Subtraction:  1\n"
     ]
    }
   ],
   "source": [
    "print('Addition: ', 1 + 2)\n",
    "print('Subtraction: ', 2 - 1)\n"
   ]
  },
  {
   "cell_type": "code",
   "execution_count": 24,
   "id": "423f83f9",
   "metadata": {},
   "outputs": [
    {
     "data": {
      "text/plain": [
       "4"
      ]
     },
     "execution_count": 24,
     "metadata": {},
     "output_type": "execute_result"
    }
   ],
   "source": [
    "8//2"
   ]
  },
  {
   "cell_type": "code",
   "execution_count": 25,
   "id": "771b8b5a",
   "metadata": {},
   "outputs": [
    {
     "data": {
      "text/plain": [
       "4"
      ]
     },
     "execution_count": 25,
     "metadata": {},
     "output_type": "execute_result"
    }
   ],
   "source": [
    "9//2"
   ]
  },
  {
   "cell_type": "code",
   "execution_count": 26,
   "id": "bea6a1e4",
   "metadata": {},
   "outputs": [
    {
     "name": "stdout",
     "output_type": "stream",
     "text": [
      "Addition:  3\n",
      "Subtraction:  1\n",
      "Multiplication:  6\n",
      "Division:  2.0\n",
      "Division:  3.0\n",
      "Division:  3.5\n",
      "Division without the remainder:  3\n",
      "Division without the remainder:  2\n",
      "Modulus:  1\n",
      "Exponentiation:  8\n"
     ]
    }
   ],
   "source": [
    "# Integer\n",
    "print('Addition: ', 1 + 2)        \n",
    "print('Subtraction: ', 2 - 1)     \n",
    "print('Multiplication: ', 2 * 3)  \n",
    "print ('Division: ', 4 / 2)    \n",
    "print('Division: ', 6 / 2)           \n",
    "print('Division: ', 7 / 2)      \n",
    "print('Division without the remainder: ', 7 // 2)   \n",
    "print ('Division without the remainder: ',7 // 3)   \n",
    "print('Modulus: ', 3 % 2)        \n",
    "print('Exponentiation: ', 2 ** 3)"
   ]
  },
  {
   "cell_type": "markdown",
   "id": "62bfeba6",
   "metadata": {},
   "source": [
    "<a id='varaible'> </a>\n",
    "### Variable \n",
    "**Python Variable:** is contrainers that store value. Python is not **Statically typed**.\\\n",
    "We do not need to declare variables before using them or declare their type.\n"
   ]
  },
  {
   "cell_type": "markdown",
   "id": "9defea9c",
   "metadata": {},
   "source": [
    "Python Variable Name Rules\n",
    "\n",
    "- A variable name must start with a letter or the underscore character\n",
    "- A variable name cannot start with a number\n",
    "- A variable name can only contain alpha-numeric characters and underscores (A-z, 0-9, and _ )\n",
    "- Variable names are case-sensitive (firstname, Firstname, FirstName and FIRSTNAME) are different variables)\n",
    "\n",
    "Here are some example of valid variable names:"
   ]
  },
  {
   "cell_type": "code",
   "execution_count": null,
   "id": "9ba84742",
   "metadata": {},
   "outputs": [],
   "source": [
    "firstname = first_name\n",
    "lastname = last-name\n",
    "age\n",
    "country\n",
    "city\n",
    "first_name\n",
    "last_name\n",
    "capital_city\n",
    "_if # if we want to use reserved word as a variable\n",
    "year_2021\n",
    "year2021\n",
    "current_year_2021\n",
    "birth_year\n",
    "num1\n",
    "num2"
   ]
  },
  {
   "cell_type": "code",
   "execution_count": 42,
   "id": "bb521c2d",
   "metadata": {},
   "outputs": [
    {
     "data": {
      "text/plain": [
       "'Sok'"
      ]
     },
     "execution_count": 42,
     "metadata": {},
     "output_type": "execute_result"
    }
   ],
   "source": [
    "firstname"
   ]
  },
  {
   "cell_type": "code",
   "execution_count": 34,
   "id": "077ac998",
   "metadata": {},
   "outputs": [
    {
     "data": {
      "text/plain": [
       "'Manon'"
      ]
     },
     "execution_count": 34,
     "metadata": {},
     "output_type": "execute_result"
    }
   ],
   "source": [
    "firstname = 'Manon'\n",
    "firstname"
   ]
  },
  {
   "cell_type": "code",
   "execution_count": 31,
   "id": "042a2013",
   "metadata": {},
   "outputs": [],
   "source": [
    "age = 23"
   ]
  },
  {
   "cell_type": "code",
   "execution_count": 39,
   "id": "a04df093",
   "metadata": {},
   "outputs": [
    {
     "name": "stdout",
     "output_type": "stream",
     "text": [
      "23\n",
      "Manon\n"
     ]
    }
   ],
   "source": [
    "print(age)\n",
    "print(firstname)"
   ]
  },
  {
   "cell_type": "code",
   "execution_count": 40,
   "id": "8bd5d994",
   "metadata": {},
   "outputs": [],
   "source": [
    "firstname = 'Sok'"
   ]
  },
  {
   "cell_type": "code",
   "execution_count": 41,
   "id": "b7627133",
   "metadata": {},
   "outputs": [
    {
     "data": {
      "text/plain": [
       "'Sok'"
      ]
     },
     "execution_count": 41,
     "metadata": {},
     "output_type": "execute_result"
    }
   ],
   "source": [
    "firstname"
   ]
  },
  {
   "cell_type": "code",
   "execution_count": 36,
   "id": "d1c8f345",
   "metadata": {},
   "outputs": [
    {
     "data": {
      "text/plain": [
       "'Cambodia'"
      ]
     },
     "execution_count": 36,
     "metadata": {},
     "output_type": "execute_result"
    }
   ],
   "source": [
    "country = 'Cambodia'\n",
    "country"
   ]
  },
  {
   "cell_type": "code",
   "execution_count": 33,
   "id": "2251280a",
   "metadata": {},
   "outputs": [],
   "source": [
    "city = 'PP'"
   ]
  },
  {
   "cell_type": "code",
   "execution_count": 29,
   "id": "124097c0",
   "metadata": {},
   "outputs": [
    {
     "data": {
      "text/plain": [
       "'Manon'"
      ]
     },
     "execution_count": 29,
     "metadata": {},
     "output_type": "execute_result"
    }
   ],
   "source": [
    "firstname"
   ]
  },
  {
   "cell_type": "code",
   "execution_count": 43,
   "id": "557071d4",
   "metadata": {},
   "outputs": [
    {
     "name": "stdout",
     "output_type": "stream",
     "text": [
      "My name is: Sok\n"
     ]
    }
   ],
   "source": [
    "print('My name is:', firstname)"
   ]
  },
  {
   "cell_type": "code",
   "execution_count": null,
   "id": "a58f0b4d",
   "metadata": {},
   "outputs": [],
   "source": [
    "print('My name is')"
   ]
  },
  {
   "cell_type": "code",
   "execution_count": null,
   "id": "eec005dc",
   "metadata": {},
   "outputs": [],
   "source": [
    "##Invalid variables names\n",
    "first-name\n",
    "first@name\n",
    "first$name\n",
    "num-1\n",
    "1num"
   ]
  },
  {
   "cell_type": "markdown",
   "id": "8f603ed8",
   "metadata": {},
   "source": [
    "<a id='a'> </a>\n",
    "### Declaring Mutiple Variable in a Line"
   ]
  },
  {
   "cell_type": "code",
   "execution_count": 44,
   "id": "4c589582",
   "metadata": {},
   "outputs": [
    {
     "name": "stdout",
     "output_type": "stream",
     "text": [
      "Manon Ya Phnom Penh 25 False\n",
      "First name: Manon\n",
      "Last name:  Ya\n",
      "Country:  Phnom Penh\n",
      "Age:  25\n",
      "Married:  False\n"
     ]
    }
   ],
   "source": [
    "first_name, last_name, country, age, is_married = 'Manon', 'Ya', 'Phnom Penh', 25, False\n",
    "\n",
    "print(first_name, last_name, country, age, is_married)\n",
    "print('First name:', first_name)\n",
    "print('Last name: ', last_name)\n",
    "print('Country: ', country)\n",
    "print('Age: ', age)\n",
    "print('Married: ', is_married)"
   ]
  },
  {
   "cell_type": "code",
   "execution_count": 45,
   "id": "b5b7d0d0",
   "metadata": {},
   "outputs": [
    {
     "data": {
      "text/plain": [
       "'Manon'"
      ]
     },
     "execution_count": 45,
     "metadata": {},
     "output_type": "execute_result"
    }
   ],
   "source": [
    "first_name"
   ]
  },
  {
   "cell_type": "code",
   "execution_count": 47,
   "id": "f322b639",
   "metadata": {},
   "outputs": [],
   "source": [
    "x = 5\n",
    "y = 10\n",
    "z = x + y"
   ]
  },
  {
   "cell_type": "code",
   "execution_count": 48,
   "id": "789123af",
   "metadata": {},
   "outputs": [
    {
     "data": {
      "text/plain": [
       "5"
      ]
     },
     "execution_count": 48,
     "metadata": {},
     "output_type": "execute_result"
    }
   ],
   "source": [
    "x"
   ]
  },
  {
   "cell_type": "code",
   "execution_count": 49,
   "id": "24ecf780",
   "metadata": {},
   "outputs": [
    {
     "data": {
      "text/plain": [
       "10"
      ]
     },
     "execution_count": 49,
     "metadata": {},
     "output_type": "execute_result"
    }
   ],
   "source": [
    "y "
   ]
  },
  {
   "cell_type": "code",
   "execution_count": 50,
   "id": "b097c13e",
   "metadata": {},
   "outputs": [
    {
     "data": {
      "text/plain": [
       "15"
      ]
     },
     "execution_count": 50,
     "metadata": {},
     "output_type": "execute_result"
    }
   ],
   "source": [
    "z "
   ]
  },
  {
   "cell_type": "code",
   "execution_count": 53,
   "id": "10effb38",
   "metadata": {},
   "outputs": [],
   "source": [
    "a = 1\n",
    "b = 2"
   ]
  },
  {
   "cell_type": "code",
   "execution_count": 54,
   "id": "3048a717",
   "metadata": {},
   "outputs": [
    {
     "name": "stdout",
     "output_type": "stream",
     "text": [
      "this is  1\n",
      "This is  2\n",
      "This is (a- b) -1\n",
      "This is (a * b) 2\n",
      "This is (a+b) 3\n"
     ]
    }
   ],
   "source": [
    "print('this is ', a)\n",
    "print('This is ', b)\n",
    "print( \"This is (a- b)\", a-b)\n",
    "print('This is (a * b)', a*b)\n",
    "print('This is (a+b)', a+ b)"
   ]
  },
  {
   "cell_type": "markdown",
   "id": "6fdace75",
   "metadata": {},
   "source": [
    "area = 0.5 * base * height"
   ]
  },
  {
   "cell_type": "code",
   "execution_count": 51,
   "id": "bf8b1b88",
   "metadata": {},
   "outputs": [
    {
     "name": "stdout",
     "output_type": "stream",
     "text": [
      "This is Area of Triangle  5.070728694987195e+35\n"
     ]
    }
   ],
   "source": [
    "b = 3221412895713587483631513\n",
    "h = 314813956431\n",
    "area = 0.5 * b * h\n",
    "print('This is Area of Triangle ', area)"
   ]
  },
  {
   "cell_type": "code",
   "execution_count": null,
   "id": "7f83274f",
   "metadata": {},
   "outputs": [],
   "source": [
    "b1 = \n",
    "a1 =\n",
    "Area_rectangle = \n",
    " "
   ]
  },
  {
   "cell_type": "code",
   "execution_count": 55,
   "id": "704b7b4a",
   "metadata": {},
   "outputs": [
    {
     "name": "stdout",
     "output_type": "stream",
     "text": [
      "My name is  Manon\n",
      "My age: 23\n"
     ]
    }
   ],
   "source": [
    "name = 'Manon'\n",
    "age = 23\n",
    "print('My name is ', name);\n",
    "print('My age:', age)\n"
   ]
  },
  {
   "cell_type": "code",
   "execution_count": 56,
   "id": "41810c48",
   "metadata": {},
   "outputs": [
    {
     "name": "stdout",
     "output_type": "stream",
     "text": [
      "My name is: Manon my age: 23\n"
     ]
    }
   ],
   "source": [
    "print('My name is:', name, 'my age:', age)"
   ]
  },
  {
   "cell_type": "code",
   "execution_count": 58,
   "id": "86380920",
   "metadata": {},
   "outputs": [
    {
     "name": "stdout",
     "output_type": "stream",
     "text": [
      "My name is: Manon my age: 23\n"
     ]
    }
   ],
   "source": [
    "print(f'My name is: {name} my age: {age}')"
   ]
  },
  {
   "cell_type": "code",
   "execution_count": null,
   "id": "b6cb4c73",
   "metadata": {},
   "outputs": [],
   "source": [
    "# Declaring the variable at the top first\n",
    "\n",
    "a = 3 # a is a variable name and 3 is an integer data type\n",
    "b = 2 # b is a variable name and 3 is an integer data type\n",
    "\n",
    "# Arithmetic operations and assigning the result to a variable\n",
    "total = a + b\n",
    "diff = a - b\n",
    "product = a * b\n",
    "division = a / b\n",
    "remainder = a % b\n",
    "floor_division = a // b\n",
    "exponential = a ** b\n",
    "\n",
    "# I should have used sum instead of total but sum is a built-in function - try to avoid overriding built-in functions\n",
    "print(total) # if you do not label your print with some string, you never know where the result is coming from\n",
    "print('a + b = ', total)\n",
    "print('a - b = ', diff)\n",
    "print('a * b = ', product)\n",
    "print('a / b = ', division)\n",
    "print('a % b = ', remainder)\n",
    "print('a // b = ', floor_division)\n",
    "print('a ** b = ', exponential)"
   ]
  },
  {
   "cell_type": "markdown",
   "id": "4c0d1bad",
   "metadata": {},
   "source": [
    "## Input Function\n",
    "`input()` function is used to take user input. By default, it returns the user input in form of a string. input() Function."
   ]
  },
  {
   "cell_type": "code",
   "execution_count": null,
   "id": "0df117bd",
   "metadata": {},
   "outputs": [],
   "source": [
    "type\n",
    "print()"
   ]
  },
  {
   "cell_type": "code",
   "execution_count": null,
   "id": "58a16e06",
   "metadata": {},
   "outputs": [],
   "source": [
    "a = 5"
   ]
  },
  {
   "cell_type": "code",
   "execution_count": 63,
   "id": "e4961b6f",
   "metadata": {},
   "outputs": [
    {
     "name": "stdout",
     "output_type": "stream",
     "text": [
      "Please in the number:23\n"
     ]
    }
   ],
   "source": [
    "a = int(input('Please in the number:'))"
   ]
  },
  {
   "cell_type": "code",
   "execution_count": 66,
   "id": "4bf4e11b",
   "metadata": {},
   "outputs": [
    {
     "name": "stdout",
     "output_type": "stream",
     "text": [
      "Please in your age:23.2\n"
     ]
    },
    {
     "data": {
      "text/plain": [
       "23.2"
      ]
     },
     "execution_count": 66,
     "metadata": {},
     "output_type": "execute_result"
    }
   ],
   "source": [
    "float(input('Please in your age:'))"
   ]
  },
  {
   "cell_type": "code",
   "execution_count": 68,
   "id": "dbbda7f7",
   "metadata": {},
   "outputs": [
    {
     "name": "stdout",
     "output_type": "stream",
     "text": [
      "Input b:3444\n",
      "Input h:34434\n",
      "This is Area of Triangle  59295348.0\n"
     ]
    }
   ],
   "source": [
    "b = float(input('Input b:'))\n",
    "h = float(input('Input h:'))\n",
    "area = 0.5 * b * h\n",
    "print('This is Area of Triangle ', area)"
   ]
  },
  {
   "cell_type": "code",
   "execution_count": 64,
   "id": "238ca384",
   "metadata": {},
   "outputs": [
    {
     "data": {
      "text/plain": [
       "int"
      ]
     },
     "execution_count": 64,
     "metadata": {},
     "output_type": "execute_result"
    }
   ],
   "source": [
    "type(a)"
   ]
  },
  {
   "cell_type": "code",
   "execution_count": 13,
   "id": "01df4953",
   "metadata": {},
   "outputs": [
    {
     "name": "stdout",
     "output_type": "stream",
     "text": [
      "== Addition, Subtraction, Multiplication, Division, Modulus ==\n",
      "Input num_one:12\n",
      "Input num_two:23\n"
     ]
    }
   ],
   "source": [
    "print('== Addition, Subtraction, Multiplication, Division, Modulus ==')\n",
    "# Declaring values and organizing them together\n",
    "num_one = float(input('Input num_one:'))\n",
    "num_two = float(input('Input num_two:'))\n",
    "\n",
    "# Arithmetic operations\n",
    "total = num_one + num_two\n",
    "diff = num_two - num_one\n",
    "product = num_one * num_two\n",
    "div = num_two / num_one\n",
    "remainder = num_two % num_one"
   ]
  },
  {
   "cell_type": "code",
   "execution_count": 14,
   "id": "410ee019",
   "metadata": {},
   "outputs": [
    {
     "name": "stdout",
     "output_type": "stream",
     "text": [
      "total:  35.0\n",
      "difference:  11.0\n",
      "product:  276.0\n",
      "division:  1.9166666666666667\n",
      "remainder:  11.0\n"
     ]
    }
   ],
   "source": [
    "# Printing values with label\n",
    "print('total: ', total)\n",
    "print('difference: ', diff)\n",
    "print('product: ', product)\n",
    "print('division: ', div)\n",
    "print('remainder: ', remainder)"
   ]
  },
  {
   "cell_type": "markdown",
   "id": "07ace1b9",
   "metadata": {},
   "source": [
    "### Example 1"
   ]
  },
  {
   "cell_type": "markdown",
   "id": "832a0016",
   "metadata": {},
   "source": [
    "1. Write a python comment saying 'Day 2: of python programming'\n",
    "2. Declare a first name variable and assign a value to it\n",
    "3. Declare a last name variable and assign a value to it\n",
    "4. Declare a full name variable and assign a value to it\n",
    "5. Declare a country variable and assign a value to it\n",
    "6. Declare a city variable and assign a value to it\n",
    "7. Declare an age variable and assign a value to it\n",
    "8. Declare a year variable and assign a value to it\n",
    "9. Declare a variable is_married and assign a value to it\n",
    "10. Declare a variable is_true and assign a value to it\n",
    "11. Declare a variable is_light_on and assign a value to it\n",
    "12. Declare multiple variable on one line"
   ]
  },
  {
   "cell_type": "markdown",
   "id": "443a5e7b",
   "metadata": {},
   "source": [
    "### Example 2"
   ]
  },
  {
   "cell_type": "markdown",
   "id": "3d16d70f",
   "metadata": {},
   "source": [
    "1. Check the data type of all your variables using type() built-in function\n",
    "2. Using the len() built-in function, find the length of your first name\n",
    "3. Compare the length of your first name and your last name\n",
    "    - Declare 5 as num_one and 4 as num_two\n",
    "    - Add num_one and num_two and assign the value to a variable total\n",
    "    - Subtract num_two from num_one and assign the value to a variable diff\n",
    "    - Multiply num_two and num_one and assign the value to a variable product\n",
    "    - Divide num_one by num_two and assign the value to a variable division\n",
    "    - Use modulus division to find num_two divided by num_one and assign the value to a variable remainder\n",
    "    - Calculate num_one to the power of num_two and assign the value to a variable exp\n",
    "    - Find floor division of num_one by num_two and assign the value to a variable floor_division\n",
    "5. The radius of a circle is 30 meters.\n",
    "    - Calculate the area of a circle and assign the value to a variable name of area_of_circle\n",
    "    - Calculate the circumference of a circle and assign the value to a variable name of circum_of_circle\n",
    "    - Take radius as user input and calculate the area.\n"
   ]
  },
  {
   "cell_type": "markdown",
   "id": "4d0befbb",
   "metadata": {},
   "source": [
    "5. The radius of a circle is 30 meters.\n",
    "    - Calculate the area of a circle and assign the value to a variable name of area_of_circle\n",
    "    - Calculate the circumference of a circle and assign the value to a variable name of circum_of_circle\n",
    "    - Take radius as user input and calculate the area.\n"
   ]
  },
  {
   "cell_type": "code",
   "execution_count": null,
   "id": "37c8ea81",
   "metadata": {},
   "outputs": [],
   "source": [
    "import math as m\n",
    "import numpy as np\n",
    "# import matplotlib.pyplot as plt\n",
    "# import seaborn as sns"
   ]
  },
  {
   "cell_type": "code",
   "execution_count": 26,
   "id": "11f2ebed",
   "metadata": {},
   "outputs": [
    {
     "name": "stdout",
     "output_type": "stream",
     "text": [
      "R :3\n",
      "Are of cicle :  28.27\n"
     ]
    }
   ],
   "source": [
    "r = float(input('R :'))\n",
    "are_cicle = m.pi * r**2\n",
    "print('Are of cicle : ', numpy.round(are_cicle, 2))"
   ]
  },
  {
   "cell_type": "code",
   "execution_count": 24,
   "id": "1a7e4a5b",
   "metadata": {},
   "outputs": [
    {
     "name": "stdout",
     "output_type": "stream",
     "text": [
      "R :3\n",
      "Are of cicle :  28\n"
     ]
    }
   ],
   "source": [
    "r = float(input('R :'))\n",
    "are_cicle = m.pi * r**2\n",
    "print('Are of cicle : ', round(are_cicle))"
   ]
  },
  {
   "cell_type": "code",
   "execution_count": 19,
   "id": "832b847f",
   "metadata": {},
   "outputs": [
    {
     "data": {
      "text/plain": [
       "28.274333882308138"
      ]
     },
     "execution_count": 19,
     "metadata": {},
     "output_type": "execute_result"
    }
   ],
   "source": [
    "are_cicle"
   ]
  },
  {
   "cell_type": "code",
   "execution_count": null,
   "id": "55247c6f",
   "metadata": {},
   "outputs": [],
   "source": []
  }
 ],
 "metadata": {
  "kernelspec": {
   "display_name": "Python 3 (ipykernel)",
   "language": "python",
   "name": "python3"
  },
  "language_info": {
   "codemirror_mode": {
    "name": "ipython",
    "version": 3
   },
   "file_extension": ".py",
   "mimetype": "text/x-python",
   "name": "python",
   "nbconvert_exporter": "python",
   "pygments_lexer": "ipython3",
   "version": "3.10.9"
  }
 },
 "nbformat": 4,
 "nbformat_minor": 5
}
