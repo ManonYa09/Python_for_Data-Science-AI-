{
 "cells": [
  {
   "cell_type": "markdown",
   "id": "e111497d",
   "metadata": {
    "papermill": {
     "duration": 0.011368,
     "end_time": "2022-10-21T18:22:40.257294",
     "exception": false,
     "start_time": "2022-10-21T18:22:40.245926",
     "status": "completed"
    },
    "tags": []
   },
   "source": [
    "<h1 style=\"font-family:verdana;\"> <center>🏦Bank🏦 Churn Dataset🦥:</center> </h1>"
   ]
  },
  {
   "cell_type": "markdown",
   "id": "b597f5c8",
   "metadata": {
    "papermill": {
     "duration": 0.010038,
     "end_time": "2022-10-21T18:22:40.277443",
     "exception": false,
     "start_time": "2022-10-21T18:22:40.267405",
     "status": "completed"
    },
    "tags": []
   },
   "source": [
    "# Table of Contents :\n",
    "* [1. About Dataset](#section1)\n",
    "* [2. Exploring Dataset](#section2)\n",
    "* [3. Data Exploration](#section3)\n",
    "  - [Feature Description](#section31)\n",
    "  - [Null Value Distribution](#section32)\n",
    "  - [Data Cleaning](#section33)\n",
    "  "
   ]
  },
  {
   "cell_type": "markdown",
   "id": "2879c6f0",
   "metadata": {
    "papermill": {
     "duration": 0.00946,
     "end_time": "2022-10-21T18:22:40.297301",
     "exception": false,
     "start_time": "2022-10-21T18:22:40.287841",
     "status": "completed"
    },
    "tags": []
   },
   "source": [
    "<a id=\"section1\"></a>\n",
    "<div style=\"padding:20px;\n",
    "            color:white;\n",
    "            margin:10;\n",
    "            font-size:170%;\n",
    "            text-align:left;\n",
    "            display:fill;\n",
    "            border-radius:5px;\n",
    "            background-color:#222222;\n",
    "            overflow:hidden;\n",
    "            font-weight:700\">About <span style='color:#CDA63A'>|</span>Dataset</div>\n",
    "            \n",
    "![Bank](https://images.pexels.com/photos/351264/pexels-photo-351264.jpeg?auto=compress&cs=tinysrgb&dpr=1&w=500)\n",
    "<p style=\"font-size:15px; font-family:verdana; line-height: 1.7em\"> We are given the dataset about bank information of around 10000 customers and also given if they have churned or not.</p>"
   ]
  },
  {
   "cell_type": "markdown",
   "id": "152f7593",
   "metadata": {
    "papermill": {
     "duration": 0.010175,
     "end_time": "2022-10-21T18:22:40.317669",
     "exception": false,
     "start_time": "2022-10-21T18:22:40.307494",
     "status": "completed"
    },
    "tags": []
   },
   "source": [
    "<a id=\"section2\"></a>\n",
    "<div style=\"padding:20px;\n",
    "            color:white;\n",
    "            margin:10;\n",
    "            font-size:170%;\n",
    "            text-align:left;\n",
    "            display:fill;\n",
    "            border-radius:5px;\n",
    "            background-color:#222222;\n",
    "            overflow:hidden;\n",
    "            font-weight:700\">1 <span style='color:#CDA63A'>|</span>Exploring The Dataset</div>"
   ]
  },
  {
   "cell_type": "code",
   "execution_count": 2,
   "id": "0df36f68",
   "metadata": {
    "execution": {
     "iopub.execute_input": "2022-10-21T18:23:04.967882Z",
     "iopub.status.busy": "2022-10-21T18:23:04.967421Z",
     "iopub.status.idle": "2022-10-21T18:23:08.867734Z",
     "shell.execute_reply": "2022-10-21T18:23:08.866544Z"
    },
    "papermill": {
     "duration": 3.91604,
     "end_time": "2022-10-21T18:23:08.870792",
     "exception": false,
     "start_time": "2022-10-21T18:23:04.954752",
     "status": "completed"
    },
    "tags": []
   },
   "outputs": [],
   "source": [
    "#Importing all essential libraries\n",
    "import numpy as np\n",
    "import pandas as pd\n",
    "import seaborn as sns\n",
    "import matplotlib.pyplot as plt\n",
    "# import warnings\n",
    "# warnings.filterwarnings('ignore')"
   ]
  },
  {
   "cell_type": "markdown",
   "id": "922d9d8a",
   "metadata": {
    "papermill": {
     "duration": 0.010481,
     "end_time": "2022-10-21T18:23:08.954032",
     "exception": false,
     "start_time": "2022-10-21T18:23:08.943551",
     "status": "completed"
    },
    "tags": []
   },
   "source": [
    "<a id=\"section3\"></a>\n",
    "###  Data Description :"
   ]
  },
  {
   "cell_type": "markdown",
   "id": "68a75d70",
   "metadata": {
    "papermill": {
     "duration": 0.010755,
     "end_time": "2022-10-21T18:23:08.975396",
     "exception": false,
     "start_time": "2022-10-21T18:23:08.964641",
     "status": "completed"
    },
    "tags": []
   },
   "source": [
    "<a id=\"section31\"></a>\n",
    "<div style=\"font-size:15px; font-family:verdana;\"><h3 style=\"font-family:verdana;\">Feature Description:</h3>\n",
    "\n",
    "<ol>\n",
    "    <li style=\"font-family:verdana;\"><code style=\"font-family:verdana;\">Customer ID</code> - Unique ID given to identify a particular customer.</li>\n",
    "    <li style=\"font-family:verdana;\"><code style=\"font-family:verdana;\">Credit Score</code> - It is the score which determines the creditworthiness of a customer.</li>\n",
    "    <li style=\"font-family:verdana;\"><code style=\"font-family:verdana;\">Country</code> - The country where customer lives.</li>\n",
    "    <li style=\"font-family:verdana;\"><code style=\"font-family:verdana;\">Gender</code> - The Sex of customer.</li>\n",
    "    <li style=\"font-family:verdana;\"><code style=\"font-family:verdana;\">Age</code> - The age of customer.</li>\n",
    "    <li style=\"font-family:verdana;\"><code style=\"font-family:verdana;\">Tenure</code> - Number of years the customer has Bank Account in that Bank.</li>\n",
    "    <li style=\"font-family:verdana;\"><code style=\"font-family:verdana;\">Balance</code> - Amount of money present in customer's bank.</li>\n",
    "    <li style=\"font-family:verdana;\"><code style=\"font-family:verdana;\">Products Number</code> - Number of Products from that Bank.</li>\n",
    "    <li style=\"font-family:verdana;\"><code style=\"font-family:verdana;\">Credit Card</code> - Does the customer own a credit card of that Bank.</li>\n",
    "    <li style=\"font-family:verdana;\"><code style=\"font-family:verdana;\">Active Member</code> - Whether the customer is an active member of that Bank.</li>\n",
    "    <li style=\"font-family:verdana;\"><code style=\"font-family:verdana;\">Estimated Salary</code> - Total Income of the Customer.</li>\n",
    "    <li style=\"font-family:verdana;\"><code style=\"font-family:verdana;\">Churn</code> - Churn (Loss of existing customers) of the Bank.</li>\n",
    "</ol>\n",
    "</div>"
   ]
  },
  {
   "cell_type": "code",
   "execution_count": 3,
   "id": "67ac7c0d",
   "metadata": {},
   "outputs": [],
   "source": [
    "df = pd.read_csv('Bank Customer Churn Prediction.csv')"
   ]
  },
  {
   "cell_type": "markdown",
   "id": "767cf9a5",
   "metadata": {},
   "source": [
    "1. Display index [12, 34, 45, 53, 1000, 2000] of The Dataset using iloc or loc function."
   ]
  },
  {
   "cell_type": "code",
   "execution_count": 5,
   "id": "df11519c",
   "metadata": {},
   "outputs": [],
   "source": [
    "df['churn'].replace({1:'Yes',\n",
    "                    0:'No'}, inplace=True)"
   ]
  },
  {
   "cell_type": "code",
   "execution_count": 6,
   "id": "3a20556f",
   "metadata": {},
   "outputs": [
    {
     "data": {
      "text/html": [
       "<div>\n",
       "<style scoped>\n",
       "    .dataframe tbody tr th:only-of-type {\n",
       "        vertical-align: middle;\n",
       "    }\n",
       "\n",
       "    .dataframe tbody tr th {\n",
       "        vertical-align: top;\n",
       "    }\n",
       "\n",
       "    .dataframe thead th {\n",
       "        text-align: right;\n",
       "    }\n",
       "</style>\n",
       "<table border=\"1\" class=\"dataframe\">\n",
       "  <thead>\n",
       "    <tr style=\"text-align: right;\">\n",
       "      <th></th>\n",
       "      <th>customer_id</th>\n",
       "      <th>credit_score</th>\n",
       "      <th>country</th>\n",
       "      <th>gender</th>\n",
       "      <th>age</th>\n",
       "      <th>tenure</th>\n",
       "      <th>balance</th>\n",
       "      <th>products_number</th>\n",
       "      <th>credit_card</th>\n",
       "      <th>active_member</th>\n",
       "      <th>estimated_salary</th>\n",
       "      <th>churn</th>\n",
       "    </tr>\n",
       "  </thead>\n",
       "  <tbody>\n",
       "    <tr>\n",
       "      <th>0</th>\n",
       "      <td>15634602</td>\n",
       "      <td>619</td>\n",
       "      <td>France</td>\n",
       "      <td>Female</td>\n",
       "      <td>42</td>\n",
       "      <td>2</td>\n",
       "      <td>0.00</td>\n",
       "      <td>1</td>\n",
       "      <td>1</td>\n",
       "      <td>1</td>\n",
       "      <td>101348.88</td>\n",
       "      <td>Yes</td>\n",
       "    </tr>\n",
       "    <tr>\n",
       "      <th>1</th>\n",
       "      <td>15647311</td>\n",
       "      <td>608</td>\n",
       "      <td>Spain</td>\n",
       "      <td>Female</td>\n",
       "      <td>41</td>\n",
       "      <td>1</td>\n",
       "      <td>83807.86</td>\n",
       "      <td>1</td>\n",
       "      <td>0</td>\n",
       "      <td>1</td>\n",
       "      <td>112542.58</td>\n",
       "      <td>No</td>\n",
       "    </tr>\n",
       "    <tr>\n",
       "      <th>2</th>\n",
       "      <td>15619304</td>\n",
       "      <td>502</td>\n",
       "      <td>France</td>\n",
       "      <td>Female</td>\n",
       "      <td>42</td>\n",
       "      <td>8</td>\n",
       "      <td>159660.80</td>\n",
       "      <td>3</td>\n",
       "      <td>1</td>\n",
       "      <td>0</td>\n",
       "      <td>113931.57</td>\n",
       "      <td>Yes</td>\n",
       "    </tr>\n",
       "    <tr>\n",
       "      <th>3</th>\n",
       "      <td>15701354</td>\n",
       "      <td>699</td>\n",
       "      <td>France</td>\n",
       "      <td>Female</td>\n",
       "      <td>39</td>\n",
       "      <td>1</td>\n",
       "      <td>0.00</td>\n",
       "      <td>2</td>\n",
       "      <td>0</td>\n",
       "      <td>0</td>\n",
       "      <td>93826.63</td>\n",
       "      <td>No</td>\n",
       "    </tr>\n",
       "    <tr>\n",
       "      <th>4</th>\n",
       "      <td>15737888</td>\n",
       "      <td>850</td>\n",
       "      <td>Spain</td>\n",
       "      <td>Female</td>\n",
       "      <td>43</td>\n",
       "      <td>2</td>\n",
       "      <td>125510.82</td>\n",
       "      <td>1</td>\n",
       "      <td>1</td>\n",
       "      <td>1</td>\n",
       "      <td>79084.10</td>\n",
       "      <td>No</td>\n",
       "    </tr>\n",
       "  </tbody>\n",
       "</table>\n",
       "</div>"
      ],
      "text/plain": [
       "   customer_id  credit_score country  gender  age  tenure    balance  \\\n",
       "0     15634602           619  France  Female   42       2       0.00   \n",
       "1     15647311           608   Spain  Female   41       1   83807.86   \n",
       "2     15619304           502  France  Female   42       8  159660.80   \n",
       "3     15701354           699  France  Female   39       1       0.00   \n",
       "4     15737888           850   Spain  Female   43       2  125510.82   \n",
       "\n",
       "   products_number  credit_card  active_member  estimated_salary churn  \n",
       "0                1            1              1         101348.88   Yes  \n",
       "1                1            0              1         112542.58    No  \n",
       "2                3            1              0         113931.57   Yes  \n",
       "3                2            0              0          93826.63    No  \n",
       "4                1            1              1          79084.10    No  "
      ]
     },
     "execution_count": 6,
     "metadata": {},
     "output_type": "execute_result"
    }
   ],
   "source": [
    "df.head()"
   ]
  },
  {
   "cell_type": "markdown",
   "id": "1e2e6fd3",
   "metadata": {},
   "source": [
    "2. a. Check Datatype of each columns\n",
    "\n",
    "    b. How many rows and columns are there in our Dataset?"
   ]
  },
  {
   "cell_type": "markdown",
   "id": "27702032",
   "metadata": {},
   "source": [
    "3. Drop column `customer_id` using `drop` function"
   ]
  },
  {
   "cell_type": "markdown",
   "id": "a87067ec",
   "metadata": {},
   "source": [
    "4. Check null values in the dataset"
   ]
  },
  {
   "cell_type": "markdown",
   "id": "830ad821",
   "metadata": {},
   "source": [
    "5. Check Duplicated"
   ]
  },
  {
   "cell_type": "markdown",
   "id": "57d4d03c",
   "metadata": {},
   "source": [
    "6. How many people have French 'France' as their Language?"
   ]
  },
  {
   "cell_type": "markdown",
   "id": "9b28f6a5",
   "metadata": {},
   "source": [
    "7. How many females and males are in our dataset? Which graph can be plotted to represent this variable?"
   ]
  },
  {
   "cell_type": "markdown",
   "id": "b34eb082",
   "metadata": {},
   "source": [
    "\n",
    "\n",
    "8. a. How many people are older than 30 years?\n",
    "\n",
    "    b. How many people are younger than 18 years?\n",
    "\n",
    "    c. How many people are between 19 and 50 years old?\n",
    "\n",
    "    d. Plot a histogram for a better understanding of this column."
   ]
  },
  {
   "cell_type": "markdown",
   "id": "b9605e75",
   "metadata": {},
   "source": [
    "9. a. How many customers have a credit card?\n",
    "\n",
    "    b. Use a countplot to visualize the number of customers with and without a credit card, categorized by churn status."
   ]
  },
  {
   "cell_type": "markdown",
   "id": "dc2d477a",
   "metadata": {},
   "source": [
    "10. a. How many customers are active members?\n",
    "\n",
    "    b. Use a countplot to visualize the number of customers who are active members and those who are not, categorized by churn status."
   ]
  },
  {
   "cell_type": "markdown",
   "id": "917b5b0c",
   "metadata": {},
   "source": [
    "11. a. Plot a histogram of the column 'Estimated Salary'.\n",
    "\n",
    "    b. Plot a histogram of customer churn and non-churn.\n",
    "    \n",
    "    c. Compare graph (histogram) Not Churn and churn with all customers."
   ]
  },
  {
   "cell_type": "markdown",
   "id": "a47bd50c",
   "metadata": {
    "papermill": {
     "duration": 0.011781,
     "end_time": "2022-10-21T18:23:10.198434",
     "exception": false,
     "start_time": "2022-10-21T18:23:10.186653",
     "status": "completed"
    },
    "tags": []
   },
   "source": [
    "<a id=\"section4\"></a>\n",
    "# Data Visualization :"
   ]
  },
  {
   "attachments": {
    "image.png": {
     "image/png": "[encoded data removed]"
    }
   },
   "cell_type": "markdown",
   "id": "4c69c743",
   "metadata": {},
   "source": [
    "![image.png](attachment:image.png)"
   ]
  }
 ],
 "metadata": {
  "kernelspec": {
   "display_name": "Python 3 (ipykernel)",
   "language": "python",
   "name": "python3"
  },
  "language_info": {
   "codemirror_mode": {
    "name": "ipython",
    "version": 3
   },
   "file_extension": ".py",
   "mimetype": "text/x-python",
   "name": "python",
   "nbconvert_exporter": "python",
   "pygments_lexer": "ipython3",
   "version": "3.11.5"
  },
  "papermill": {
   "default_parameters": {},
   "duration": 79.725934,
   "end_time": "2022-10-21T18:23:50.600735",
   "environment_variables": {},
   "exception": null,
   "input_path": "__notebook__.ipynb",
   "output_path": "__notebook__.ipynb",
   "parameters": {},
   "start_time": "2022-10-21T18:22:30.874801",
   "version": "2.3.4"
  }
 },
 "nbformat": 4,
 "nbformat_minor": 5
}
