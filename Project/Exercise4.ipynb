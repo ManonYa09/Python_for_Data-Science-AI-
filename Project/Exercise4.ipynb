{
 "cells": [
  {
   "cell_type": "markdown",
   "id": "2473da78-3c66-42c4-bc53-adeb7705267f",
   "metadata": {},
   "source": [
    "## Project"
   ]
  },
  {
   "cell_type": "markdown",
   "id": "13c79c31-8652-4f50-a06a-3c1f91a76f4f",
   "metadata": {},
   "source": [
    "#### 1. Understanding the Dataset\n",
    "\n",
    "**Objective:** Familiarize yourself with the dataset's structure and the type of information it contains.\n",
    "\n",
    "    Tasks:\n",
    "    - Identify the variables and their data types.\n",
    "    - Determine the number of entries in the dataset.\n",
    "    - Check for missing values.\n",
    "#### 2. Data Cleaning\n",
    "    - Handle missing values, if any.\n",
    "#### 3. Exploratory Data Analysis (EDA)\n",
    "**Objective:** Explore the data to uncover initial insights and identify patterns.\n",
    "\n",
    "    Tasks:\n",
    "    - Analyze the distribution of salaries across different job titles(just three type such as ```['Data Scientist', 'Data Engineer', 'Data Analyst']), experience levels, and company sizes.\n",
    "    - Explore the relationship between remote work ratio and salary.\n",
    "    - Investigate trends over the work years provided in the dataset.\n",
    "\n",
    "#### 4. In-depth Analysis\n",
    "**Objective:** Conduct specific analyses to answer research questions\n",
    "\n",
    "    Tasks:\n",
    "    - just three type such as ```['Data Scientist', 'Data Engineer', 'Data Analyst']\n",
    "    - Compare median salaries across different regions and company sizes.\n",
    "    - Analyze the impact of experience level on salary in different job roles(just three type such as ```['Data Scientist', 'Data Engineer', 'Data Analyst']).\n",
    "#### 5. Reporting and Insights\n",
    "**Objective:** Summarize findings and provide actionable insights based on the analysis.\n",
    "\n",
    "    Tasks:\n",
    "    - Write a report summarizing key findings from the analyses.\n",
    "    - Highlight any surprising patterns or trends.\n",
    "    - Offer recommendations for job seekers in the data science field."
   ]
  },
  {
   "cell_type": "markdown",
   "id": "208416e9-298a-43f2-a2cc-103b28ffd1a1",
   "metadata": {},
   "source": [
    "#### 1. Understanding the Dataset\n",
    "\n",
    "**Objective:** Familiarize yourself with the dataset's structure and the type of information it contains.\n",
    "\n",
    "    Tasks:\n",
    "    - Identify the variables and their data types.\n",
    "    - Determine the number of entries in the dataset.\n",
    "    - Check for missing values."
   ]
  },
  {
   "cell_type": "code",
   "execution_count": 16,
   "id": "9720f5d0-0151-4d80-8429-17c137f4540e",
   "metadata": {},
   "outputs": [],
   "source": [
    "df = pd.read_csv('ds_salaries.csv')"
   ]
  },
  {
   "cell_type": "code",
   "execution_count": 18,
   "id": "aff51439-daea-4b9b-ae0c-72495f4a276f",
   "metadata": {},
   "outputs": [
    {
     "data": {
      "text/plain": [
       "Index(['id', 'work_year', 'experience_level', 'employment_type', 'job_title',\n",
       "       'salary', 'salary_currency', 'salary_in_usd', 'employee_residence',\n",
       "       'remote_ratio', 'company_location', 'company_size'],\n",
       "      dtype='object')"
      ]
     },
     "execution_count": 18,
     "metadata": {},
     "output_type": "execute_result"
    }
   ],
   "source": [
    "df.columns"
   ]
  },
  {
   "cell_type": "code",
   "execution_count": 17,
   "id": "4eed2d47-2e51-4c89-b512-c4e892442f64",
   "metadata": {},
   "outputs": [
    {
     "data": {
      "text/html": [
       "<div>\n",
       "<style scoped>\n",
       "    .dataframe tbody tr th:only-of-type {\n",
       "        vertical-align: middle;\n",
       "    }\n",
       "\n",
       "    .dataframe tbody tr th {\n",
       "        vertical-align: top;\n",
       "    }\n",
       "\n",
       "    .dataframe thead th {\n",
       "        text-align: right;\n",
       "    }\n",
       "</style>\n",
       "<table border=\"1\" class=\"dataframe\">\n",
       "  <thead>\n",
       "    <tr style=\"text-align: right;\">\n",
       "      <th></th>\n",
       "      <th>id</th>\n",
       "      <th>work_year</th>\n",
       "      <th>experience_level</th>\n",
       "      <th>employment_type</th>\n",
       "      <th>job_title</th>\n",
       "      <th>salary</th>\n",
       "      <th>salary_currency</th>\n",
       "      <th>salary_in_usd</th>\n",
       "      <th>employee_residence</th>\n",
       "      <th>remote_ratio</th>\n",
       "      <th>company_location</th>\n",
       "      <th>company_size</th>\n",
       "    </tr>\n",
       "  </thead>\n",
       "  <tbody>\n",
       "    <tr>\n",
       "      <th>0</th>\n",
       "      <td>0</td>\n",
       "      <td>2020</td>\n",
       "      <td>MI</td>\n",
       "      <td>FT</td>\n",
       "      <td>Data Scientist</td>\n",
       "      <td>70000</td>\n",
       "      <td>EUR</td>\n",
       "      <td>79833</td>\n",
       "      <td>DE</td>\n",
       "      <td>0</td>\n",
       "      <td>DE</td>\n",
       "      <td>L</td>\n",
       "    </tr>\n",
       "    <tr>\n",
       "      <th>1</th>\n",
       "      <td>1</td>\n",
       "      <td>2020</td>\n",
       "      <td>SE</td>\n",
       "      <td>FT</td>\n",
       "      <td>Machine Learning Scientist</td>\n",
       "      <td>260000</td>\n",
       "      <td>USD</td>\n",
       "      <td>260000</td>\n",
       "      <td>JP</td>\n",
       "      <td>0</td>\n",
       "      <td>JP</td>\n",
       "      <td>S</td>\n",
       "    </tr>\n",
       "    <tr>\n",
       "      <th>2</th>\n",
       "      <td>2</td>\n",
       "      <td>2020</td>\n",
       "      <td>SE</td>\n",
       "      <td>FT</td>\n",
       "      <td>Big Data Engineer</td>\n",
       "      <td>85000</td>\n",
       "      <td>GBP</td>\n",
       "      <td>109024</td>\n",
       "      <td>GB</td>\n",
       "      <td>50</td>\n",
       "      <td>GB</td>\n",
       "      <td>M</td>\n",
       "    </tr>\n",
       "    <tr>\n",
       "      <th>3</th>\n",
       "      <td>3</td>\n",
       "      <td>2020</td>\n",
       "      <td>MI</td>\n",
       "      <td>FT</td>\n",
       "      <td>Product Data Analyst</td>\n",
       "      <td>20000</td>\n",
       "      <td>USD</td>\n",
       "      <td>20000</td>\n",
       "      <td>HN</td>\n",
       "      <td>0</td>\n",
       "      <td>HN</td>\n",
       "      <td>S</td>\n",
       "    </tr>\n",
       "    <tr>\n",
       "      <th>4</th>\n",
       "      <td>4</td>\n",
       "      <td>2020</td>\n",
       "      <td>SE</td>\n",
       "      <td>FT</td>\n",
       "      <td>Machine Learning Engineer</td>\n",
       "      <td>150000</td>\n",
       "      <td>USD</td>\n",
       "      <td>150000</td>\n",
       "      <td>US</td>\n",
       "      <td>50</td>\n",
       "      <td>US</td>\n",
       "      <td>L</td>\n",
       "    </tr>\n",
       "  </tbody>\n",
       "</table>\n",
       "</div>"
      ],
      "text/plain": [
       "   id  work_year experience_level employment_type                   job_title  \\\n",
       "0   0       2020               MI              FT              Data Scientist   \n",
       "1   1       2020               SE              FT  Machine Learning Scientist   \n",
       "2   2       2020               SE              FT           Big Data Engineer   \n",
       "3   3       2020               MI              FT        Product Data Analyst   \n",
       "4   4       2020               SE              FT   Machine Learning Engineer   \n",
       "\n",
       "   salary salary_currency  salary_in_usd employee_residence  remote_ratio  \\\n",
       "0   70000             EUR          79833                 DE             0   \n",
       "1  260000             USD         260000                 JP             0   \n",
       "2   85000             GBP         109024                 GB            50   \n",
       "3   20000             USD          20000                 HN             0   \n",
       "4  150000             USD         150000                 US            50   \n",
       "\n",
       "  company_location company_size  \n",
       "0               DE            L  \n",
       "1               JP            S  \n",
       "2               GB            M  \n",
       "3               HN            S  \n",
       "4               US            L  "
      ]
     },
     "execution_count": 17,
     "metadata": {},
     "output_type": "execute_result"
    }
   ],
   "source": [
    "df.head()"
   ]
  },
  {
   "cell_type": "code",
   "execution_count": 20,
   "id": "ccc7055b-fb06-4593-8f88-7cdd3b667e5e",
   "metadata": {},
   "outputs": [
    {
     "name": "stdout",
     "output_type": "stream",
     "text": [
      "<class 'pandas.core.frame.DataFrame'>\n",
      "RangeIndex: 607 entries, 0 to 606\n",
      "Data columns (total 12 columns):\n",
      " #   Column              Non-Null Count  Dtype \n",
      "---  ------              --------------  ----- \n",
      " 0   id                  607 non-null    int64 \n",
      " 1   work_year           607 non-null    int64 \n",
      " 2   experience_level    607 non-null    object\n",
      " 3   employment_type     607 non-null    object\n",
      " 4   job_title           607 non-null    object\n",
      " 5   salary              607 non-null    int64 \n",
      " 6   salary_currency     607 non-null    object\n",
      " 7   salary_in_usd       607 non-null    int64 \n",
      " 8   employee_residence  607 non-null    object\n",
      " 9   remote_ratio        607 non-null    int64 \n",
      " 10  company_location    607 non-null    object\n",
      " 11  company_size        607 non-null    object\n",
      "dtypes: int64(5), object(7)\n",
      "memory usage: 57.0+ KB\n"
     ]
    }
   ],
   "source": [
    "df.info()"
   ]
  },
  {
   "cell_type": "code",
   "execution_count": null,
   "id": "72400cd7-b5f8-4b4c-bcb4-cf80178ba429",
   "metadata": {},
   "outputs": [],
   "source": [
    "Analyze the impact of experience level on salary in different job roles()."
   ]
  }
 ],
 "metadata": {
  "kernelspec": {
   "display_name": "Python 3 (ipykernel)",
   "language": "python",
   "name": "python3"
  },
  "language_info": {
   "codemirror_mode": {
    "name": "ipython",
    "version": 3
   },
   "file_extension": ".py",
   "mimetype": "text/x-python",
   "name": "python",
   "nbconvert_exporter": "python",
   "pygments_lexer": "ipython3",
   "version": "3.11.5"
  }
 },
 "nbformat": 4,
 "nbformat_minor": 5
}
