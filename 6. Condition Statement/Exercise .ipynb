{
 "cells": [
  {
   "cell_type": "markdown",
   "id": "612c0545",
   "metadata": {},
   "source": [
    "## Exercise1.\n",
    "Given a list of numbers, \n",
    "```py\n",
    "numbers = [45, 23, 67, 12, 89, 34]\n",
    "\n",
    "```\n",
    "a. find and print the minimum value.\n",
    "\n",
    "b.  find and print the maximum value.\n",
    "\n",
    "c. calculate and print the sum of all elements.\n",
    "\n",
    "d. calculate and print the average.\n",
    "\n",
    "e. add a new element (10, 12, 13, 24) to the list and print the updated list."
   ]
  },
  {
   "cell_type": "code",
   "execution_count": 1,
   "id": "5f5cee2a",
   "metadata": {},
   "outputs": [
    {
     "name": "stdout",
     "output_type": "stream",
     "text": [
      "Minimum value: 12\n",
      "Maximum value: 89\n",
      "Sum of all elements: 270\n",
      "The average of all elements: 45.0\n"
     ]
    }
   ],
   "source": [
    "numbers = [45, 23, 67, 12, 89, 34]\n",
    "print('Minimum value:', min(numbers))\n",
    "print('Maximum value:', max(numbers))\n",
    "print('Sum of all elements:', sum(numbers))\n",
    "print('The average of all elements:', sum(numbers)/len(numbers))"
   ]
  },
  {
   "cell_type": "code",
   "execution_count": 2,
   "id": "abd7ce1b",
   "metadata": {},
   "outputs": [],
   "source": [
    "numbers.extend([10, 12, 13, 14])"
   ]
  },
  {
   "cell_type": "code",
   "execution_count": 3,
   "id": "24895648",
   "metadata": {},
   "outputs": [
    {
     "data": {
      "text/plain": [
       "[45, 23, 67, 12, 89, 34, 10, 12, 13, 14]"
      ]
     },
     "execution_count": 3,
     "metadata": {},
     "output_type": "execute_result"
    }
   ],
   "source": [
    "numbers"
   ]
  },
  {
   "cell_type": "markdown",
   "id": "f49c9b23",
   "metadata": {},
   "source": [
    "### Exericse2 \n",
    "Given a list of numbers,\n",
    "\n",
    "numbers1 = [1, 2, 3, 4, 2, 5, 2]\n",
    "\n",
    "a. count and print the occurrences of a specific element.\n",
    "\n",
    "b. remove any duplicates and print the updated list.\n"
   ]
  },
  {
   "cell_type": "markdown",
   "id": "020969ee",
   "metadata": {},
   "source": [
    "### count and print the occurrences of a specific element."
   ]
  },
  {
   "cell_type": "code",
   "execution_count": 7,
   "id": "182c8ca6",
   "metadata": {},
   "outputs": [
    {
     "data": {
      "text/plain": [
       "1"
      ]
     },
     "execution_count": 7,
     "metadata": {},
     "output_type": "execute_result"
    }
   ],
   "source": [
    "spcifit_element_count = 1\n",
    "numbers1 = [1, 2,3, 4, 2, 5, 2]\n",
    "numbers1.count(spcifit_element_count)"
   ]
  },
  {
   "cell_type": "code",
   "execution_count": 16,
   "id": "a811e9f2",
   "metadata": {},
   "outputs": [
    {
     "name": "stdout",
     "output_type": "stream",
     "text": [
      "Count number :2\n"
     ]
    },
    {
     "data": {
      "text/plain": [
       "3"
      ]
     },
     "execution_count": 16,
     "metadata": {},
     "output_type": "execute_result"
    }
   ],
   "source": [
    "spcifit_element_count = int(input('Count number :'))\n",
    "numbers1 = [1, 2,3, 4, 2, 5, 2]\n",
    "numbers1.count(spcifit_element_count)"
   ]
  },
  {
   "cell_type": "markdown",
   "id": "5b20ba37",
   "metadata": {},
   "source": [
    "###  remove any duplicates and print the updated list."
   ]
  },
  {
   "cell_type": "code",
   "execution_count": 10,
   "id": "08326875",
   "metadata": {},
   "outputs": [
    {
     "data": {
      "text/plain": [
       "[1, 2, 3, 4, 2, 5, 2]"
      ]
     },
     "execution_count": 10,
     "metadata": {},
     "output_type": "execute_result"
    }
   ],
   "source": [
    "numbers1"
   ]
  },
  {
   "cell_type": "code",
   "execution_count": 11,
   "id": "6c3714fb",
   "metadata": {},
   "outputs": [],
   "source": [
    "del numbers1[1]"
   ]
  },
  {
   "cell_type": "code",
   "execution_count": 12,
   "id": "3dcdf2be",
   "metadata": {},
   "outputs": [
    {
     "data": {
      "text/plain": [
       "[1, 3, 4, 2, 5, 2]"
      ]
     },
     "execution_count": 12,
     "metadata": {},
     "output_type": "execute_result"
    }
   ],
   "source": [
    "numbers1"
   ]
  },
  {
   "cell_type": "code",
   "execution_count": 14,
   "id": "56e190fc",
   "metadata": {},
   "outputs": [],
   "source": [
    "del numbers1[-1]"
   ]
  },
  {
   "cell_type": "code",
   "execution_count": 17,
   "id": "c7347186",
   "metadata": {},
   "outputs": [
    {
     "data": {
      "text/plain": [
       "[1, 2, 3, 4, 2, 5, 2]"
      ]
     },
     "execution_count": 17,
     "metadata": {},
     "output_type": "execute_result"
    }
   ],
   "source": [
    "numbers1"
   ]
  },
  {
   "cell_type": "code",
   "execution_count": 19,
   "id": "391a4bbd",
   "metadata": {},
   "outputs": [
    {
     "data": {
      "text/plain": [
       "[1, 2, 3, 4, 5]"
      ]
     },
     "execution_count": 19,
     "metadata": {},
     "output_type": "execute_result"
    }
   ],
   "source": [
    "list(set(numbers1))"
   ]
  },
  {
   "cell_type": "code",
   "execution_count": 20,
   "id": "90055c5b",
   "metadata": {},
   "outputs": [
    {
     "data": {
      "text/plain": [
       "[1, 2, 3, 4, 2, 5, 2]"
      ]
     },
     "execution_count": 20,
     "metadata": {},
     "output_type": "execute_result"
    }
   ],
   "source": [
    "numbers1"
   ]
  },
  {
   "cell_type": "code",
   "execution_count": 21,
   "id": "50c033fa",
   "metadata": {},
   "outputs": [],
   "source": [
    "numbers1.sort()"
   ]
  },
  {
   "cell_type": "code",
   "execution_count": 22,
   "id": "786a1a5c",
   "metadata": {},
   "outputs": [
    {
     "data": {
      "text/plain": [
       "[1, 2, 2, 2, 3, 4, 5]"
      ]
     },
     "execution_count": 22,
     "metadata": {},
     "output_type": "execute_result"
    }
   ],
   "source": [
    "numbers1"
   ]
  },
  {
   "cell_type": "code",
   "execution_count": 23,
   "id": "42771967",
   "metadata": {},
   "outputs": [],
   "source": [
    "numbers1.sort(reverse=True)"
   ]
  },
  {
   "cell_type": "code",
   "execution_count": 24,
   "id": "7af00311",
   "metadata": {},
   "outputs": [
    {
     "data": {
      "text/plain": [
       "[5, 4, 3, 2, 2, 2, 1]"
      ]
     },
     "execution_count": 24,
     "metadata": {},
     "output_type": "execute_result"
    }
   ],
   "source": [
    "numbers1"
   ]
  }
 ],
 "metadata": {
  "kernelspec": {
   "display_name": "Python 3 (ipykernel)",
   "language": "python",
   "name": "python3"
  },
  "language_info": {
   "codemirror_mode": {
    "name": "ipython",
    "version": 3
   },
   "file_extension": ".py",
   "mimetype": "text/x-python",
   "name": "python",
   "nbconvert_exporter": "python",
   "pygments_lexer": "ipython3",
   "version": "3.10.9"
  }
 },
 "nbformat": 4,
 "nbformat_minor": 5
}
