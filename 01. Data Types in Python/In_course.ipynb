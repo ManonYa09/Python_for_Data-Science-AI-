{
 "cells": [
  {
   "cell_type": "code",
   "execution_count": 2,
   "id": "39b60498",
   "metadata": {},
   "outputs": [],
   "source": [
    "import pandas as pd"
   ]
  },
  {
   "cell_type": "code",
   "execution_count": 6,
   "id": "b8a1824e",
   "metadata": {},
   "outputs": [],
   "source": [
    "df = pd.read_csv('https://raw.githubusercontent.com/ManonYa09/Data_analysis_with_pandas/main/Data/housing_data.csv')"
   ]
  },
  {
   "cell_type": "code",
   "execution_count": 8,
   "id": "a8a799a4",
   "metadata": {},
   "outputs": [],
   "source": [
    "df1 = pd.read_csv('housing_data.csv')"
   ]
  },
  {
   "cell_type": "code",
   "execution_count": 23,
   "id": "cda5e51e",
   "metadata": {},
   "outputs": [
    {
     "name": "stdout",
     "output_type": "stream",
     "text": [
      "Hello, World\n"
     ]
    }
   ],
   "source": [
    "print('Hello, World')"
   ]
  },
  {
   "cell_type": "code",
   "execution_count": 15,
   "id": "045ecf51",
   "metadata": {},
   "outputs": [
    {
     "data": {
      "text/plain": [
       "region_name                 0\n",
       "period_begin                0\n",
       "period_end                  0\n",
       "total_homes_sold            0\n",
       "inventory                   0\n",
       "active_listings             0\n",
       "age_of_inventory            0\n",
       "median_active_list_price    0\n",
       "months_of_supply            0\n",
       "dtype: int64"
      ]
     },
     "execution_count": 15,
     "metadata": {},
     "output_type": "execute_result"
    }
   ],
   "source": [
    "df1.isnull().sum()"
   ]
  },
  {
   "cell_type": "code",
   "execution_count": 14,
   "id": "9d794144",
   "metadata": {},
   "outputs": [],
   "source": [
    "df1.dropna(inplace=True)"
   ]
  },
  {
   "cell_type": "code",
   "execution_count": 16,
   "id": "0516487d",
   "metadata": {},
   "outputs": [],
   "source": [
    "df1.to_csv('housing_final_data.csv', index=False)"
   ]
  },
  {
   "cell_type": "code",
   "execution_count": 17,
   "id": "13a98f01",
   "metadata": {},
   "outputs": [
    {
     "data": {
      "text/plain": [
       "Index(['region_name', 'period_begin', 'period_end', 'total_homes_sold',\n",
       "       'inventory', 'active_listings', 'age_of_inventory',\n",
       "       'median_active_list_price', 'months_of_supply'],\n",
       "      dtype='object')"
      ]
     },
     "execution_count": 17,
     "metadata": {},
     "output_type": "execute_result"
    }
   ],
   "source": [
    "df.columns"
   ]
  },
  {
   "cell_type": "code",
   "execution_count": 19,
   "id": "cea38586",
   "metadata": {},
   "outputs": [
    {
     "data": {
      "text/html": [
       "<div>\n",
       "<style scoped>\n",
       "    .dataframe tbody tr th:only-of-type {\n",
       "        vertical-align: middle;\n",
       "    }\n",
       "\n",
       "    .dataframe tbody tr th {\n",
       "        vertical-align: top;\n",
       "    }\n",
       "\n",
       "    .dataframe thead th {\n",
       "        text-align: right;\n",
       "    }\n",
       "</style>\n",
       "<table border=\"1\" class=\"dataframe\">\n",
       "  <thead>\n",
       "    <tr style=\"text-align: right;\">\n",
       "      <th></th>\n",
       "      <th>months_of_supply</th>\n",
       "      <th>median_active_list_price</th>\n",
       "    </tr>\n",
       "  </thead>\n",
       "  <tbody>\n",
       "    <tr>\n",
       "      <th>2</th>\n",
       "      <td>17.095583</td>\n",
       "      <td>268737.6</td>\n",
       "    </tr>\n",
       "    <tr>\n",
       "      <th>3</th>\n",
       "      <td>34.050000</td>\n",
       "      <td>115308.3</td>\n",
       "    </tr>\n",
       "    <tr>\n",
       "      <th>4</th>\n",
       "      <td>38.300000</td>\n",
       "      <td>158062.5</td>\n",
       "    </tr>\n",
       "    <tr>\n",
       "      <th>5</th>\n",
       "      <td>13.157870</td>\n",
       "      <td>196509.1</td>\n",
       "    </tr>\n",
       "    <tr>\n",
       "      <th>6</th>\n",
       "      <td>5.235794</td>\n",
       "      <td>445540.9</td>\n",
       "    </tr>\n",
       "    <tr>\n",
       "      <th>...</th>\n",
       "      <td>...</td>\n",
       "      <td>...</td>\n",
       "    </tr>\n",
       "    <tr>\n",
       "      <th>622313</th>\n",
       "      <td>10.992834</td>\n",
       "      <td>647883.0</td>\n",
       "    </tr>\n",
       "    <tr>\n",
       "      <th>622315</th>\n",
       "      <td>9.219697</td>\n",
       "      <td>122793.7</td>\n",
       "    </tr>\n",
       "    <tr>\n",
       "      <th>622324</th>\n",
       "      <td>10.000000</td>\n",
       "      <td>61741.6</td>\n",
       "    </tr>\n",
       "    <tr>\n",
       "      <th>622329</th>\n",
       "      <td>4.000000</td>\n",
       "      <td>650000.0</td>\n",
       "    </tr>\n",
       "    <tr>\n",
       "      <th>622332</th>\n",
       "      <td>4.208333</td>\n",
       "      <td>86304.1</td>\n",
       "    </tr>\n",
       "  </tbody>\n",
       "</table>\n",
       "<p>560915 rows × 2 columns</p>\n",
       "</div>"
      ],
      "text/plain": [
       "        months_of_supply  median_active_list_price\n",
       "2              17.095583                  268737.6\n",
       "3              34.050000                  115308.3\n",
       "4              38.300000                  158062.5\n",
       "5              13.157870                  196509.1\n",
       "6               5.235794                  445540.9\n",
       "...                  ...                       ...\n",
       "622313         10.992834                  647883.0\n",
       "622315          9.219697                  122793.7\n",
       "622324         10.000000                   61741.6\n",
       "622329          4.000000                  650000.0\n",
       "622332          4.208333                   86304.1\n",
       "\n",
       "[560915 rows x 2 columns]"
      ]
     },
     "execution_count": 19,
     "metadata": {},
     "output_type": "execute_result"
    }
   ],
   "source": [
    "df1[['months_of_supply','median_active_list_price' ]]"
   ]
  },
  {
   "cell_type": "code",
   "execution_count": 22,
   "id": "59595ca3",
   "metadata": {},
   "outputs": [
    {
     "data": {
      "text/html": [
       "<div>\n",
       "<style scoped>\n",
       "    .dataframe tbody tr th:only-of-type {\n",
       "        vertical-align: middle;\n",
       "    }\n",
       "\n",
       "    .dataframe tbody tr th {\n",
       "        vertical-align: top;\n",
       "    }\n",
       "\n",
       "    .dataframe thead th {\n",
       "        text-align: right;\n",
       "    }\n",
       "</style>\n",
       "<table border=\"1\" class=\"dataframe\">\n",
       "  <thead>\n",
       "    <tr style=\"text-align: right;\">\n",
       "      <th></th>\n",
       "      <th>region_name</th>\n",
       "      <th>period_begin</th>\n",
       "      <th>period_end</th>\n",
       "      <th>total_homes_sold</th>\n",
       "      <th>inventory</th>\n",
       "      <th>active_listings</th>\n",
       "      <th>age_of_inventory</th>\n",
       "      <th>median_active_list_price</th>\n",
       "      <th>months_of_supply</th>\n",
       "    </tr>\n",
       "  </thead>\n",
       "  <tbody>\n",
       "    <tr>\n",
       "      <th>622313</th>\n",
       "      <td>Boulder County, CO</td>\n",
       "      <td>1/15/2018</td>\n",
       "      <td>4/8/2018</td>\n",
       "      <td>973.0</td>\n",
       "      <td>746.0</td>\n",
       "      <td>838.0</td>\n",
       "      <td>44.9</td>\n",
       "      <td>647883.0</td>\n",
       "      <td>10.992834</td>\n",
       "    </tr>\n",
       "    <tr>\n",
       "      <th>622332</th>\n",
       "      <td>Coke County, TX</td>\n",
       "      <td>1/20/2020</td>\n",
       "      <td>4/12/2020</td>\n",
       "      <td>10.0</td>\n",
       "      <td>4.0</td>\n",
       "      <td>4.0</td>\n",
       "      <td>25.8</td>\n",
       "      <td>86304.1</td>\n",
       "      <td>4.208333</td>\n",
       "    </tr>\n",
       "  </tbody>\n",
       "</table>\n",
       "</div>"
      ],
      "text/plain": [
       "               region_name period_begin period_end  total_homes_sold  \\\n",
       "622313  Boulder County, CO    1/15/2018   4/8/2018             973.0   \n",
       "622332     Coke County, TX    1/20/2020  4/12/2020              10.0   \n",
       "\n",
       "        inventory  active_listings  age_of_inventory  \\\n",
       "622313      746.0            838.0              44.9   \n",
       "622332        4.0              4.0              25.8   \n",
       "\n",
       "        median_active_list_price  months_of_supply  \n",
       "622313                  647883.0         10.992834  \n",
       "622332                   86304.1          4.208333  "
      ]
     },
     "execution_count": 22,
     "metadata": {},
     "output_type": "execute_result"
    }
   ],
   "source": [
    "df1.loc[[622313,622332]]"
   ]
  },
  {
   "cell_type": "code",
   "execution_count": 11,
   "id": "29365778",
   "metadata": {},
   "outputs": [],
   "source": [
    "df3 = df.loc[0:100, ]"
   ]
  },
  {
   "cell_type": "code",
   "execution_count": 13,
   "id": "e65a377e",
   "metadata": {},
   "outputs": [],
   "source": [
    "df3.to_csv('housing_100row.csv', index=False)"
   ]
  },
  {
   "cell_type": "code",
   "execution_count": null,
   "id": "bc63267d",
   "metadata": {},
   "outputs": [],
   "source": []
  }
 ],
 "metadata": {
  "kernelspec": {
   "display_name": "Python 3 (ipykernel)",
   "language": "python",
   "name": "python3"
  },
  "language_info": {
   "codemirror_mode": {
    "name": "ipython",
    "version": 3
   },
   "file_extension": ".py",
   "mimetype": "text/x-python",
   "name": "python",
   "nbconvert_exporter": "python",
   "pygments_lexer": "ipython3",
   "version": "3.10.9"
  }
 },
 "nbformat": 4,
 "nbformat_minor": 5
}
