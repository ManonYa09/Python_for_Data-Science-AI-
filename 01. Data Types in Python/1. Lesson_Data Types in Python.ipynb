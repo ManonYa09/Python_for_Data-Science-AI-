{
 "cells": [
  {
   "cell_type": "markdown",
   "id": "1c736a99",
   "metadata": {},
   "source": [
    "### Table of contents\n",
    "<a id=\"toc\"></a>\n",
    "- [Why is Programming Necessary for Data Science?](#why_prgramming_neccesary_for_datascience?)\n",
    "- [Writing Your First Python Code](#writing_your_first_python_code)\n",
    "\n",
    "- [Data Types in Python](#data_types_in_python)\n",
    "    - [Number](#number)\n",
    "        - [Integer](#integer)\n",
    "        - [Float](#float)\n",
    "        - [Complex Number](#complex_number)"
   ]
  },
  {
   "cell_type": "code",
   "execution_count": 1,
   "id": "c8b0c05e",
   "metadata": {},
   "outputs": [
    {
     "data": {
      "text/plain": [
       "2"
      ]
     },
     "execution_count": 1,
     "metadata": {},
     "output_type": "execute_result"
    }
   ],
   "source": [
    "1+1"
   ]
  },
  {
   "cell_type": "code",
   "execution_count": 4,
   "id": "6a6932d0",
   "metadata": {},
   "outputs": [
    {
     "data": {
      "text/plain": [
       "23217535536536626536"
      ]
     },
     "execution_count": 4,
     "metadata": {},
     "output_type": "execute_result"
    }
   ],
   "source": [
    "23214321412412412412+3214124124214124"
   ]
  },
  {
   "cell_type": "code",
   "execution_count": 3,
   "id": "bd18a30e",
   "metadata": {},
   "outputs": [
    {
     "data": {
      "text/plain": [
       "-32410102883"
      ]
     },
     "execution_count": 3,
     "metadata": {},
     "output_type": "execute_result"
    }
   ],
   "source": [
    "2332432-32412435315"
   ]
  },
  {
   "cell_type": "markdown",
   "id": "183e2e4f",
   "metadata": {},
   "source": [
    "<a id ='writing_your_first_python_code'></a> \n",
    "### Writing Your Frist Python Code"
   ]
  },
  {
   "cell_type": "markdown",
   "id": "91815589",
   "metadata": {},
   "source": [
    "The Python **print():** function takes in any number of parameters, and prints them out on line of text. "
   ]
  },
  {
   "cell_type": "markdown",
   "id": "469262ab",
   "metadata": {},
   "source": [
    "<hr/>\n",
    "<div class=\"alert alert-success alertsuccess\" style=\"margin-top: 20px\">\n",
    "[Tip]: To execute the Python code in the code cell below, click on the cell to select it and press <kbd>Shift</kbd> + <kbd>Enter</kbd>.\n",
    "</div>\n",
    "<hr/>"
   ]
  },
  {
   "cell_type": "code",
   "execution_count": 5,
   "id": "391524d4",
   "metadata": {},
   "outputs": [
    {
     "name": "stdout",
     "output_type": "stream",
     "text": [
      "Hello , World\n"
     ]
    }
   ],
   "source": [
    "print('Hello , World')"
   ]
  },
  {
   "cell_type": "code",
   "execution_count": 6,
   "id": "95aa2499",
   "metadata": {},
   "outputs": [
    {
     "name": "stdout",
     "output_type": "stream",
     "text": [
      "Wecome to Python\n"
     ]
    }
   ],
   "source": [
    "print('Wecome to Python')"
   ]
  },
  {
   "cell_type": "code",
   "execution_count": 7,
   "id": "ad702fa7",
   "metadata": {},
   "outputs": [
    {
     "name": "stdout",
     "output_type": "stream",
     "text": [
      "Happy Learning Python\n"
     ]
    }
   ],
   "source": [
    "print('Happy Learning Python')"
   ]
  },
  {
   "cell_type": "code",
   "execution_count": 8,
   "id": "cffce24b",
   "metadata": {},
   "outputs": [
    {
     "name": "stdout",
     "output_type": "stream",
     "text": [
      "Happy Learning Python\n"
     ]
    }
   ],
   "source": [
    "print(\"Happy Lea\n",
    "      rning Python\")"
   ]
  },
  {
   "cell_type": "code",
   "execution_count": null,
   "id": "1a990cb8",
   "metadata": {},
   "outputs": [],
   "source": [
    "print()"
   ]
  },
  {
   "cell_type": "code",
   "execution_count": 11,
   "id": "e68b56a9",
   "metadata": {},
   "outputs": [
    {
     "name": "stdout",
     "output_type": "stream",
     "text": [
      "Happy Learning Python\n",
      "Happy Learning Python\n",
      "Happy Learning Python\n",
      "Happy Learning Python\n"
     ]
    }
   ],
   "source": [
    "print('Happy Learning Python')\n",
    "print('Happy Learning Python')\n",
    "print('Happy Learning Python')\n",
    "print('Happy Learning Python')"
   ]
  },
  {
   "cell_type": "code",
   "execution_count": 15,
   "id": "c426cd81",
   "metadata": {},
   "outputs": [
    {
     "name": "stdout",
     "output_type": "stream",
     "text": [
      "Happy\n",
      "\n",
      "Learning Python\n"
     ]
    }
   ],
   "source": [
    "print('''Happy\n",
    "\n",
    "Learning Python''')"
   ]
  },
  {
   "cell_type": "code",
   "execution_count": 16,
   "id": "cb2486c2",
   "metadata": {},
   "outputs": [
    {
     "ename": "NameError",
     "evalue": "name 'prin' is not defined",
     "output_type": "error",
     "traceback": [
      "\u001b[1;31m---------------------------------------------------------------------------\u001b[0m",
      "\u001b[1;31mNameError\u001b[0m                                 Traceback (most recent call last)",
      "Cell \u001b[1;32mIn[16], line 1\u001b[0m\n\u001b[1;32m----> 1\u001b[0m \u001b[43mprin\u001b[49m(\u001b[38;5;124m'\u001b[39m\u001b[38;5;124mHello\u001b[39m\u001b[38;5;124m'\u001b[39m)\n",
      "\u001b[1;31mNameError\u001b[0m: name 'prin' is not defined"
     ]
    }
   ],
   "source": [
    "prin('Hello')"
   ]
  },
  {
   "cell_type": "code",
   "execution_count": 17,
   "id": "e3bd7a68",
   "metadata": {},
   "outputs": [
    {
     "ename": "NameError",
     "evalue": "name 'Print' is not defined",
     "output_type": "error",
     "traceback": [
      "\u001b[1;31m---------------------------------------------------------------------------\u001b[0m",
      "\u001b[1;31mNameError\u001b[0m                                 Traceback (most recent call last)",
      "Cell \u001b[1;32mIn[17], line 1\u001b[0m\n\u001b[1;32m----> 1\u001b[0m \u001b[43mPrint\u001b[49m(\u001b[38;5;124m'\u001b[39m\u001b[38;5;124mHello\u001b[39m\u001b[38;5;124m'\u001b[39m)\n",
      "\u001b[1;31mNameError\u001b[0m: name 'Print' is not defined"
     ]
    }
   ],
   "source": [
    "Print('Hello')"
   ]
  },
  {
   "cell_type": "code",
   "execution_count": null,
   "id": "fd66bb7e",
   "metadata": {},
   "outputs": [],
   "source": [
    "print('')"
   ]
  },
  {
   "cell_type": "code",
   "execution_count": 19,
   "id": "766204b0",
   "metadata": {},
   "outputs": [
    {
     "name": "stdout",
     "output_type": "stream",
     "text": [
      "Happy learning python\n",
      "\n",
      "Happy learning Python \n",
      "      \n"
     ]
    }
   ],
   "source": [
    "print('''Happy learning python\n",
    "\n",
    "Happy learning Python \n",
    "      ''')\n",
    "# Take a look at the errors in this Python code."
   ]
  },
  {
   "cell_type": "code",
   "execution_count": 21,
   "id": "52eef291",
   "metadata": {},
   "outputs": [
    {
     "name": "stdout",
     "output_type": "stream",
     "text": [
      "This will be printed\n",
      "This will cause an error\n",
      "This will NOT be printed\n"
     ]
    }
   ],
   "source": [
    "# Print string and error to see the running order\n",
    "print(\"This will be printed\")\n",
    "print(\"This will cause an error\")\n",
    "print(\"This will NOT be printed\")"
   ]
  },
  {
   "cell_type": "markdown",
   "id": "276ff55f",
   "metadata": {},
   "source": [
    "### Data Types in Python\n",
    "<a id= 'data_types_in_python'><a/>"
   ]
  },
  {
   "attachments": {
    "image.png": {
     "image/png": "[encoded data removed]"
    }
   },
   "cell_type": "markdown",
   "id": "a9de877f",
   "metadata": {},
   "source": [
    "Python has the following data types built-in by default\n",
    "```python\n",
    "- Text Type:str\n",
    "- Numeric Types: int, float, complex\n",
    "- Sequence Types: list, tuple, range\n",
    "- Mapping Type: dict\n",
    "- Set Types: set, frozenset\n",
    "- Boolean Type: bool\n",
    "- Binary Types: bytes, bytearray, memoryview\n",
    "- None Type: NoneType\n",
    "```\n",
    "![image.png](attachment:image.png)"
   ]
  },
  {
   "cell_type": "markdown",
   "id": "eb8e35c1",
   "metadata": {},
   "source": [
    "# Number"
   ]
  },
  {
   "cell_type": "markdown",
   "id": "70efed13",
   "metadata": {},
   "source": [
    "### Integer"
   ]
  },
  {
   "cell_type": "code",
   "execution_count": 30,
   "id": "275f5f07",
   "metadata": {},
   "outputs": [
    {
     "data": {
      "text/plain": [
       "int"
      ]
     },
     "execution_count": 30,
     "metadata": {},
     "output_type": "execute_result"
    }
   ],
   "source": [
    "type(-1)"
   ]
  },
  {
   "cell_type": "markdown",
   "id": "0e4cbe48",
   "metadata": {},
   "source": [
    "### Float"
   ]
  },
  {
   "cell_type": "code",
   "execution_count": null,
   "id": "858e5f0c",
   "metadata": {},
   "outputs": [],
   "source": [
    "type(-1.0)"
   ]
  },
  {
   "cell_type": "markdown",
   "id": "3508bdac",
   "metadata": {},
   "source": [
    "### Float"
   ]
  },
  {
   "cell_type": "code",
   "execution_count": 27,
   "id": "2119ca98",
   "metadata": {},
   "outputs": [
    {
     "data": {
      "text/plain": [
       "float"
      ]
     },
     "execution_count": 27,
     "metadata": {},
     "output_type": "execute_result"
    }
   ],
   "source": [
    "type(2.3)\n"
   ]
  },
  {
   "cell_type": "code",
   "execution_count": 29,
   "id": "d2791229",
   "metadata": {},
   "outputs": [
    {
     "data": {
      "text/plain": [
       "complex"
      ]
     },
     "execution_count": 29,
     "metadata": {},
     "output_type": "execute_result"
    }
   ],
   "source": [
    "type(1+3j)"
   ]
  },
  {
   "cell_type": "markdown",
   "id": "0e439421",
   "metadata": {},
   "source": [
    "### Text type"
   ]
  },
  {
   "cell_type": "code",
   "execution_count": 33,
   "id": "34de581e",
   "metadata": {},
   "outputs": [
    {
     "data": {
      "text/plain": [
       "str"
      ]
     },
     "execution_count": 33,
     "metadata": {},
     "output_type": "execute_result"
    }
   ],
   "source": [
    "type('Hello')\n"
   ]
  },
  {
   "cell_type": "code",
   "execution_count": 34,
   "id": "989456cb",
   "metadata": {},
   "outputs": [
    {
     "data": {
      "text/plain": [
       "str"
      ]
     },
     "execution_count": 34,
     "metadata": {},
     "output_type": "execute_result"
    }
   ],
   "source": [
    "type ('a')"
   ]
  },
  {
   "cell_type": "code",
   "execution_count": 35,
   "id": "ec24f5b1",
   "metadata": {},
   "outputs": [
    {
     "data": {
      "text/plain": [
       "str"
      ]
     },
     "execution_count": 35,
     "metadata": {},
     "output_type": "execute_result"
    }
   ],
   "source": [
    "type(' ')"
   ]
  },
  {
   "cell_type": "code",
   "execution_count": 36,
   "id": "796b8c16",
   "metadata": {},
   "outputs": [
    {
     "data": {
      "text/plain": [
       "str"
      ]
     },
     "execution_count": 36,
     "metadata": {},
     "output_type": "execute_result"
    }
   ],
   "source": [
    "type(\" a\")"
   ]
  },
  {
   "cell_type": "code",
   "execution_count": 38,
   "id": "caecec2a",
   "metadata": {},
   "outputs": [
    {
     "data": {
      "text/plain": [
       "str"
      ]
     },
     "execution_count": 38,
     "metadata": {},
     "output_type": "execute_result"
    }
   ],
   "source": [
    "type('''a\n",
    "\n",
    "\n",
    "''')"
   ]
  },
  {
   "cell_type": "markdown",
   "id": "cfa44db6",
   "metadata": {},
   "source": [
    " ## Sequence Types: list, tuple, range"
   ]
  },
  {
   "cell_type": "code",
   "execution_count": 40,
   "id": "a9083cba",
   "metadata": {},
   "outputs": [
    {
     "data": {
      "text/plain": [
       "list"
      ]
     },
     "execution_count": 40,
     "metadata": {},
     "output_type": "execute_result"
    }
   ],
   "source": [
    "## list\n",
    "type([1, 2, 3, 4, 5, 6])"
   ]
  },
  {
   "cell_type": "code",
   "execution_count": 41,
   "id": "f5a3d50c",
   "metadata": {},
   "outputs": [
    {
     "data": {
      "text/plain": [
       "21"
      ]
     },
     "execution_count": 41,
     "metadata": {},
     "output_type": "execute_result"
    }
   ],
   "source": [
    "sum([1,2, 3,4,5, 6])"
   ]
  },
  {
   "cell_type": "code",
   "execution_count": null,
   "id": "8d70644f",
   "metadata": {},
   "outputs": [],
   "source": [
    "sum()"
   ]
  },
  {
   "cell_type": "code",
   "execution_count": 42,
   "id": "5295166c",
   "metadata": {},
   "outputs": [
    {
     "data": {
      "text/plain": [
       "17080198639335488"
      ]
     },
     "execution_count": 42,
     "metadata": {},
     "output_type": "execute_result"
    }
   ],
   "source": [
    "sum([2324324, 234234324, 23423342, 234243242, 23432432,42**10])"
   ]
  },
  {
   "cell_type": "code",
   "execution_count": 48,
   "id": "edc89eda",
   "metadata": {},
   "outputs": [
    {
     "data": {
      "text/plain": [
       "2324324"
      ]
     },
     "execution_count": 48,
     "metadata": {},
     "output_type": "execute_result"
    }
   ],
   "source": [
    "min([2324324, 234234324, 23423342, 234243242, 23432432,42**10])"
   ]
  },
  {
   "cell_type": "code",
   "execution_count": 49,
   "id": "51dfd06f",
   "metadata": {},
   "outputs": [
    {
     "data": {
      "text/plain": [
       "17080198121677824"
      ]
     },
     "execution_count": 49,
     "metadata": {},
     "output_type": "execute_result"
    }
   ],
   "source": [
    "max([2324324, 234234324, 23423342, 234243242, 23432432,42**10])"
   ]
  },
  {
   "cell_type": "code",
   "execution_count": 43,
   "id": "7094c41b",
   "metadata": {},
   "outputs": [
    {
     "data": {
      "text/plain": [
       "[1, 'a', (1+2j)]"
      ]
     },
     "execution_count": 43,
     "metadata": {},
     "output_type": "execute_result"
    }
   ],
   "source": [
    "[1, 'a', 1+2j]"
   ]
  },
  {
   "cell_type": "code",
   "execution_count": 46,
   "id": "250ba6a9",
   "metadata": {},
   "outputs": [
    {
     "data": {
      "text/plain": [
       "tuple"
      ]
     },
     "execution_count": 46,
     "metadata": {},
     "output_type": "execute_result"
    }
   ],
   "source": [
    "## tuple \n",
    "type((1, 2, 3, 4, 5))"
   ]
  },
  {
   "cell_type": "code",
   "execution_count": 47,
   "id": "0fa773ff",
   "metadata": {},
   "outputs": [
    {
     "data": {
      "text/plain": [
       "15"
      ]
     },
     "execution_count": 47,
     "metadata": {},
     "output_type": "execute_result"
    }
   ],
   "source": [
    "sum((1,2, 3, 4, 5))"
   ]
  },
  {
   "cell_type": "code",
   "execution_count": 50,
   "id": "befb921d",
   "metadata": {},
   "outputs": [
    {
     "data": {
      "text/plain": [
       "range(0, 10)"
      ]
     },
     "execution_count": 50,
     "metadata": {},
     "output_type": "execute_result"
    }
   ],
   "source": [
    "### range \n",
    "range(0, 10, 2)"
   ]
  },
  {
   "cell_type": "code",
   "execution_count": null,
   "id": "92105a54",
   "metadata": {},
   "outputs": [],
   "source": [
    "0, 2, 4, 6, 8"
   ]
  },
  {
   "cell_type": "markdown",
   "id": "d42daf84",
   "metadata": {},
   "source": [
    "## Dictionary"
   ]
  },
  {
   "cell_type": "code",
   "execution_count": 58,
   "id": "04060161",
   "metadata": {},
   "outputs": [],
   "source": [
    "a = {'name':['Manon', 'Soka', 'Sok'],'age':[250, 159, 123], 'is_married':[False, True,True]}"
   ]
  },
  {
   "cell_type": "code",
   "execution_count": 59,
   "id": "f3de8dfd",
   "metadata": {},
   "outputs": [
    {
     "data": {
      "text/plain": [
       "{'name': ['Manon', 'Soka', 'Sok'],\n",
       " 'age': [250, 159, 123],\n",
       " 'is_married': [False, True, True]}"
      ]
     },
     "execution_count": 59,
     "metadata": {},
     "output_type": "execute_result"
    }
   ],
   "source": [
    "a"
   ]
  },
  {
   "cell_type": "code",
   "execution_count": 68,
   "id": "6b4e00ba",
   "metadata": {},
   "outputs": [],
   "source": [
    "import pandas as pd"
   ]
  },
  {
   "cell_type": "code",
   "execution_count": 69,
   "id": "0b7412fa",
   "metadata": {},
   "outputs": [],
   "source": [
    "pi = 3.14"
   ]
  },
  {
   "cell_type": "code",
   "execution_count": 70,
   "id": "9321ac44",
   "metadata": {},
   "outputs": [],
   "source": [
    "import math as m"
   ]
  },
  {
   "cell_type": "code",
   "execution_count": 73,
   "id": "5345bc6b",
   "metadata": {},
   "outputs": [],
   "source": [
    "r = 10\n",
    "s = m.pi *  r**2"
   ]
  },
  {
   "cell_type": "code",
   "execution_count": 74,
   "id": "54c6fc25",
   "metadata": {},
   "outputs": [
    {
     "data": {
      "text/plain": [
       "314.1592653589793"
      ]
     },
     "execution_count": 74,
     "metadata": {},
     "output_type": "execute_result"
    }
   ],
   "source": [
    "s"
   ]
  },
  {
   "cell_type": "code",
   "execution_count": 75,
   "id": "0e87c5a3",
   "metadata": {},
   "outputs": [
    {
     "name": "stdout",
     "output_type": "stream",
     "text": [
      "314.1592653589793\n"
     ]
    }
   ],
   "source": [
    "print(s)"
   ]
  },
  {
   "cell_type": "code",
   "execution_count": 78,
   "id": "385d60bd",
   "metadata": {},
   "outputs": [
    {
     "name": "stdout",
     "output_type": "stream",
     "text": [
      "This is S: 314.1592653589793\n"
     ]
    }
   ],
   "source": [
    "print('This is S:', s)"
   ]
  },
  {
   "cell_type": "code",
   "execution_count": 100,
   "id": "e352c7b2",
   "metadata": {},
   "outputs": [],
   "source": [
    "import pandas as pd"
   ]
  },
  {
   "cell_type": "code",
   "execution_count": 65,
   "id": "d24442a8",
   "metadata": {},
   "outputs": [],
   "source": [
    "import pandas"
   ]
  },
  {
   "cell_type": "code",
   "execution_count": 66,
   "id": "d604d5fa",
   "metadata": {},
   "outputs": [],
   "source": [
    "df = pandas.DataFrame(a)"
   ]
  },
  {
   "cell_type": "code",
   "execution_count": 67,
   "id": "b7b78148",
   "metadata": {},
   "outputs": [
    {
     "data": {
      "text/html": [
       "<div>\n",
       "<style scoped>\n",
       "    .dataframe tbody tr th:only-of-type {\n",
       "        vertical-align: middle;\n",
       "    }\n",
       "\n",
       "    .dataframe tbody tr th {\n",
       "        vertical-align: top;\n",
       "    }\n",
       "\n",
       "    .dataframe thead th {\n",
       "        text-align: right;\n",
       "    }\n",
       "</style>\n",
       "<table border=\"1\" class=\"dataframe\">\n",
       "  <thead>\n",
       "    <tr style=\"text-align: right;\">\n",
       "      <th></th>\n",
       "      <th>name</th>\n",
       "      <th>age</th>\n",
       "      <th>is_married</th>\n",
       "    </tr>\n",
       "  </thead>\n",
       "  <tbody>\n",
       "    <tr>\n",
       "      <th>0</th>\n",
       "      <td>Manon</td>\n",
       "      <td>250</td>\n",
       "      <td>False</td>\n",
       "    </tr>\n",
       "    <tr>\n",
       "      <th>1</th>\n",
       "      <td>Soka</td>\n",
       "      <td>159</td>\n",
       "      <td>True</td>\n",
       "    </tr>\n",
       "    <tr>\n",
       "      <th>2</th>\n",
       "      <td>Sok</td>\n",
       "      <td>123</td>\n",
       "      <td>True</td>\n",
       "    </tr>\n",
       "  </tbody>\n",
       "</table>\n",
       "</div>"
      ],
      "text/plain": [
       "    name  age  is_married\n",
       "0  Manon  250       False\n",
       "1   Soka  159        True\n",
       "2    Sok  123        True"
      ]
     },
     "execution_count": 67,
     "metadata": {},
     "output_type": "execute_result"
    }
   ],
   "source": [
    "df"
   ]
  },
  {
   "cell_type": "code",
   "execution_count": 85,
   "id": "c5e22bb6",
   "metadata": {},
   "outputs": [
    {
     "data": {
      "text/plain": [
       "name          object\n",
       "age            int64\n",
       "is_married      bool\n",
       "dtype: object"
      ]
     },
     "execution_count": 85,
     "metadata": {},
     "output_type": "execute_result"
    }
   ],
   "source": [
    "df.dtypes"
   ]
  },
  {
   "cell_type": "code",
   "execution_count": 60,
   "id": "5c5943a4",
   "metadata": {},
   "outputs": [
    {
     "data": {
      "text/plain": [
       "dict"
      ]
     },
     "execution_count": 60,
     "metadata": {},
     "output_type": "execute_result"
    }
   ],
   "source": [
    "type(a)"
   ]
  },
  {
   "cell_type": "markdown",
   "id": "36e83881",
   "metadata": {},
   "source": [
    "Take your time to look at the example about `data types` in Python below:"
   ]
  },
  {
   "cell_type": "code",
   "execution_count": 79,
   "id": "dc691a78",
   "metadata": {},
   "outputs": [],
   "source": [
    "first_name = \"Manon\"        # str\n",
    "last_name = 'Ya'            # str"
   ]
  },
  {
   "cell_type": "code",
   "execution_count": 80,
   "id": "04338eaa",
   "metadata": {},
   "outputs": [
    {
     "data": {
      "text/plain": [
       "str"
      ]
     },
     "execution_count": 80,
     "metadata": {},
     "output_type": "execute_result"
    }
   ],
   "source": [
    "type('Manon')"
   ]
  },
  {
   "cell_type": "code",
   "execution_count": 81,
   "id": "bcd74d80",
   "metadata": {},
   "outputs": [
    {
     "data": {
      "text/plain": [
       "str"
      ]
     },
     "execution_count": 81,
     "metadata": {},
     "output_type": "execute_result"
    }
   ],
   "source": [
    "type(first_name)"
   ]
  },
  {
   "cell_type": "code",
   "execution_count": 82,
   "id": "9c9b4423",
   "metadata": {},
   "outputs": [
    {
     "data": {
      "text/plain": [
       "str"
      ]
     },
     "execution_count": 82,
     "metadata": {},
     "output_type": "execute_result"
    }
   ],
   "source": [
    "type(last_name)"
   ]
  },
  {
   "cell_type": "code",
   "execution_count": 93,
   "id": "06e1a0a2",
   "metadata": {},
   "outputs": [],
   "source": [
    "country = ['Cambodia']        # str\n",
    "city= ('Phnom Penh', 'pp')         # str\n",
    "age = 250                   # int, it is not my real age, don't worry about it\n"
   ]
  },
  {
   "cell_type": "code",
   "execution_count": 96,
   "id": "64544688",
   "metadata": {},
   "outputs": [
    {
     "data": {
      "text/plain": [
       "str"
      ]
     },
     "execution_count": 96,
     "metadata": {},
     "output_type": "execute_result"
    }
   ],
   "source": [
    "type(('pp'))"
   ]
  },
  {
   "cell_type": "code",
   "execution_count": 94,
   "id": "02422286",
   "metadata": {},
   "outputs": [
    {
     "data": {
      "text/plain": [
       "list"
      ]
     },
     "execution_count": 94,
     "metadata": {},
     "output_type": "execute_result"
    }
   ],
   "source": [
    "type(country)"
   ]
  },
  {
   "cell_type": "code",
   "execution_count": 95,
   "id": "ecc30ca3",
   "metadata": {},
   "outputs": [
    {
     "data": {
      "text/plain": [
       "tuple"
      ]
     },
     "execution_count": 95,
     "metadata": {},
     "output_type": "execute_result"
    }
   ],
   "source": [
    "type(city)"
   ]
  },
  {
   "cell_type": "code",
   "execution_count": 84,
   "id": "d6950e1c",
   "metadata": {},
   "outputs": [
    {
     "data": {
      "text/plain": [
       "int"
      ]
     },
     "execution_count": 84,
     "metadata": {},
     "output_type": "execute_result"
    }
   ],
   "source": [
    "type(age)"
   ]
  },
  {
   "cell_type": "markdown",
   "id": "167e0b01",
   "metadata": {},
   "source": [
    "1. What is the Types of the following: 0<br>\n",
    "    - int\n",
    "    - float\n"
   ]
  },
  {
   "cell_type": "markdown",
   "id": "0dcee38b",
   "metadata": {},
   "source": [
    "2. What is the type of the following number 3.1222<br>\n",
    "    - int \n",
    "    - float"
   ]
  },
  {
   "cell_type": "code",
   "execution_count": 97,
   "id": "fb1d380d",
   "metadata": {},
   "outputs": [
    {
     "data": {
      "text/plain": [
       "float"
      ]
     },
     "execution_count": 97,
     "metadata": {},
     "output_type": "execute_result"
    }
   ],
   "source": [
    "type(3.1222)"
   ]
  },
  {
   "cell_type": "code",
   "execution_count": 99,
   "id": "a5a27c41",
   "metadata": {},
   "outputs": [
    {
     "data": {
      "text/plain": [
       "int"
      ]
     },
     "execution_count": 99,
     "metadata": {},
     "output_type": "execute_result"
    }
   ],
   "source": [
    "type(int(3.12))"
   ]
  },
  {
   "cell_type": "code",
   "execution_count": 22,
   "id": "bcf41261",
   "metadata": {},
   "outputs": [],
   "source": [
    "# Different python data types\n",
    "# Let's declare variables with various data types\n",
    "\n",
    "first_name = \"Manon\"        # str\n",
    "last_name = 'Ya'            # str\n",
    "country = 'Cambodia'        # str\n",
    "city= 'Phnom Penh'          # str\n",
    "age = 250                   # int, it is not my real age, don't worry about it\n"
   ]
  },
  {
   "cell_type": "code",
   "execution_count": null,
   "id": "0cf5e6d2",
   "metadata": {},
   "outputs": [],
   "source": [
    "# Printing out types\n",
    "print(type('Manon'))     # str\n",
    "print(type(first_name))     # str\n",
    "print(type(10))             # int\n",
    "print(type(3.14))           # float\n",
    "print(type(1 + 1j))         # complex\n",
    "print(type(True))           # bool\n",
    "print(type([1, 2, 3, 4]))     # list"
   ]
  },
  {
   "cell_type": "code",
   "execution_count": null,
   "id": "e196b7aa",
   "metadata": {},
   "outputs": [],
   "source": [
    "print(type({'name':'Manon','age':250, 'is_married':250}))       # dict\n",
    "print(type((1,2)))                                              # tuple\n",
    "print(type(zip([1,2],[3,4])))   "
   ]
  },
  {
   "cell_type": "markdown",
   "id": "c84e1b79",
   "metadata": {},
   "source": [
    "#### Integer\n",
    "<a id='integer'></a>"
   ]
  },
  {
   "cell_type": "code",
   "execution_count": null,
   "id": "14f853b2",
   "metadata": {},
   "outputs": [],
   "source": [
    "34"
   ]
  },
  {
   "cell_type": "code",
   "execution_count": null,
   "id": "68ff41f2",
   "metadata": {},
   "outputs": [],
   "source": [
    "56"
   ]
  },
  {
   "cell_type": "code",
   "execution_count": null,
   "id": "32bc0e9a",
   "metadata": {},
   "outputs": [],
   "source": [
    "-2"
   ]
  },
  {
   "cell_type": "code",
   "execution_count": null,
   "id": "1afa9f88",
   "metadata": {},
   "outputs": [],
   "source": [
    "-4"
   ]
  },
  {
   "cell_type": "code",
   "execution_count": null,
   "id": "4bc1eb81",
   "metadata": {},
   "outputs": [],
   "source": [
    "### Check integer types\n",
    "type(34)"
   ]
  },
  {
   "cell_type": "code",
   "execution_count": null,
   "id": "dd49012b",
   "metadata": {},
   "outputs": [],
   "source": [
    "type(56)"
   ]
  },
  {
   "cell_type": "code",
   "execution_count": null,
   "id": "c64886c9",
   "metadata": {},
   "outputs": [],
   "source": [
    "type(-2)"
   ]
  },
  {
   "cell_type": "code",
   "execution_count": null,
   "id": "643d991b",
   "metadata": {},
   "outputs": [],
   "source": [
    "print(type(34))\n",
    "print(type(56))\n",
    "print(type(-2))"
   ]
  },
  {
   "cell_type": "markdown",
   "id": "d6ec1bfe",
   "metadata": {},
   "source": [
    "#### Float\n",
    "<a id ='float'></a>"
   ]
  },
  {
   "cell_type": "code",
   "execution_count": null,
   "id": "afb1fb0f",
   "metadata": {},
   "outputs": [],
   "source": [
    "45.0"
   ]
  },
  {
   "cell_type": "code",
   "execution_count": null,
   "id": "0a987241",
   "metadata": {},
   "outputs": [],
   "source": [
    "34.2"
   ]
  },
  {
   "cell_type": "code",
   "execution_count": null,
   "id": "cb09aa0f",
   "metadata": {},
   "outputs": [],
   "source": [
    "23.001"
   ]
  },
  {
   "cell_type": "code",
   "execution_count": null,
   "id": "7945abe3",
   "metadata": {},
   "outputs": [],
   "source": [
    "## Check Float types\n",
    "type(45.0)\n"
   ]
  },
  {
   "cell_type": "code",
   "execution_count": null,
   "id": "7993a4ae",
   "metadata": {},
   "outputs": [],
   "source": [
    "type(34.2)"
   ]
  },
  {
   "cell_type": "code",
   "execution_count": null,
   "id": "84125911",
   "metadata": {},
   "outputs": [],
   "source": [
    "## use print function\n",
    "print(type(45.0))"
   ]
  },
  {
   "cell_type": "code",
   "execution_count": null,
   "id": "c8560b7d",
   "metadata": {},
   "outputs": [],
   "source": [
    "print(type(34.2))"
   ]
  },
  {
   "cell_type": "markdown",
   "id": "9a3d1401",
   "metadata": {},
   "source": [
    "### Complex number\n",
    "<a id='complex Number'></a>"
   ]
  },
  {
   "cell_type": "code",
   "execution_count": null,
   "id": "ac98e26e",
   "metadata": {},
   "outputs": [],
   "source": [
    "1-3j"
   ]
  },
  {
   "cell_type": "code",
   "execution_count": null,
   "id": "75e2c315",
   "metadata": {},
   "outputs": [],
   "source": [
    "3+2j"
   ]
  },
  {
   "cell_type": "code",
   "execution_count": null,
   "id": "92ad0259",
   "metadata": {},
   "outputs": [],
   "source": [
    "2j"
   ]
  },
  {
   "cell_type": "markdown",
   "id": "1f97c6d6",
   "metadata": {},
   "source": [
    "Take your time to use the `type()` function to check complex number types above."
   ]
  }
 ],
 "metadata": {
  "kernelspec": {
   "display_name": "Python 3 (ipykernel)",
   "language": "python",
   "name": "python3"
  },
  "language_info": {
   "codemirror_mode": {
    "name": "ipython",
    "version": 3
   },
   "file_extension": ".py",
   "mimetype": "text/x-python",
   "name": "python",
   "nbconvert_exporter": "python",
   "pygments_lexer": "ipython3",
   "version": "3.10.9"
  }
 },
 "nbformat": 4,
 "nbformat_minor": 5
}
