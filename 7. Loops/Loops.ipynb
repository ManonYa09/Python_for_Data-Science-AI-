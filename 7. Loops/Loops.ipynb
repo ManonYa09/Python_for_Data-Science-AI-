{
 "cells": [
  {
   "cell_type": "markdown",
   "id": "16c834f9",
   "metadata": {},
   "source": [
    "### Table of contents\n",
    "<a id=\"toc\"></a>\n",
    "- [Loops](#loops)\n",
    "    - [While Loop](#while-loop)\n",
    "    - [Break and Continue - Part 1](#break-and-continue---part-1)\n",
    "    - [For Loop](#for-loop)\n",
    "    - [Break and Continue - Part 2](#break-and-continue---part-2)\n",
    "    - [The Range Function](#the-range-function)\n",
    "    - [Nested For Loop](#nested-for-loop)\n",
    "    - [For Else](#for-else)\n",
    "    - [Pass](#pass)"
   ]
  },
  {
   "cell_type": "markdown",
   "id": "7698abe1",
   "metadata": {},
   "source": [
    "<a id='loops'></a>\n",
    "# Loops\n",
    "Life is full of routines. In programming we also do lots of repetitive tasks. In order to handle repetitive task programming languages use loops. Python programming language also provides the following types of two loops:\n",
    "\n",
    "1. while loop\n",
    "2. for loop"
   ]
  },
  {
   "cell_type": "markdown",
   "id": "0cb60de0",
   "metadata": {},
   "source": [
    "<a id='while-loop'></a>\n",
    "## While Loop\n",
    "\n",
    "We use the reserved word _while_ to make a while loop. It is used to execute a block of statements repeatedly until a given condition is satisfied. When the condition becomes false, the lines of code after the loop will be continued to be executed.\n",
    "\n",
    "```py\n",
    "  # syntax\n",
    "while condition:\n",
    "    code goes here\n",
    "```"
   ]
  },
  {
   "cell_type": "code",
   "execution_count": null,
   "id": "2d15d6b6",
   "metadata": {},
   "outputs": [],
   "source": [
    "x = 2"
   ]
  },
  {
   "cell_type": "code",
   "execution_count": null,
   "id": "f9acdc83",
   "metadata": {},
   "outputs": [],
   "source": [
    "x = x + 1\n",
    "x "
   ]
  },
  {
   "cell_type": "code",
   "execution_count": null,
   "id": "860d9056",
   "metadata": {},
   "outputs": [],
   "source": [
    "x = x + 1\n",
    "x "
   ]
  },
  {
   "cell_type": "code",
   "execution_count": null,
   "id": "97e7bb97",
   "metadata": {},
   "outputs": [],
   "source": [
    "x  = x + 3\n",
    "x"
   ]
  },
  {
   "cell_type": "code",
   "execution_count": 1,
   "id": "80a8e4e8",
   "metadata": {},
   "outputs": [
    {
     "name": "stdout",
     "output_type": "stream",
     "text": [
      "0\n",
      "1\n",
      "2\n",
      "3\n",
      "4\n"
     ]
    }
   ],
   "source": [
    "count = 0\n",
    "while count < 5:\n",
    "    print(count)\n",
    "    count = count + 1"
   ]
  },
  {
   "cell_type": "code",
   "execution_count": 2,
   "id": "09851807",
   "metadata": {},
   "outputs": [
    {
     "name": "stdout",
     "output_type": "stream",
     "text": [
      "1\n",
      "2\n",
      "3\n",
      "4\n",
      "5\n"
     ]
    }
   ],
   "source": [
    "count = 1\n",
    "while count <= 5:\n",
    "    print(count)\n",
    "    count += 1"
   ]
  },
  {
   "cell_type": "code",
   "execution_count": 3,
   "id": "4445d686",
   "metadata": {},
   "outputs": [
    {
     "name": "stdout",
     "output_type": "stream",
     "text": [
      "1\n",
      "2\n",
      "4\n"
     ]
    }
   ],
   "source": [
    "count = 1\n",
    "while count <= 6:\n",
    "    print(count)\n",
    "    count = count * 2"
   ]
  },
  {
   "cell_type": "code",
   "execution_count": 1,
   "id": "e74637ff",
   "metadata": {},
   "outputs": [],
   "source": [
    "# count = 1\n",
    "# while count <= 6:\n",
    "#     print(count)\n",
    "#     count = count/2"
   ]
  },
  {
   "cell_type": "code",
   "execution_count": 1,
   "id": "1101077d",
   "metadata": {},
   "outputs": [
    {
     "name": "stdout",
     "output_type": "stream",
     "text": [
      "1\n",
      "3\n",
      "5\n"
     ]
    }
   ],
   "source": [
    "count = 1\n",
    "while count <= 6:\n",
    "    print(count)\n",
    "    count = count + 2"
   ]
  },
  {
   "cell_type": "code",
   "execution_count": 2,
   "id": "9d88304f",
   "metadata": {},
   "outputs": [
    {
     "name": "stdout",
     "output_type": "stream",
     "text": [
      "2\n",
      "3\n",
      "4\n",
      "5\n"
     ]
    }
   ],
   "source": [
    "count = 2\n",
    "while count < 6:\n",
    "    print(count)\n",
    "    count = count + 1"
   ]
  },
  {
   "cell_type": "code",
   "execution_count": 3,
   "id": "31a2ac61",
   "metadata": {},
   "outputs": [
    {
     "name": "stdout",
     "output_type": "stream",
     "text": [
      "Enter the password: secret\n",
      "Wrong password!\n",
      "Access granted!\n"
     ]
    }
   ],
   "source": [
    "password = \"secret\"\n",
    "guess = \"\"\n",
    "while guess != password:\n",
    "    guess = input(\"Enter the password: \")\n",
    "    print('Wrong password!')\n",
    "print(\"Access granted!\")\n"
   ]
  },
  {
   "cell_type": "code",
   "execution_count": 4,
   "id": "891cf065",
   "metadata": {},
   "outputs": [],
   "source": [
    "def loop_of_number(count):\n",
    "    while count < 5:\n",
    "        print(count)\n",
    "        count += 1  "
   ]
  },
  {
   "cell_type": "code",
   "execution_count": 5,
   "id": "f6594b14",
   "metadata": {},
   "outputs": [
    {
     "name": "stdout",
     "output_type": "stream",
     "text": [
      "Sum: 55\n"
     ]
    }
   ],
   "source": [
    "sum = 0\n",
    "num = 1\n",
    "while num <= 10:\n",
    "    sum = sum + num\n",
    "    num += 1\n",
    "print(\"Sum:\", sum)\n"
   ]
  },
  {
   "cell_type": "markdown",
   "id": "4bd573a1",
   "metadata": {},
   "source": [
    "In the above while loop, the condition becomes false when count is 5. That is when the loop stops.\n",
    "If we are interested to run block of code once the condition is no longer true, we can use _else_.\n",
    "\n",
    "```py\n",
    "  # syntax\n",
    "while condition:\n",
    "    code goes here\n",
    "else:\n",
    "    code goes here\n",
    "```"
   ]
  },
  {
   "cell_type": "code",
   "execution_count": 6,
   "id": "7d65d5bc",
   "metadata": {},
   "outputs": [
    {
     "name": "stdout",
     "output_type": "stream",
     "text": [
      "This ture statement\n",
      "0\n",
      "This ture statement\n",
      "1\n",
      "This ture statement\n",
      "2\n",
      "This ture statement\n",
      "3\n",
      "This ture statement\n",
      "4\n",
      "This false statement\n",
      "5\n"
     ]
    }
   ],
   "source": [
    "count = 0\n",
    "while count < 5:\n",
    "    print('This ture statement')\n",
    "    print(count)\n",
    "    count = count + 1\n",
    "else:\n",
    "    print('This false statement')\n",
    "    print(count)"
   ]
  },
  {
   "cell_type": "markdown",
   "id": "468f0308",
   "metadata": {},
   "source": [
    "<a id='break-and-continue-part1'></a>\n",
    "### Break and Continue - Part 1\n",
    "\n",
    "- Break: We use break when we like to get out of or stop the loop.\n",
    "\n",
    "```py\n",
    "# syntax\n",
    "while condition:\n",
    "    code goes here\n",
    "    if another_condition:\n",
    "        break\n",
    "```"
   ]
  },
  {
   "cell_type": "code",
   "execution_count": 8,
   "id": "47ce4cb3",
   "metadata": {},
   "outputs": [
    {
     "name": "stdout",
     "output_type": "stream",
     "text": [
      "0\n",
      "1\n",
      "2\n"
     ]
    }
   ],
   "source": [
    "count = 0\n",
    "while count < 10:\n",
    "    print(count)\n",
    "    count = count + 1\n",
    "    if count == 3:\n",
    "        break"
   ]
  },
  {
   "cell_type": "code",
   "execution_count": 9,
   "id": "d1d0c8d0",
   "metadata": {},
   "outputs": [
    {
     "name": "stdout",
     "output_type": "stream",
     "text": [
      "0\n",
      "1\n"
     ]
    }
   ],
   "source": [
    "count = 0\n",
    "while count < 4:\n",
    "    print(count)\n",
    "    count = count + 1\n",
    "    if count == 2:\n",
    "        break"
   ]
  },
  {
   "cell_type": "code",
   "execution_count": 11,
   "id": "bcc821c2",
   "metadata": {},
   "outputs": [
    {
     "name": "stdout",
     "output_type": "stream",
     "text": [
      "0\n",
      "2\n",
      "4\n"
     ]
    }
   ],
   "source": [
    "count = 0\n",
    "while count <= 4:\n",
    "    print(count)\n",
    "    count = count + 2\n",
    "    if count == 5:\n",
    "        break"
   ]
  },
  {
   "cell_type": "markdown",
   "id": "1920582c",
   "metadata": {},
   "source": [
    "The above while loop only prints 0, 1, 2, but when it reaches 3 it stops.\n",
    "\n",
    "- Continue: With the continue statement we can skip the current iteration, and continue with the next:\n",
    "\n",
    "```py\n",
    "  # syntax\n",
    "while condition:\n",
    "    code goes here\n",
    "    if another_condition:\n",
    "        continue\n",
    "```"
   ]
  },
  {
   "cell_type": "code",
   "execution_count": 15,
   "id": "5287d30c",
   "metadata": {},
   "outputs": [
    {
     "name": "stdout",
     "output_type": "stream",
     "text": [
      "0\n",
      "2\n",
      "4\n"
     ]
    }
   ],
   "source": [
    "count = 0\n",
    "while count < 5:\n",
    "    if count == 3:\n",
    "        count = count + 1\n",
    "        continue\n",
    "    print(count)\n",
    "    count = count + 2"
   ]
  },
  {
   "cell_type": "code",
   "execution_count": 20,
   "id": "835b6cc3",
   "metadata": {},
   "outputs": [
    {
     "name": "stdout",
     "output_type": "stream",
     "text": [
      "0\n",
      "2\n",
      "4\n",
      "6\n"
     ]
    }
   ],
   "source": [
    "count = 0\n",
    "while count < 7:\n",
    "    if count == 3:\n",
    "        count = count + 2\n",
    "        continue\n",
    "    print(count)\n",
    "    count = count + 2"
   ]
  },
  {
   "cell_type": "code",
   "execution_count": 21,
   "id": "89e4f2c3",
   "metadata": {},
   "outputs": [
    {
     "name": "stdout",
     "output_type": "stream",
     "text": [
      "0\n",
      "2\n",
      "4\n",
      "6\n"
     ]
    }
   ],
   "source": [
    "count = 0\n",
    "while count < 7:\n",
    "    if count == 3:\n",
    "        count = count + 1\n",
    "        continue\n",
    "    print(count)\n",
    "    count = count + 2"
   ]
  },
  {
   "cell_type": "code",
   "execution_count": 23,
   "id": "5b152ff4",
   "metadata": {},
   "outputs": [
    {
     "name": "stdout",
     "output_type": "stream",
     "text": [
      "0\n",
      "1\n",
      "2\n"
     ]
    },
    {
     "ename": "KeyboardInterrupt",
     "evalue": "",
     "output_type": "error",
     "traceback": [
      "\u001b[1;31m---------------------------------------------------------------------------\u001b[0m",
      "\u001b[1;31mKeyboardInterrupt\u001b[0m                         Traceback (most recent call last)",
      "Cell \u001b[1;32mIn[23], line 5\u001b[0m\n\u001b[0;32m      2\u001b[0m \u001b[38;5;28;01mwhile\u001b[39;00m count \u001b[38;5;241m<\u001b[39m \u001b[38;5;241m7\u001b[39m:\n\u001b[0;32m      3\u001b[0m     \u001b[38;5;28;01mif\u001b[39;00m count \u001b[38;5;241m==\u001b[39m \u001b[38;5;241m3\u001b[39m:\n\u001b[1;32m----> 5\u001b[0m         \u001b[38;5;28;01mcontinue\u001b[39;00m\n\u001b[0;32m      6\u001b[0m     \u001b[38;5;28mprint\u001b[39m(count)\n\u001b[0;32m      7\u001b[0m     count \u001b[38;5;241m=\u001b[39m count \u001b[38;5;241m+\u001b[39m \u001b[38;5;241m1\u001b[39m\n",
      "\u001b[1;31mKeyboardInterrupt\u001b[0m: "
     ]
    }
   ],
   "source": [
    "count = 0\n",
    "while count < 7:\n",
    "    if count == 3:\n",
    "\n",
    "        continue\n",
    "    print(count)\n",
    "    count = count + 1"
   ]
  },
  {
   "cell_type": "code",
   "execution_count": null,
   "id": "eee2c027",
   "metadata": {},
   "outputs": [],
   "source": [
    "a = 3"
   ]
  },
  {
   "cell_type": "code",
   "execution_count": null,
   "id": "324214d6",
   "metadata": {},
   "outputs": [],
   "source": [
    "a = 4"
   ]
  },
  {
   "cell_type": "code",
   "execution_count": 12,
   "id": "22c33f3b",
   "metadata": {},
   "outputs": [
    {
     "name": "stdout",
     "output_type": "stream",
     "text": [
      "0\n",
      "1\n",
      "2\n",
      "4\n"
     ]
    }
   ],
   "source": [
    "count = 0\n",
    "while count < 5:\n",
    "    if count == 3:\n",
    "        count = count + 1\n",
    "        continue\n",
    "    print(count)\n",
    "    count = count + 1"
   ]
  },
  {
   "cell_type": "code",
   "execution_count": 19,
   "id": "dc23de87",
   "metadata": {},
   "outputs": [
    {
     "name": "stdout",
     "output_type": "stream",
     "text": [
      "0\n",
      "1\n",
      "2\n",
      "3\n",
      "5\n",
      "6\n",
      "7\n",
      "8\n",
      "9\n"
     ]
    }
   ],
   "source": [
    "count = 0\n",
    "while count < 10:\n",
    "    if count == 4:\n",
    "        count = count + 1\n",
    "        continue\n",
    "    print(count)\n",
    "    count = count + 1"
   ]
  },
  {
   "cell_type": "markdown",
   "id": "4cbec741",
   "metadata": {},
   "source": [
    "The above while loop only prints 0, 1, 2 and 4 (skips 3)."
   ]
  },
  {
   "cell_type": "code",
   "execution_count": null,
   "id": "7ac23242",
   "metadata": {},
   "outputs": [],
   "source": [
    "count = 0\n",
    "while count < 5:\n",
    "    if count == 3:\n",
    "        count = count + 1\n",
    "        continue\n",
    "    print(count)\n",
    "    count = count + 1"
   ]
  },
  {
   "cell_type": "code",
   "execution_count": null,
   "id": "3600c3f7",
   "metadata": {},
   "outputs": [],
   "source": [
    "count = 0\n",
    "while count < 5:\n",
    "    print(count)\n",
    "    count = count + 1"
   ]
  },
  {
   "cell_type": "markdown",
   "id": "1e4fb7c9",
   "metadata": {},
   "source": [
    "<a id='for-loop'></a>\n",
    "## For Loop\n",
    "\n",
    "A _for_ keyword is used to make a for loop, similar with other programming languages, but with some syntax differences. Loop is used for iterating over a sequence (that is either a list, a tuple, a dictionary, a set, or a string).\n",
    "\n",
    "- For loop with list\n",
    "\n",
    "```py\n",
    "# syntax\n",
    "for iterator in lst:\n",
    "    code goes here\n",
    "```\n"
   ]
  },
  {
   "cell_type": "code",
   "execution_count": 24,
   "id": "f86fc3c7",
   "metadata": {},
   "outputs": [
    {
     "name": "stdout",
     "output_type": "stream",
     "text": [
      "0\n",
      "1\n",
      "2\n",
      "3\n",
      "4\n",
      "5\n"
     ]
    }
   ],
   "source": [
    "numbers = [0, 1, 2, 3, 4, 5]\n",
    "for number in numbers:\n",
    "    print(number)      "
   ]
  },
  {
   "cell_type": "code",
   "execution_count": 25,
   "id": "04cf4fc8",
   "metadata": {},
   "outputs": [
    {
     "name": "stdout",
     "output_type": "stream",
     "text": [
      "3542\n",
      "1\n",
      "2\n",
      "3\n",
      "4\n",
      "5\n"
     ]
    }
   ],
   "source": [
    "numbers = [3542, 1, 2, 3, 4, 5]\n",
    "for i in numbers:\n",
    "    print(i)"
   ]
  },
  {
   "cell_type": "code",
   "execution_count": 31,
   "id": "f5b5d0c3",
   "metadata": {},
   "outputs": [
    {
     "data": {
      "text/plain": [
       "3542"
      ]
     },
     "execution_count": 31,
     "metadata": {},
     "output_type": "execute_result"
    }
   ],
   "source": [
    "numbers = [3542, 1, 2, 3, 4, 5]\n",
    "numbers[0]"
   ]
  },
  {
   "cell_type": "code",
   "execution_count": 32,
   "id": "beb7e11e",
   "metadata": {},
   "outputs": [
    {
     "data": {
      "text/plain": [
       "[3542, 1, 2]"
      ]
     },
     "execution_count": 32,
     "metadata": {},
     "output_type": "execute_result"
    }
   ],
   "source": [
    "numbers[0:3]"
   ]
  },
  {
   "cell_type": "code",
   "execution_count": 33,
   "id": "f7366f19",
   "metadata": {},
   "outputs": [
    {
     "data": {
      "text/plain": [
       "[3542, 1, 2, 3, 4, 5]"
      ]
     },
     "execution_count": 33,
     "metadata": {},
     "output_type": "execute_result"
    }
   ],
   "source": [
    "numbers[0:]"
   ]
  },
  {
   "cell_type": "code",
   "execution_count": 35,
   "id": "888e83a6",
   "metadata": {},
   "outputs": [
    {
     "name": "stdout",
     "output_type": "stream",
     "text": [
      "2\n",
      "4\n",
      "6\n",
      "8\n",
      "10\n"
     ]
    }
   ],
   "source": [
    "numbers = [1, 2, 3, 4, 5, 6, 7, 8, 9, 10]\n",
    "for a in numbers:\n",
    "    if a % 2 ==0:\n",
    "        print(a)"
   ]
  },
  {
   "cell_type": "code",
   "execution_count": 36,
   "id": "a92493fd",
   "metadata": {},
   "outputs": [
    {
     "name": "stdout",
     "output_type": "stream",
     "text": [
      "1\n",
      "3\n",
      "5\n",
      "7\n",
      "9\n"
     ]
    }
   ],
   "source": [
    "numbers = [1, 2, 3, 4, 5, 6, 7, 8, 9, 10]\n",
    "for a in numbers:\n",
    "    if a % 2 == 1:\n",
    "        print(a)"
   ]
  },
  {
   "cell_type": "code",
   "execution_count": null,
   "id": "393b3c3a",
   "metadata": {},
   "outputs": [],
   "source": [
    "numbers = [1, 2, 3, 4, 5, 6, 7, 8, 9, 10]\n",
    "for a in numbers:\n",
    "    print(a)"
   ]
  },
  {
   "cell_type": "code",
   "execution_count": 34,
   "id": "5ae74604",
   "metadata": {},
   "outputs": [
    {
     "name": "stdout",
     "output_type": "stream",
     "text": [
      "a\n",
      "b\n"
     ]
    }
   ],
   "source": [
    "print('a')\n",
    "print('b')"
   ]
  },
  {
   "cell_type": "markdown",
   "id": "b84a488b",
   "metadata": {},
   "source": [
    "- For loop with string\n",
    "\n",
    "```py\n",
    "# syntax\n",
    "for iterator in string:\n",
    "    code goes here\n",
    "```"
   ]
  },
  {
   "cell_type": "code",
   "execution_count": 27,
   "id": "b98b14db",
   "metadata": {},
   "outputs": [
    {
     "name": "stdout",
     "output_type": "stream",
     "text": [
      "P\n",
      "y\n",
      "t\n",
      "h\n",
      "o\n",
      "n\n"
     ]
    }
   ],
   "source": [
    "language = 'Python'\n",
    "for letter in language:\n",
    "    print(letter)\n"
   ]
  },
  {
   "cell_type": "code",
   "execution_count": 30,
   "id": "6ebc520f",
   "metadata": {},
   "outputs": [
    {
     "name": "stdout",
     "output_type": "stream",
     "text": [
      "H\n",
      "e\n",
      "l\n",
      "l\n",
      "o\n",
      ",\n",
      " \n",
      "w\n",
      "o\n",
      "r\n",
      "l\n",
      "d\n",
      "!\n"
     ]
    }
   ],
   "source": [
    "text = \"Hello, world!\"\n",
    "for i in text:\n",
    "    print(i)\n"
   ]
  },
  {
   "cell_type": "code",
   "execution_count": null,
   "id": "fea0387d",
   "metadata": {},
   "outputs": [],
   "source": [
    "for i in range(len(language)):\n",
    "    print(language[i])"
   ]
  },
  {
   "cell_type": "code",
   "execution_count": null,
   "id": "653bb8d2",
   "metadata": {},
   "outputs": [],
   "source": [
    "for i in range(len(language)):\n",
    "    print(language[i])"
   ]
  },
  {
   "cell_type": "markdown",
   "id": "a0c33c62",
   "metadata": {},
   "source": [
    "- For loop with tuple\n",
    "\n",
    "```py\n",
    "# syntax\n",
    "for iterator in tpl:\n",
    "    code goes here\n",
    "```"
   ]
  },
  {
   "cell_type": "code",
   "execution_count": 37,
   "id": "cbb8cc42",
   "metadata": {},
   "outputs": [
    {
     "name": "stdout",
     "output_type": "stream",
     "text": [
      "0\n",
      "1\n",
      "2\n",
      "3\n",
      "4\n",
      "5\n"
     ]
    }
   ],
   "source": [
    "numbers = (0, 1, 2, 3, 4, 5)\n",
    "for number in numbers:\n",
    "    print(number)"
   ]
  },
  {
   "cell_type": "markdown",
   "id": "ed0dca6e",
   "metadata": {},
   "source": [
    "- For loop with dictionary\n",
    "\n",
    "  Looping through a dictionary gives you the key of the dictionary.\n",
    "  \n",
    " \n",
    "```py\n",
    "  # syntax\n",
    "for iterator in dct:\n",
    "    code goes here\n",
    "```"
   ]
  },
  {
   "cell_type": "code",
   "execution_count": 39,
   "id": "d6196ef1",
   "metadata": {},
   "outputs": [],
   "source": [
    "person = {\n",
    "    'first_name':'Asabeneh',\n",
    "    'last_name':'Yetayeh',\n",
    "    'age':250,\n",
    "    'country':'Finland',\n",
    "    'is_marred':True,\n",
    "    'skills':['JavaScript', 'React', 'Node', 'MongoDB', 'Python'],\n",
    "    'address':{\n",
    "        'street':'Space street',\n",
    "        'zipcode':'02210'\n",
    "    }\n",
    "}\n",
    "\n"
   ]
  },
  {
   "cell_type": "code",
   "execution_count": 40,
   "id": "6a7a74c1",
   "metadata": {},
   "outputs": [
    {
     "data": {
      "text/plain": [
       "{'first_name': 'Asabeneh',\n",
       " 'last_name': 'Yetayeh',\n",
       " 'age': 250,\n",
       " 'country': 'Finland',\n",
       " 'is_marred': True,\n",
       " 'skills': ['JavaScript', 'React', 'Node', 'MongoDB', 'Python'],\n",
       " 'address': {'street': 'Space street', 'zipcode': '02210'}}"
      ]
     },
     "execution_count": 40,
     "metadata": {},
     "output_type": "execute_result"
    }
   ],
   "source": [
    "person"
   ]
  },
  {
   "cell_type": "code",
   "execution_count": 41,
   "id": "957263c6",
   "metadata": {},
   "outputs": [
    {
     "name": "stdout",
     "output_type": "stream",
     "text": [
      "first_name\n",
      "last_name\n",
      "age\n",
      "country\n",
      "is_marred\n",
      "skills\n",
      "address\n"
     ]
    }
   ],
   "source": [
    "for key in person:\n",
    "    print(key)"
   ]
  },
  {
   "cell_type": "code",
   "execution_count": 43,
   "id": "d5c686a7",
   "metadata": {},
   "outputs": [
    {
     "data": {
      "text/plain": [
       "dict_values(['Asabeneh', 'Yetayeh', 250, 'Finland', True, ['JavaScript', 'React', 'Node', 'MongoDB', 'Python'], {'street': 'Space street', 'zipcode': '02210'}])"
      ]
     },
     "execution_count": 43,
     "metadata": {},
     "output_type": "execute_result"
    }
   ],
   "source": [
    "person.values()"
   ]
  },
  {
   "cell_type": "code",
   "execution_count": 42,
   "id": "ed07ee27",
   "metadata": {},
   "outputs": [
    {
     "name": "stdout",
     "output_type": "stream",
     "text": [
      "Asabeneh\n",
      "Yetayeh\n",
      "250\n",
      "Finland\n",
      "True\n",
      "['JavaScript', 'React', 'Node', 'MongoDB', 'Python']\n",
      "{'street': 'Space street', 'zipcode': '02210'}\n"
     ]
    }
   ],
   "source": [
    "for value in person.values():\n",
    "    print(value)"
   ]
  },
  {
   "cell_type": "code",
   "execution_count": 44,
   "id": "3aabd875",
   "metadata": {},
   "outputs": [
    {
     "data": {
      "text/plain": [
       "dict_items([('first_name', 'Asabeneh'), ('last_name', 'Yetayeh'), ('age', 250), ('country', 'Finland'), ('is_marred', True), ('skills', ['JavaScript', 'React', 'Node', 'MongoDB', 'Python']), ('address', {'street': 'Space street', 'zipcode': '02210'})])"
      ]
     },
     "execution_count": 44,
     "metadata": {},
     "output_type": "execute_result"
    }
   ],
   "source": [
    "person.items()"
   ]
  },
  {
   "cell_type": "code",
   "execution_count": 45,
   "id": "76e11b28",
   "metadata": {},
   "outputs": [
    {
     "name": "stdout",
     "output_type": "stream",
     "text": [
      "first_name Asabeneh\n",
      "last_name Yetayeh\n",
      "age 250\n",
      "country Finland\n",
      "is_marred True\n",
      "skills ['JavaScript', 'React', 'Node', 'MongoDB', 'Python']\n",
      "address {'street': 'Space street', 'zipcode': '02210'}\n"
     ]
    }
   ],
   "source": [
    "for key, value in person.items():\n",
    "    print(key, value) # this way we get both keys and values printed out"
   ]
  },
  {
   "cell_type": "markdown",
   "id": "0294e740",
   "metadata": {},
   "source": [
    "- Loops in set\n",
    "\n",
    "```py\n",
    "# syntax\n",
    "for iterator in st:\n",
    "    code goes here\n",
    "```"
   ]
  },
  {
   "cell_type": "code",
   "execution_count": 46,
   "id": "668129be",
   "metadata": {},
   "outputs": [
    {
     "name": "stdout",
     "output_type": "stream",
     "text": [
      "Facebook\n",
      "Google\n",
      "IBM\n",
      "Microsoft\n",
      "Oracle\n",
      "Apple\n",
      "Amazon\n"
     ]
    }
   ],
   "source": [
    "it_companies = {'Facebook', 'Google', 'Microsoft', 'Apple', 'IBM', 'Oracle', 'Amazon'}\n",
    "for company in it_companies:\n",
    "    print(company)"
   ]
  },
  {
   "cell_type": "markdown",
   "id": "6c8e6b5c",
   "metadata": {},
   "source": [
    "<a id='break-and-continue-part2'></a>\n",
    "### Break and Continue - Part 2\n",
    "\n",
    "Short reminder:\n",
    "_Break_: We use break when we like to stop our loop before it is completed.\n",
    "\n",
    "```py\n",
    "# syntax\n",
    "for iterator in sequence:\n",
    "    code goes here\n",
    "    if condition:\n",
    "        break\n",
    "```"
   ]
  },
  {
   "cell_type": "code",
   "execution_count": 50,
   "id": "20e21c5e",
   "metadata": {},
   "outputs": [
    {
     "name": "stdout",
     "output_type": "stream",
     "text": [
      "0\n",
      "1\n",
      "2\n",
      "3\n",
      "4\n",
      "5\n"
     ]
    }
   ],
   "source": [
    "numbers = (0,1,2,3,4,5)\n",
    "for number in numbers:\n",
    "    print(number)"
   ]
  },
  {
   "cell_type": "code",
   "execution_count": 52,
   "id": "bd53b68a",
   "metadata": {},
   "outputs": [
    {
     "name": "stdout",
     "output_type": "stream",
     "text": [
      "0\n",
      "1\n",
      "2\n",
      "3\n",
      "4\n",
      "5\n"
     ]
    }
   ],
   "source": [
    "numbers = (0,1,2,3,4,5)\n",
    "for number in numbers:\n",
    "    print(number)"
   ]
  },
  {
   "cell_type": "code",
   "execution_count": 53,
   "id": "cee27494",
   "metadata": {},
   "outputs": [
    {
     "name": "stdout",
     "output_type": "stream",
     "text": [
      "0\n",
      "1\n",
      "2\n",
      "3\n"
     ]
    }
   ],
   "source": [
    "numbers = (0,1,2,3,4,5)\n",
    "for number in numbers:\n",
    "    print(number)\n",
    "    if number == 3:\n",
    "        break"
   ]
  },
  {
   "cell_type": "code",
   "execution_count": 48,
   "id": "c4124f50",
   "metadata": {},
   "outputs": [
    {
     "name": "stdout",
     "output_type": "stream",
     "text": [
      "0\n",
      "1\n",
      "2\n"
     ]
    }
   ],
   "source": [
    "numbers = (0,1,2,3,4,5)\n",
    "for number in numbers:\n",
    "    print(number)\n",
    "    if number == 2:\n",
    "        break"
   ]
  },
  {
   "cell_type": "code",
   "execution_count": 49,
   "id": "995957e0",
   "metadata": {},
   "outputs": [
    {
     "name": "stdout",
     "output_type": "stream",
     "text": [
      "0\n",
      "1\n",
      "43532\n",
      "43532\n",
      "4\n",
      "5\n"
     ]
    }
   ],
   "source": [
    "numbers = (0,1,43532,43532,4,5)\n",
    "for number in numbers:\n",
    "    print(number)\n",
    "    if number == 2:\n",
    "        break"
   ]
  },
  {
   "cell_type": "markdown",
   "id": "44285f0c",
   "metadata": {},
   "source": [
    "In the above example, the loop stops when it reaches 3.\n",
    "\n",
    "Continue: We use continue when we like to skip some of the steps in the iteration of the loop.\n",
    "\n",
    "```py\n",
    "  # syntax\n",
    "for iterator in sequence:\n",
    "    code goes here\n",
    "    if condition:\n",
    "        continue\n",
    "```"
   ]
  },
  {
   "cell_type": "code",
   "execution_count": 54,
   "id": "10ecaaca",
   "metadata": {
    "collapsed": true
   },
   "outputs": [
    {
     "name": "stdout",
     "output_type": "stream",
     "text": [
      "1\n",
      "3\n",
      "5\n",
      "7\n",
      "9\n"
     ]
    }
   ],
   "source": [
    "numbers = [1, 2, 3, 4, 5, 6, 7, 8, 9, 10]\n",
    "for number in numbers:\n",
    "    if number % 2 == 0:\n",
    "        continue  # Skip even numbers\n",
    "    print(number)\n"
   ]
  },
  {
   "cell_type": "code",
   "execution_count": 56,
   "id": "2772e4d1",
   "metadata": {
    "collapsed": true
   },
   "outputs": [
    {
     "name": "stdout",
     "output_type": "stream",
     "text": [
      "2\n",
      "4\n",
      "6\n",
      "8\n",
      "10\n"
     ]
    }
   ],
   "source": [
    "numbers = [1, 2, 3, 4, 5, 6, 7, 8, 9, 10]\n",
    "for number in numbers:\n",
    "    if number % 2 == 1:\n",
    "        continue  # Skip odd numbers\n",
    "    print(number)"
   ]
  },
  {
   "cell_type": "code",
   "execution_count": null,
   "id": "8c8b36f2",
   "metadata": {},
   "outputs": [],
   "source": [
    "numbers = (0,1,2,3,4,5)\n",
    "for number in numbers:\n",
    "    print(number)\n",
    "    if number == 3:\n",
    "        continue\n",
    "    print('Next number should be ', number + 1) if number != 5 else print(\"loop's end\") # for short hand conditions need both if and else statements\n",
    "print('outside the loop')"
   ]
  },
  {
   "cell_type": "code",
   "execution_count": 57,
   "id": "ef2e2ac5",
   "metadata": {
    "collapsed": true
   },
   "outputs": [
    {
     "name": "stdout",
     "output_type": "stream",
     "text": [
      "0\n",
      "1\n",
      "2\n",
      "3\n",
      "4\n",
      "5\n"
     ]
    }
   ],
   "source": [
    "numbers = (0,1,2,3,4,5)\n",
    "for number in numbers:\n",
    "    print(number)"
   ]
  },
  {
   "cell_type": "code",
   "execution_count": 58,
   "id": "b52a6f76",
   "metadata": {
    "collapsed": true
   },
   "outputs": [
    {
     "name": "stdout",
     "output_type": "stream",
     "text": [
      "0\n",
      "1\n",
      "2\n",
      "3\n",
      "4\n",
      "5\n"
     ]
    }
   ],
   "source": [
    "numbers = (0,1,2,3,4,5)\n",
    "for number in numbers:\n",
    "    print(number)\n",
    "    if number == 3:\n",
    "        continue"
   ]
  },
  {
   "cell_type": "markdown",
   "id": "122fd3a7",
   "metadata": {},
   "source": [
    "In the example above, if the number equals 3, the step *after* the condition (but inside the loop) is skipped and the execution of the loop continues if there are any iterations left.\n"
   ]
  },
  {
   "cell_type": "markdown",
   "id": "f457ce32",
   "metadata": {},
   "source": [
    "<a id='the-range-function'></a>\n",
    "### The Range Function\n",
    "\n",
    "The _range()_ function is used list of numbers. The _range(start, end, step)_ takes three parameters: starting, ending and increment. By default it starts from 0 and the increment is 1. The range sequence needs at least 1 argument (end).\n",
    "Creating sequences using range\n"
   ]
  },
  {
   "cell_type": "markdown",
   "id": "018a3b9c",
   "metadata": {},
   "source": [
    "\n",
    "```py\n",
    "# syntax\n",
    "for iterator in range(start, end, step):\n",
    "```"
   ]
  },
  {
   "cell_type": "code",
   "execution_count": 60,
   "id": "226c2e55",
   "metadata": {},
   "outputs": [
    {
     "data": {
      "text/plain": [
       "range(0, 11)"
      ]
     },
     "execution_count": 60,
     "metadata": {},
     "output_type": "execute_result"
    }
   ],
   "source": [
    "range(11)"
   ]
  },
  {
   "cell_type": "code",
   "execution_count": 63,
   "id": "a0da76a7",
   "metadata": {},
   "outputs": [
    {
     "data": {
      "text/plain": [
       "[1, 2, 3]"
      ]
     },
     "execution_count": 63,
     "metadata": {},
     "output_type": "execute_result"
    }
   ],
   "source": [
    "number = [1, 2, 3,4,5]\n",
    "number[:3]"
   ]
  },
  {
   "cell_type": "code",
   "execution_count": 64,
   "id": "291b2608",
   "metadata": {},
   "outputs": [
    {
     "data": {
      "text/plain": [
       "[1, 2, 3]"
      ]
     },
     "execution_count": 64,
     "metadata": {},
     "output_type": "execute_result"
    }
   ],
   "source": [
    "number[0:3]"
   ]
  },
  {
   "cell_type": "code",
   "execution_count": 59,
   "id": "7d43f0cc",
   "metadata": {},
   "outputs": [
    {
     "name": "stdout",
     "output_type": "stream",
     "text": [
      "0\n",
      "1\n",
      "2\n",
      "3\n",
      "4\n",
      "5\n",
      "6\n",
      "7\n",
      "8\n",
      "9\n",
      "10\n"
     ]
    }
   ],
   "source": [
    "for number in range(11):\n",
    "    print(number)   # prints 0 to 10, not including 11"
   ]
  },
  {
   "cell_type": "code",
   "execution_count": 66,
   "id": "17c8a72d",
   "metadata": {},
   "outputs": [],
   "source": [
    "my_tuple = (1, 2, 3, 4, 5)\n",
    "my_list = list(my_tuple)"
   ]
  },
  {
   "cell_type": "code",
   "execution_count": 67,
   "id": "3ff34005",
   "metadata": {},
   "outputs": [
    {
     "data": {
      "text/plain": [
       "[1, 2, 3, 4, 5]"
      ]
     },
     "execution_count": 67,
     "metadata": {},
     "output_type": "execute_result"
    }
   ],
   "source": [
    "my_list"
   ]
  },
  {
   "cell_type": "code",
   "execution_count": 71,
   "id": "420306a9",
   "metadata": {},
   "outputs": [
    {
     "name": "stdout",
     "output_type": "stream",
     "text": [
      "1\n",
      "2\n",
      "4\n",
      "5\n"
     ]
    }
   ],
   "source": [
    "for num in range(1, 6):\n",
    "    if num == 3:\n",
    "        continue\n",
    "    print(num)\n"
   ]
  },
  {
   "cell_type": "code",
   "execution_count": 80,
   "id": "185f0ac1",
   "metadata": {},
   "outputs": [],
   "source": [
    "for num in range(1, 11):\n",
    "    if num %2 ==0:\n",
    "        continue\n",
    "    if num == 1:\n",
    "        break\n",
    "    print(num)"
   ]
  },
  {
   "cell_type": "code",
   "execution_count": 81,
   "id": "ca3ea810",
   "metadata": {},
   "outputs": [
    {
     "name": "stdout",
     "output_type": "stream",
     "text": [
      "1\n"
     ]
    }
   ],
   "source": [
    "for num in range(1, 11):\n",
    "    print(num)\n",
    "    if num %2 ==0:\n",
    "        continue\n",
    "    if num == 1:\n",
    "        break\n",
    "    "
   ]
  },
  {
   "cell_type": "code",
   "execution_count": 72,
   "id": "5b14e663",
   "metadata": {},
   "outputs": [
    {
     "name": "stdout",
     "output_type": "stream",
     "text": [
      "1\n",
      "3\n",
      "5\n",
      "7\n",
      "9\n"
     ]
    }
   ],
   "source": [
    "for num in range(1, 11):\n",
    "    if num % 2 == 0:\n",
    "        continue\n",
    "    print(num)"
   ]
  },
  {
   "cell_type": "code",
   "execution_count": 83,
   "id": "29a34ede",
   "metadata": {},
   "outputs": [
    {
     "name": "stdout",
     "output_type": "stream",
     "text": [
      "1\n",
      "2\n"
     ]
    }
   ],
   "source": [
    "for num in range(1, 11):\n",
    "    print(num)\n",
    "    if num % 2 == 0:\n",
    "        break"
   ]
  },
  {
   "cell_type": "code",
   "execution_count": 75,
   "id": "8ccac9d7",
   "metadata": {},
   "outputs": [
    {
     "name": "stdout",
     "output_type": "stream",
     "text": [
      "1\n",
      "2\n"
     ]
    }
   ],
   "source": [
    "for num in range(1, 11):\n",
    "    print(num)\n",
    "    if num % 2 == 0:\n",
    "        break"
   ]
  },
  {
   "cell_type": "code",
   "execution_count": 68,
   "id": "3e28057d",
   "metadata": {},
   "outputs": [
    {
     "name": "stdout",
     "output_type": "stream",
     "text": [
      "[0, 1, 2, 3, 4, 5, 6, 7, 8, 9, 10]\n"
     ]
    }
   ],
   "source": [
    "lst = list(range(11)) \n",
    "print(lst) # [0, 1, 2, 3, 4, 5, 6, 7, 8, 9, 10]"
   ]
  },
  {
   "cell_type": "code",
   "execution_count": 69,
   "id": "78b55ed8",
   "metadata": {},
   "outputs": [
    {
     "name": "stdout",
     "output_type": "stream",
     "text": [
      "{1, 2, 3, 4, 5, 6, 7, 8, 9, 10}\n"
     ]
    }
   ],
   "source": [
    "st = set(range(1, 11))    # 2 arguments indicate start and end of the sequence, step set to default 1\n",
    "print(st) # {1, 2, 3, 4, 5, 6, 7, 8, 9, 10}"
   ]
  },
  {
   "cell_type": "code",
   "execution_count": 70,
   "id": "df32f179",
   "metadata": {},
   "outputs": [
    {
     "name": "stdout",
     "output_type": "stream",
     "text": [
      "[0, 2, 4, 6, 8, 10]\n",
      "{0, 2, 4, 6, 8, 10}\n"
     ]
    }
   ],
   "source": [
    "lst = list(range(0,11,2))\n",
    "print(lst) # [0, 2, 4, 6, 8, 10]\n",
    "st = set(range(0,11,2))\n",
    "print(st) #  {0, 2, 4, 6, 8, 10}"
   ]
  },
  {
   "cell_type": "markdown",
   "id": "897294b5",
   "metadata": {},
   "source": [
    "<a id='nested-for-loop'></a>\n",
    "### Nested For Loop\n",
    "\n",
    "We can write loops inside a loop.\n",
    "\n",
    "```py\n",
    "# syntax\n",
    "for x in y:\n",
    "    for t in x:\n",
    "        print(t)\n",
    "```"
   ]
  },
  {
   "cell_type": "code",
   "execution_count": null,
   "id": "ddd08704",
   "metadata": {},
   "outputs": [],
   "source": [
    "person = {\n",
    "    'first_name': 'Asabeneh',\n",
    "    'last_name': 'Yetayeh',\n",
    "    'age': 250,\n",
    "    'country': 'Finland',\n",
    "    'is_marred': True,\n",
    "    'skills': ['JavaScript', 'React', 'Node', 'MongoDB', 'Python'],\n",
    "    'address': {\n",
    "        'street': 'Space street',\n",
    "        'zipcode': '02210'\n",
    "    }\n",
    "}\n",
    "for key in person:\n",
    "    if key == 'skills':\n",
    "        for skill in person['skills']:\n",
    "            print(skill)"
   ]
  },
  {
   "cell_type": "markdown",
   "id": "308cd11b",
   "metadata": {},
   "source": [
    "<a id='for-else'></a>\n",
    "### For Else\n",
    "\n",
    "If we want to execute some message when the loop ends, we use else.\n",
    "\n",
    "```py\n",
    "# syntax\n",
    "for iterator in range(start, end, step):\n",
    "    do something\n",
    "else:\n",
    "    print('The loop ended')\n",
    "```"
   ]
  },
  {
   "cell_type": "code",
   "execution_count": null,
   "id": "a7403299",
   "metadata": {},
   "outputs": [],
   "source": [
    "for number in range(11):\n",
    "    print(number)   # prints 0 to 10, not including 11\n",
    "else:\n",
    "    print('The loop stops at', number)"
   ]
  },
  {
   "cell_type": "markdown",
   "id": "d915d4e0",
   "metadata": {},
   "source": [
    "<a id='pass'></a>\n",
    "### Pass\n",
    "\n",
    "In python when statement is required (after semicolon), but we don't like to execute any code there, we can write the word _pass_ to avoid errors. Also we can use it as a placeholder, for future statements.\n"
   ]
  },
  {
   "cell_type": "code",
   "execution_count": null,
   "id": "6ff81019",
   "metadata": {},
   "outputs": [],
   "source": [
    "for number in range(6):\n",
    "    pass"
   ]
  },
  {
   "cell_type": "markdown",
   "id": "805b8e16",
   "metadata": {},
   "source": [
    "<a href=\"#toc\" role=\"button\" aria-pressed=\"true\" >⬆️Back to Table of Contents ⬆️</a>"
   ]
  },
  {
   "cell_type": "code",
   "execution_count": null,
   "id": "4d9decb5",
   "metadata": {},
   "outputs": [],
   "source": []
  }
 ],
 "metadata": {
  "kernelspec": {
   "display_name": "Python 3 (ipykernel)",
   "language": "python",
   "name": "python3"
  },
  "language_info": {
   "codemirror_mode": {
    "name": "ipython",
    "version": 3
   },
   "file_extension": ".py",
   "mimetype": "text/x-python",
   "name": "python",
   "nbconvert_exporter": "python",
   "pygments_lexer": "ipython3",
   "version": "3.11.5"
  }
 },
 "nbformat": 4,
 "nbformat_minor": 5
}
